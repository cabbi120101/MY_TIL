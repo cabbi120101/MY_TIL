{
  "cells": [
    {
      "cell_type": "markdown",
      "metadata": {
        "id": "s_aByULdJrV0"
      },
      "source": [
        "### 패키지 설치"
      ]
    },
    {
      "cell_type": "code",
      "execution_count": 24,
      "metadata": {
        "colab": {
          "base_uri": "https://localhost:8080/"
        },
        "collapsed": true,
        "id": "xjxsvZUwJcs0",
        "outputId": "e1385f55-4fa6-4bde-c2c9-18bd702dba34"
      },
      "outputs": [
        {
          "name": "stdout",
          "output_type": "stream",
          "text": [
            "Requirement already satisfied: torch in c:\\users\\ssafy\\appdata\\local\\packages\\pythonsoftwarefoundation.python.3.11_qbz5n2kfra8p0\\localcache\\local-packages\\python311\\site-packages (2.4.0)\n",
            "Requirement already satisfied: torchvision in c:\\users\\ssafy\\appdata\\local\\packages\\pythonsoftwarefoundation.python.3.11_qbz5n2kfra8p0\\localcache\\local-packages\\python311\\site-packages (0.19.0)\n",
            "Requirement already satisfied: torchaudio in c:\\users\\ssafy\\appdata\\local\\packages\\pythonsoftwarefoundation.python.3.11_qbz5n2kfra8p0\\localcache\\local-packages\\python311\\site-packages (2.4.0)\n",
            "Requirement already satisfied: transformers in c:\\users\\ssafy\\appdata\\local\\packages\\pythonsoftwarefoundation.python.3.11_qbz5n2kfra8p0\\localcache\\local-packages\\python311\\site-packages (4.43.2)\n",
            "Requirement already satisfied: datasets in c:\\users\\ssafy\\appdata\\local\\packages\\pythonsoftwarefoundation.python.3.11_qbz5n2kfra8p0\\localcache\\local-packages\\python311\\site-packages (2.20.0)\n",
            "Requirement already satisfied: filelock in c:\\users\\ssafy\\appdata\\local\\packages\\pythonsoftwarefoundation.python.3.11_qbz5n2kfra8p0\\localcache\\local-packages\\python311\\site-packages (from torch) (3.15.4)\n",
            "Requirement already satisfied: typing-extensions>=4.8.0 in c:\\users\\ssafy\\appdata\\local\\packages\\pythonsoftwarefoundation.python.3.11_qbz5n2kfra8p0\\localcache\\local-packages\\python311\\site-packages (from torch) (4.12.2)\n",
            "Requirement already satisfied: sympy in c:\\users\\ssafy\\appdata\\local\\packages\\pythonsoftwarefoundation.python.3.11_qbz5n2kfra8p0\\localcache\\local-packages\\python311\\site-packages (from torch) (1.13.1)\n",
            "Requirement already satisfied: networkx in c:\\users\\ssafy\\appdata\\local\\packages\\pythonsoftwarefoundation.python.3.11_qbz5n2kfra8p0\\localcache\\local-packages\\python311\\site-packages (from torch) (3.3)\n",
            "Requirement already satisfied: jinja2 in c:\\users\\ssafy\\appdata\\local\\packages\\pythonsoftwarefoundation.python.3.11_qbz5n2kfra8p0\\localcache\\local-packages\\python311\\site-packages (from torch) (3.1.4)\n",
            "Requirement already satisfied: fsspec in c:\\users\\ssafy\\appdata\\local\\packages\\pythonsoftwarefoundation.python.3.11_qbz5n2kfra8p0\\localcache\\local-packages\\python311\\site-packages (from torch) (2024.5.0)\n",
            "Requirement already satisfied: numpy<2 in c:\\users\\ssafy\\appdata\\local\\packages\\pythonsoftwarefoundation.python.3.11_qbz5n2kfra8p0\\localcache\\local-packages\\python311\\site-packages (from torchvision) (1.26.4)\n",
            "Requirement already satisfied: pillow!=8.3.*,>=5.3.0 in c:\\users\\ssafy\\appdata\\local\\packages\\pythonsoftwarefoundation.python.3.11_qbz5n2kfra8p0\\localcache\\local-packages\\python311\\site-packages (from torchvision) (10.4.0)\n",
            "Requirement already satisfied: huggingface-hub<1.0,>=0.23.2 in c:\\users\\ssafy\\appdata\\local\\packages\\pythonsoftwarefoundation.python.3.11_qbz5n2kfra8p0\\localcache\\local-packages\\python311\\site-packages (from transformers) (0.24.2)\n",
            "Requirement already satisfied: packaging>=20.0 in c:\\users\\ssafy\\appdata\\local\\packages\\pythonsoftwarefoundation.python.3.11_qbz5n2kfra8p0\\localcache\\local-packages\\python311\\site-packages (from transformers) (24.1)\n",
            "Requirement already satisfied: pyyaml>=5.1 in c:\\users\\ssafy\\appdata\\local\\packages\\pythonsoftwarefoundation.python.3.11_qbz5n2kfra8p0\\localcache\\local-packages\\python311\\site-packages (from transformers) (6.0.1)\n",
            "Requirement already satisfied: regex!=2019.12.17 in c:\\users\\ssafy\\appdata\\local\\packages\\pythonsoftwarefoundation.python.3.11_qbz5n2kfra8p0\\localcache\\local-packages\\python311\\site-packages (from transformers) (2024.7.24)\n",
            "Requirement already satisfied: requests in c:\\users\\ssafy\\appdata\\local\\packages\\pythonsoftwarefoundation.python.3.11_qbz5n2kfra8p0\\localcache\\local-packages\\python311\\site-packages (from transformers) (2.32.3)\n",
            "Requirement already satisfied: tokenizers<0.20,>=0.19 in c:\\users\\ssafy\\appdata\\local\\packages\\pythonsoftwarefoundation.python.3.11_qbz5n2kfra8p0\\localcache\\local-packages\\python311\\site-packages (from transformers) (0.19.1)\n",
            "Requirement already satisfied: safetensors>=0.4.1 in c:\\users\\ssafy\\appdata\\local\\packages\\pythonsoftwarefoundation.python.3.11_qbz5n2kfra8p0\\localcache\\local-packages\\python311\\site-packages (from transformers) (0.4.3)\n",
            "Requirement already satisfied: tqdm>=4.27 in c:\\users\\ssafy\\appdata\\local\\packages\\pythonsoftwarefoundation.python.3.11_qbz5n2kfra8p0\\localcache\\local-packages\\python311\\site-packages (from transformers) (4.66.4)\n",
            "Requirement already satisfied: pyarrow>=15.0.0 in c:\\users\\ssafy\\appdata\\local\\packages\\pythonsoftwarefoundation.python.3.11_qbz5n2kfra8p0\\localcache\\local-packages\\python311\\site-packages (from datasets) (17.0.0)\n",
            "Requirement already satisfied: pyarrow-hotfix in c:\\users\\ssafy\\appdata\\local\\packages\\pythonsoftwarefoundation.python.3.11_qbz5n2kfra8p0\\localcache\\local-packages\\python311\\site-packages (from datasets) (0.6)\n",
            "Requirement already satisfied: dill<0.3.9,>=0.3.0 in c:\\users\\ssafy\\appdata\\local\\packages\\pythonsoftwarefoundation.python.3.11_qbz5n2kfra8p0\\localcache\\local-packages\\python311\\site-packages (from datasets) (0.3.8)\n",
            "Requirement already satisfied: pandas in c:\\users\\ssafy\\appdata\\local\\packages\\pythonsoftwarefoundation.python.3.11_qbz5n2kfra8p0\\localcache\\local-packages\\python311\\site-packages (from datasets) (2.2.2)\n",
            "Requirement already satisfied: xxhash in c:\\users\\ssafy\\appdata\\local\\packages\\pythonsoftwarefoundation.python.3.11_qbz5n2kfra8p0\\localcache\\local-packages\\python311\\site-packages (from datasets) (3.4.1)\n",
            "Requirement already satisfied: multiprocess in c:\\users\\ssafy\\appdata\\local\\packages\\pythonsoftwarefoundation.python.3.11_qbz5n2kfra8p0\\localcache\\local-packages\\python311\\site-packages (from datasets) (0.70.16)\n",
            "Requirement already satisfied: aiohttp in c:\\users\\ssafy\\appdata\\local\\packages\\pythonsoftwarefoundation.python.3.11_qbz5n2kfra8p0\\localcache\\local-packages\\python311\\site-packages (from datasets) (3.9.5)\n",
            "Requirement already satisfied: aiosignal>=1.1.2 in c:\\users\\ssafy\\appdata\\local\\packages\\pythonsoftwarefoundation.python.3.11_qbz5n2kfra8p0\\localcache\\local-packages\\python311\\site-packages (from aiohttp->datasets) (1.3.1)\n",
            "Requirement already satisfied: attrs>=17.3.0 in c:\\users\\ssafy\\appdata\\local\\packages\\pythonsoftwarefoundation.python.3.11_qbz5n2kfra8p0\\localcache\\local-packages\\python311\\site-packages (from aiohttp->datasets) (23.2.0)\n",
            "Requirement already satisfied: frozenlist>=1.1.1 in c:\\users\\ssafy\\appdata\\local\\packages\\pythonsoftwarefoundation.python.3.11_qbz5n2kfra8p0\\localcache\\local-packages\\python311\\site-packages (from aiohttp->datasets) (1.4.1)\n",
            "Requirement already satisfied: multidict<7.0,>=4.5 in c:\\users\\ssafy\\appdata\\local\\packages\\pythonsoftwarefoundation.python.3.11_qbz5n2kfra8p0\\localcache\\local-packages\\python311\\site-packages (from aiohttp->datasets) (6.0.5)\n",
            "Requirement already satisfied: yarl<2.0,>=1.0 in c:\\users\\ssafy\\appdata\\local\\packages\\pythonsoftwarefoundation.python.3.11_qbz5n2kfra8p0\\localcache\\local-packages\\python311\\site-packages (from aiohttp->datasets) (1.9.4)\n",
            "Requirement already satisfied: charset-normalizer<4,>=2 in c:\\users\\ssafy\\appdata\\local\\packages\\pythonsoftwarefoundation.python.3.11_qbz5n2kfra8p0\\localcache\\local-packages\\python311\\site-packages (from requests->transformers) (3.3.2)\n",
            "Requirement already satisfied: idna<4,>=2.5 in c:\\users\\ssafy\\appdata\\local\\packages\\pythonsoftwarefoundation.python.3.11_qbz5n2kfra8p0\\localcache\\local-packages\\python311\\site-packages (from requests->transformers) (3.7)\n",
            "Requirement already satisfied: urllib3<3,>=1.21.1 in c:\\users\\ssafy\\appdata\\local\\packages\\pythonsoftwarefoundation.python.3.11_qbz5n2kfra8p0\\localcache\\local-packages\\python311\\site-packages (from requests->transformers) (2.2.2)\n",
            "Requirement already satisfied: certifi>=2017.4.17 in c:\\users\\ssafy\\appdata\\local\\packages\\pythonsoftwarefoundation.python.3.11_qbz5n2kfra8p0\\localcache\\local-packages\\python311\\site-packages (from requests->transformers) (2024.7.4)\n",
            "Requirement already satisfied: colorama in c:\\users\\ssafy\\appdata\\local\\packages\\pythonsoftwarefoundation.python.3.11_qbz5n2kfra8p0\\localcache\\local-packages\\python311\\site-packages (from tqdm>=4.27->transformers) (0.4.6)\n",
            "Requirement already satisfied: MarkupSafe>=2.0 in c:\\users\\ssafy\\appdata\\local\\packages\\pythonsoftwarefoundation.python.3.11_qbz5n2kfra8p0\\localcache\\local-packages\\python311\\site-packages (from jinja2->torch) (2.1.5)\n",
            "Requirement already satisfied: python-dateutil>=2.8.2 in c:\\users\\ssafy\\appdata\\local\\packages\\pythonsoftwarefoundation.python.3.11_qbz5n2kfra8p0\\localcache\\local-packages\\python311\\site-packages (from pandas->datasets) (2.9.0.post0)\n",
            "Requirement already satisfied: pytz>=2020.1 in c:\\users\\ssafy\\appdata\\local\\packages\\pythonsoftwarefoundation.python.3.11_qbz5n2kfra8p0\\localcache\\local-packages\\python311\\site-packages (from pandas->datasets) (2024.1)\n",
            "Requirement already satisfied: tzdata>=2022.7 in c:\\users\\ssafy\\appdata\\local\\packages\\pythonsoftwarefoundation.python.3.11_qbz5n2kfra8p0\\localcache\\local-packages\\python311\\site-packages (from pandas->datasets) (2024.1)\n",
            "Requirement already satisfied: mpmath<1.4,>=1.1.0 in c:\\users\\ssafy\\appdata\\local\\packages\\pythonsoftwarefoundation.python.3.11_qbz5n2kfra8p0\\localcache\\local-packages\\python311\\site-packages (from sympy->torch) (1.3.0)\n",
            "Requirement already satisfied: six>=1.5 in c:\\users\\ssafy\\appdata\\local\\packages\\pythonsoftwarefoundation.python.3.11_qbz5n2kfra8p0\\localcache\\local-packages\\python311\\site-packages (from python-dateutil>=2.8.2->pandas->datasets) (1.16.0)\n",
            "Requirement already satisfied: flask in c:\\users\\ssafy\\appdata\\local\\packages\\pythonsoftwarefoundation.python.3.11_qbz5n2kfra8p0\\localcache\\local-packages\\python311\\site-packages (3.0.3)\n",
            "Requirement already satisfied: flask-cors in c:\\users\\ssafy\\appdata\\local\\packages\\pythonsoftwarefoundation.python.3.11_qbz5n2kfra8p0\\localcache\\local-packages\\python311\\site-packages (4.0.1)\n",
            "Requirement already satisfied: Werkzeug>=3.0.0 in c:\\users\\ssafy\\appdata\\local\\packages\\pythonsoftwarefoundation.python.3.11_qbz5n2kfra8p0\\localcache\\local-packages\\python311\\site-packages (from flask) (3.0.3)\n",
            "Requirement already satisfied: Jinja2>=3.1.2 in c:\\users\\ssafy\\appdata\\local\\packages\\pythonsoftwarefoundation.python.3.11_qbz5n2kfra8p0\\localcache\\local-packages\\python311\\site-packages (from flask) (3.1.4)\n",
            "Requirement already satisfied: itsdangerous>=2.1.2 in c:\\users\\ssafy\\appdata\\local\\packages\\pythonsoftwarefoundation.python.3.11_qbz5n2kfra8p0\\localcache\\local-packages\\python311\\site-packages (from flask) (2.2.0)\n",
            "Requirement already satisfied: click>=8.1.3 in c:\\users\\ssafy\\appdata\\local\\packages\\pythonsoftwarefoundation.python.3.11_qbz5n2kfra8p0\\localcache\\local-packages\\python311\\site-packages (from flask) (8.1.7)\n",
            "Requirement already satisfied: blinker>=1.6.2 in c:\\users\\ssafy\\appdata\\local\\packages\\pythonsoftwarefoundation.python.3.11_qbz5n2kfra8p0\\localcache\\local-packages\\python311\\site-packages (from flask) (1.8.2)\n",
            "Requirement already satisfied: colorama in c:\\users\\ssafy\\appdata\\local\\packages\\pythonsoftwarefoundation.python.3.11_qbz5n2kfra8p0\\localcache\\local-packages\\python311\\site-packages (from click>=8.1.3->flask) (0.4.6)\n",
            "Requirement already satisfied: MarkupSafe>=2.0 in c:\\users\\ssafy\\appdata\\local\\packages\\pythonsoftwarefoundation.python.3.11_qbz5n2kfra8p0\\localcache\\local-packages\\python311\\site-packages (from Jinja2>=3.1.2->flask) (2.1.5)\n",
            "Requirement already satisfied: torch in c:\\users\\ssafy\\appdata\\local\\packages\\pythonsoftwarefoundation.python.3.11_qbz5n2kfra8p0\\localcache\\local-packages\\python311\\site-packages (2.4.0)\n",
            "Requirement already satisfied: filelock in c:\\users\\ssafy\\appdata\\local\\packages\\pythonsoftwarefoundation.python.3.11_qbz5n2kfra8p0\\localcache\\local-packages\\python311\\site-packages (from torch) (3.15.4)\n",
            "Requirement already satisfied: typing-extensions>=4.8.0 in c:\\users\\ssafy\\appdata\\local\\packages\\pythonsoftwarefoundation.python.3.11_qbz5n2kfra8p0\\localcache\\local-packages\\python311\\site-packages (from torch) (4.12.2)\n",
            "Requirement already satisfied: sympy in c:\\users\\ssafy\\appdata\\local\\packages\\pythonsoftwarefoundation.python.3.11_qbz5n2kfra8p0\\localcache\\local-packages\\python311\\site-packages (from torch) (1.13.1)\n",
            "Requirement already satisfied: networkx in c:\\users\\ssafy\\appdata\\local\\packages\\pythonsoftwarefoundation.python.3.11_qbz5n2kfra8p0\\localcache\\local-packages\\python311\\site-packages (from torch) (3.3)\n",
            "Requirement already satisfied: jinja2 in c:\\users\\ssafy\\appdata\\local\\packages\\pythonsoftwarefoundation.python.3.11_qbz5n2kfra8p0\\localcache\\local-packages\\python311\\site-packages (from torch) (3.1.4)\n",
            "Requirement already satisfied: fsspec in c:\\users\\ssafy\\appdata\\local\\packages\\pythonsoftwarefoundation.python.3.11_qbz5n2kfra8p0\\localcache\\local-packages\\python311\\site-packages (from torch) (2024.5.0)\n",
            "Requirement already satisfied: MarkupSafe>=2.0 in c:\\users\\ssafy\\appdata\\local\\packages\\pythonsoftwarefoundation.python.3.11_qbz5n2kfra8p0\\localcache\\local-packages\\python311\\site-packages (from jinja2->torch) (2.1.5)\n",
            "Requirement already satisfied: mpmath<1.4,>=1.1.0 in c:\\users\\ssafy\\appdata\\local\\packages\\pythonsoftwarefoundation.python.3.11_qbz5n2kfra8p0\\localcache\\local-packages\\python311\\site-packages (from sympy->torch) (1.3.0)\n"
          ]
        }
      ],
      "source": [
        "!pip install torch torchvision torchaudio transformers datasets\n",
        "!pip install flask flask-cors\n",
        "!pip install torch\n",
        "#!pip install cuDDN\n",
        "#!pip install cuda\n"
      ]
    },
    {
      "cell_type": "code",
      "execution_count": 11,
      "metadata": {},
      "outputs": [
        {
          "name": "stdout",
          "output_type": "stream",
          "text": [
            "Requirement already satisfied: torch in c:\\users\\ssafy\\appdata\\local\\packages\\pythonsoftwarefoundation.python.3.11_qbz5n2kfra8p0\\localcache\\local-packages\\python311\\site-packages (2.4.0+cu118)\n",
            "Requirement already satisfied: ultralytics in c:\\users\\ssafy\\appdata\\local\\packages\\pythonsoftwarefoundation.python.3.11_qbz5n2kfra8p0\\localcache\\local-packages\\python311\\site-packages (8.2.68)\n",
            "Requirement already satisfied: filelock in c:\\users\\ssafy\\appdata\\local\\packages\\pythonsoftwarefoundation.python.3.11_qbz5n2kfra8p0\\localcache\\local-packages\\python311\\site-packages (from torch) (3.15.4)\n",
            "Requirement already satisfied: typing-extensions>=4.8.0 in c:\\users\\ssafy\\appdata\\local\\packages\\pythonsoftwarefoundation.python.3.11_qbz5n2kfra8p0\\localcache\\local-packages\\python311\\site-packages (from torch) (4.12.2)\n",
            "Requirement already satisfied: sympy in c:\\users\\ssafy\\appdata\\local\\packages\\pythonsoftwarefoundation.python.3.11_qbz5n2kfra8p0\\localcache\\local-packages\\python311\\site-packages (from torch) (1.13.1)\n",
            "Requirement already satisfied: networkx in c:\\users\\ssafy\\appdata\\local\\packages\\pythonsoftwarefoundation.python.3.11_qbz5n2kfra8p0\\localcache\\local-packages\\python311\\site-packages (from torch) (3.3)\n",
            "Requirement already satisfied: jinja2 in c:\\users\\ssafy\\appdata\\local\\packages\\pythonsoftwarefoundation.python.3.11_qbz5n2kfra8p0\\localcache\\local-packages\\python311\\site-packages (from torch) (3.1.4)\n",
            "Requirement already satisfied: fsspec in c:\\users\\ssafy\\appdata\\local\\packages\\pythonsoftwarefoundation.python.3.11_qbz5n2kfra8p0\\localcache\\local-packages\\python311\\site-packages (from torch) (2024.5.0)\n",
            "Requirement already satisfied: numpy<2.0.0,>=1.23.0 in c:\\users\\ssafy\\appdata\\local\\packages\\pythonsoftwarefoundation.python.3.11_qbz5n2kfra8p0\\localcache\\local-packages\\python311\\site-packages (from ultralytics) (1.26.4)\n",
            "Requirement already satisfied: matplotlib>=3.3.0 in c:\\users\\ssafy\\appdata\\local\\packages\\pythonsoftwarefoundation.python.3.11_qbz5n2kfra8p0\\localcache\\local-packages\\python311\\site-packages (from ultralytics) (3.9.1)\n",
            "Requirement already satisfied: opencv-python>=4.6.0 in c:\\users\\ssafy\\appdata\\local\\packages\\pythonsoftwarefoundation.python.3.11_qbz5n2kfra8p0\\localcache\\local-packages\\python311\\site-packages (from ultralytics) (4.10.0.84)\n",
            "Requirement already satisfied: pillow>=7.1.2 in c:\\users\\ssafy\\appdata\\local\\packages\\pythonsoftwarefoundation.python.3.11_qbz5n2kfra8p0\\localcache\\local-packages\\python311\\site-packages (from ultralytics) (10.4.0)\n",
            "Requirement already satisfied: pyyaml>=5.3.1 in c:\\users\\ssafy\\appdata\\local\\packages\\pythonsoftwarefoundation.python.3.11_qbz5n2kfra8p0\\localcache\\local-packages\\python311\\site-packages (from ultralytics) (6.0.1)\n",
            "Requirement already satisfied: requests>=2.23.0 in c:\\users\\ssafy\\appdata\\local\\packages\\pythonsoftwarefoundation.python.3.11_qbz5n2kfra8p0\\localcache\\local-packages\\python311\\site-packages (from ultralytics) (2.32.3)\n",
            "Requirement already satisfied: scipy>=1.4.1 in c:\\users\\ssafy\\appdata\\local\\packages\\pythonsoftwarefoundation.python.3.11_qbz5n2kfra8p0\\localcache\\local-packages\\python311\\site-packages (from ultralytics) (1.14.0)\n",
            "Requirement already satisfied: torchvision>=0.9.0 in c:\\users\\ssafy\\appdata\\local\\packages\\pythonsoftwarefoundation.python.3.11_qbz5n2kfra8p0\\localcache\\local-packages\\python311\\site-packages (from ultralytics) (0.19.0+cu118)\n",
            "Requirement already satisfied: tqdm>=4.64.0 in c:\\users\\ssafy\\appdata\\local\\packages\\pythonsoftwarefoundation.python.3.11_qbz5n2kfra8p0\\localcache\\local-packages\\python311\\site-packages (from ultralytics) (4.66.4)\n",
            "Requirement already satisfied: psutil in c:\\users\\ssafy\\appdata\\local\\packages\\pythonsoftwarefoundation.python.3.11_qbz5n2kfra8p0\\localcache\\local-packages\\python311\\site-packages (from ultralytics) (6.0.0)\n",
            "Requirement already satisfied: py-cpuinfo in c:\\users\\ssafy\\appdata\\local\\packages\\pythonsoftwarefoundation.python.3.11_qbz5n2kfra8p0\\localcache\\local-packages\\python311\\site-packages (from ultralytics) (9.0.0)\n",
            "Requirement already satisfied: pandas>=1.1.4 in c:\\users\\ssafy\\appdata\\local\\packages\\pythonsoftwarefoundation.python.3.11_qbz5n2kfra8p0\\localcache\\local-packages\\python311\\site-packages (from ultralytics) (2.2.2)\n",
            "Requirement already satisfied: seaborn>=0.11.0 in c:\\users\\ssafy\\appdata\\local\\packages\\pythonsoftwarefoundation.python.3.11_qbz5n2kfra8p0\\localcache\\local-packages\\python311\\site-packages (from ultralytics) (0.13.2)\n",
            "Requirement already satisfied: ultralytics-thop>=2.0.0 in c:\\users\\ssafy\\appdata\\local\\packages\\pythonsoftwarefoundation.python.3.11_qbz5n2kfra8p0\\localcache\\local-packages\\python311\\site-packages (from ultralytics) (2.0.0)\n",
            "Requirement already satisfied: contourpy>=1.0.1 in c:\\users\\ssafy\\appdata\\local\\packages\\pythonsoftwarefoundation.python.3.11_qbz5n2kfra8p0\\localcache\\local-packages\\python311\\site-packages (from matplotlib>=3.3.0->ultralytics) (1.2.1)\n",
            "Requirement already satisfied: cycler>=0.10 in c:\\users\\ssafy\\appdata\\local\\packages\\pythonsoftwarefoundation.python.3.11_qbz5n2kfra8p0\\localcache\\local-packages\\python311\\site-packages (from matplotlib>=3.3.0->ultralytics) (0.12.1)\n",
            "Requirement already satisfied: fonttools>=4.22.0 in c:\\users\\ssafy\\appdata\\local\\packages\\pythonsoftwarefoundation.python.3.11_qbz5n2kfra8p0\\localcache\\local-packages\\python311\\site-packages (from matplotlib>=3.3.0->ultralytics) (4.53.1)\n",
            "Requirement already satisfied: kiwisolver>=1.3.1 in c:\\users\\ssafy\\appdata\\local\\packages\\pythonsoftwarefoundation.python.3.11_qbz5n2kfra8p0\\localcache\\local-packages\\python311\\site-packages (from matplotlib>=3.3.0->ultralytics) (1.4.5)\n",
            "Requirement already satisfied: packaging>=20.0 in c:\\users\\ssafy\\appdata\\local\\packages\\pythonsoftwarefoundation.python.3.11_qbz5n2kfra8p0\\localcache\\local-packages\\python311\\site-packages (from matplotlib>=3.3.0->ultralytics) (24.1)\n",
            "Requirement already satisfied: pyparsing>=2.3.1 in c:\\users\\ssafy\\appdata\\local\\packages\\pythonsoftwarefoundation.python.3.11_qbz5n2kfra8p0\\localcache\\local-packages\\python311\\site-packages (from matplotlib>=3.3.0->ultralytics) (3.1.2)\n",
            "Requirement already satisfied: python-dateutil>=2.7 in c:\\users\\ssafy\\appdata\\local\\packages\\pythonsoftwarefoundation.python.3.11_qbz5n2kfra8p0\\localcache\\local-packages\\python311\\site-packages (from matplotlib>=3.3.0->ultralytics) (2.9.0.post0)\n",
            "Requirement already satisfied: pytz>=2020.1 in c:\\users\\ssafy\\appdata\\local\\packages\\pythonsoftwarefoundation.python.3.11_qbz5n2kfra8p0\\localcache\\local-packages\\python311\\site-packages (from pandas>=1.1.4->ultralytics) (2024.1)\n",
            "Requirement already satisfied: tzdata>=2022.7 in c:\\users\\ssafy\\appdata\\local\\packages\\pythonsoftwarefoundation.python.3.11_qbz5n2kfra8p0\\localcache\\local-packages\\python311\\site-packages (from pandas>=1.1.4->ultralytics) (2024.1)\n",
            "Requirement already satisfied: charset-normalizer<4,>=2 in c:\\users\\ssafy\\appdata\\local\\packages\\pythonsoftwarefoundation.python.3.11_qbz5n2kfra8p0\\localcache\\local-packages\\python311\\site-packages (from requests>=2.23.0->ultralytics) (3.3.2)\n",
            "Requirement already satisfied: idna<4,>=2.5 in c:\\users\\ssafy\\appdata\\local\\packages\\pythonsoftwarefoundation.python.3.11_qbz5n2kfra8p0\\localcache\\local-packages\\python311\\site-packages (from requests>=2.23.0->ultralytics) (3.7)\n",
            "Requirement already satisfied: urllib3<3,>=1.21.1 in c:\\users\\ssafy\\appdata\\local\\packages\\pythonsoftwarefoundation.python.3.11_qbz5n2kfra8p0\\localcache\\local-packages\\python311\\site-packages (from requests>=2.23.0->ultralytics) (2.2.2)\n",
            "Requirement already satisfied: certifi>=2017.4.17 in c:\\users\\ssafy\\appdata\\local\\packages\\pythonsoftwarefoundation.python.3.11_qbz5n2kfra8p0\\localcache\\local-packages\\python311\\site-packages (from requests>=2.23.0->ultralytics) (2024.7.4)\n",
            "Requirement already satisfied: colorama in c:\\users\\ssafy\\appdata\\local\\packages\\pythonsoftwarefoundation.python.3.11_qbz5n2kfra8p0\\localcache\\local-packages\\python311\\site-packages (from tqdm>=4.64.0->ultralytics) (0.4.6)\n",
            "Requirement already satisfied: MarkupSafe>=2.0 in c:\\users\\ssafy\\appdata\\local\\packages\\pythonsoftwarefoundation.python.3.11_qbz5n2kfra8p0\\localcache\\local-packages\\python311\\site-packages (from jinja2->torch) (2.1.5)\n",
            "Requirement already satisfied: mpmath<1.4,>=1.1.0 in c:\\users\\ssafy\\appdata\\local\\packages\\pythonsoftwarefoundation.python.3.11_qbz5n2kfra8p0\\localcache\\local-packages\\python311\\site-packages (from sympy->torch) (1.3.0)\n",
            "Requirement already satisfied: six>=1.5 in c:\\users\\ssafy\\appdata\\local\\packages\\pythonsoftwarefoundation.python.3.11_qbz5n2kfra8p0\\localcache\\local-packages\\python311\\site-packages (from python-dateutil>=2.7->matplotlib>=3.3.0->ultralytics) (1.16.0)\n"
          ]
        }
      ],
      "source": [
        "!pip install --upgrade torch ultralytics"
      ]
    },
    {
      "cell_type": "code",
      "execution_count": 13,
      "metadata": {},
      "outputs": [
        {
          "name": "stdout",
          "output_type": "stream",
          "text": [
            "Found existing installation: torch 2.4.0+cu118\n",
            "Uninstalling torch-2.4.0+cu118:\n",
            "  Successfully uninstalled torch-2.4.0+cu118\n",
            "Found existing installation: torchvision 0.19.0+cu118\n",
            "Uninstalling torchvision-0.19.0+cu118:\n",
            "  Successfully uninstalled torchvision-0.19.0+cu118\n",
            "Found existing installation: torchaudio 2.4.0+cu118\n",
            "Uninstalling torchaudio-2.4.0+cu118:\n",
            "  Successfully uninstalled torchaudio-2.4.0+cu118\n"
          ]
        },
        {
          "name": "stderr",
          "output_type": "stream",
          "text": [
            "WARNING: Failed to remove contents in a temporary directory 'C:\\Users\\SSAFY\\AppData\\Local\\Packages\\PythonSoftwareFoundation.Python.3.11_qbz5n2kfra8p0\\LocalCache\\local-packages\\Python311\\site-packages\\~.rch'.\n",
            "You can safely remove it manually.\n"
          ]
        },
        {
          "name": "stdout",
          "output_type": "stream",
          "text": [
            "Looking in indexes: https://download.pytorch.org/whl/cu118\n",
            "Collecting torch\n",
            "  Using cached https://download.pytorch.org/whl/cu118/torch-2.4.0%2Bcu118-cp311-cp311-win_amd64.whl (2692.5 MB)\n",
            "Collecting torchvision\n",
            "  Using cached https://download.pytorch.org/whl/cu118/torchvision-0.19.0%2Bcu118-cp311-cp311-win_amd64.whl (5.0 MB)\n",
            "Collecting torchaudio\n",
            "  Using cached https://download.pytorch.org/whl/cu118/torchaudio-2.4.0%2Bcu118-cp311-cp311-win_amd64.whl (4.0 MB)\n",
            "Requirement already satisfied: filelock in c:\\users\\ssafy\\appdata\\local\\packages\\pythonsoftwarefoundation.python.3.11_qbz5n2kfra8p0\\localcache\\local-packages\\python311\\site-packages (from torch) (3.15.4)\n",
            "Requirement already satisfied: typing-extensions>=4.8.0 in c:\\users\\ssafy\\appdata\\local\\packages\\pythonsoftwarefoundation.python.3.11_qbz5n2kfra8p0\\localcache\\local-packages\\python311\\site-packages (from torch) (4.12.2)\n",
            "Requirement already satisfied: sympy in c:\\users\\ssafy\\appdata\\local\\packages\\pythonsoftwarefoundation.python.3.11_qbz5n2kfra8p0\\localcache\\local-packages\\python311\\site-packages (from torch) (1.13.1)\n",
            "Requirement already satisfied: networkx in c:\\users\\ssafy\\appdata\\local\\packages\\pythonsoftwarefoundation.python.3.11_qbz5n2kfra8p0\\localcache\\local-packages\\python311\\site-packages (from torch) (3.3)\n",
            "Requirement already satisfied: jinja2 in c:\\users\\ssafy\\appdata\\local\\packages\\pythonsoftwarefoundation.python.3.11_qbz5n2kfra8p0\\localcache\\local-packages\\python311\\site-packages (from torch) (3.1.4)\n",
            "Requirement already satisfied: fsspec in c:\\users\\ssafy\\appdata\\local\\packages\\pythonsoftwarefoundation.python.3.11_qbz5n2kfra8p0\\localcache\\local-packages\\python311\\site-packages (from torch) (2024.5.0)\n",
            "Requirement already satisfied: numpy in c:\\users\\ssafy\\appdata\\local\\packages\\pythonsoftwarefoundation.python.3.11_qbz5n2kfra8p0\\localcache\\local-packages\\python311\\site-packages (from torchvision) (1.26.4)\n",
            "Requirement already satisfied: pillow!=8.3.*,>=5.3.0 in c:\\users\\ssafy\\appdata\\local\\packages\\pythonsoftwarefoundation.python.3.11_qbz5n2kfra8p0\\localcache\\local-packages\\python311\\site-packages (from torchvision) (10.4.0)\n",
            "Requirement already satisfied: MarkupSafe>=2.0 in c:\\users\\ssafy\\appdata\\local\\packages\\pythonsoftwarefoundation.python.3.11_qbz5n2kfra8p0\\localcache\\local-packages\\python311\\site-packages (from jinja2->torch) (2.1.5)\n",
            "Requirement already satisfied: mpmath<1.4,>=1.1.0 in c:\\users\\ssafy\\appdata\\local\\packages\\pythonsoftwarefoundation.python.3.11_qbz5n2kfra8p0\\localcache\\local-packages\\python311\\site-packages (from sympy->torch) (1.3.0)\n",
            "Installing collected packages: torch, torchvision, torchaudio\n",
            "Successfully installed torch-2.4.0+cu118 torchaudio-2.4.0+cu118 torchvision-0.19.0+cu118\n"
          ]
        }
      ],
      "source": [
        "!pip uninstall torch torchvision torchaudio -y\n",
        "!pip install torch torchvision torchaudio --index-url https://download.pytorch.org/whl/cu118\n"
      ]
    },
    {
      "cell_type": "code",
      "execution_count": 34,
      "metadata": {},
      "outputs": [
        {
          "ename": "NameError",
          "evalue": "name 'torch' is not defined",
          "output_type": "error",
          "traceback": [
            "\u001b[1;31m---------------------------------------------------------------------------\u001b[0m",
            "\u001b[1;31mNameError\u001b[0m                                 Traceback (most recent call last)",
            "Cell \u001b[1;32mIn[34], line 3\u001b[0m\n\u001b[0;32m      1\u001b[0m \u001b[38;5;28;01mimport\u001b[39;00m \u001b[38;5;21;01msys\u001b[39;00m\n\u001b[0;32m      2\u001b[0m \u001b[38;5;66;03m# sys.path.append('C:\\\\CustomPythonPackages')\u001b[39;00m\n\u001b[1;32m----> 3\u001b[0m \u001b[43mtorch\u001b[49m\u001b[38;5;241m.\u001b[39mhub\u001b[38;5;241m.\u001b[39mset_dir(\u001b[38;5;124m'\u001b[39m\u001b[38;5;124mC:\u001b[39m\u001b[38;5;130;01m\\\\\u001b[39;00m\u001b[38;5;124mCustomPythonPackages\u001b[39m\u001b[38;5;124m'\u001b[39m)\n",
            "\u001b[1;31mNameError\u001b[0m: name 'torch' is not defined"
          ]
        }
      ],
      "source": [
        "import sys\n",
        "# sys.path.append('C:\\\\CustomPythonPackages')\n",
        "\n"
      ]
    },
    {
      "cell_type": "markdown",
      "metadata": {
        "id": "7MbNzEmHJu7k"
      },
      "source": [
        "#### import"
      ]
    },
    {
      "cell_type": "code",
      "execution_count": 35,
      "metadata": {
        "id": "oomotksIJuSl"
      },
      "outputs": [
        {
          "ename": "OSError",
          "evalue": "[WinError 126] 지정된 모듈을 찾을 수 없습니다. Error loading \"C:\\Users\\SSAFY\\AppData\\Local\\Packages\\PythonSoftwareFoundation.Python.3.11_qbz5n2kfra8p0\\LocalCache\\local-packages\\Python311\\site-packages\\torch\\lib\\fbgemm.dll\" or one of its dependencies.",
          "output_type": "error",
          "traceback": [
            "\u001b[1;31m---------------------------------------------------------------------------\u001b[0m",
            "\u001b[1;31mOSError\u001b[0m                                   Traceback (most recent call last)",
            "Cell \u001b[1;32mIn[35], line 2\u001b[0m\n\u001b[0;32m      1\u001b[0m \u001b[38;5;28;01mimport\u001b[39;00m \u001b[38;5;21;01mjson\u001b[39;00m\n\u001b[1;32m----> 2\u001b[0m \u001b[38;5;28;01mimport\u001b[39;00m \u001b[38;5;21;01mtorch\u001b[39;00m\n\u001b[0;32m      3\u001b[0m \u001b[38;5;28;01mfrom\u001b[39;00m \u001b[38;5;21;01mtransformers\u001b[39;00m \u001b[38;5;28;01mimport\u001b[39;00m GPT2Tokenizer, GPT2LMHeadModel, GPT2Config, Trainer, TrainingArguments, DataCollatorForLanguageModeling\n\u001b[0;32m      4\u001b[0m \u001b[38;5;28;01mfrom\u001b[39;00m \u001b[38;5;21;01mdatasets\u001b[39;00m \u001b[38;5;28;01mimport\u001b[39;00m Dataset\n",
            "File \u001b[1;32m~\\AppData\\Local\\Packages\\PythonSoftwareFoundation.Python.3.11_qbz5n2kfra8p0\\LocalCache\\local-packages\\Python311\\site-packages\\torch\\__init__.py:148\u001b[0m\n\u001b[0;32m    146\u001b[0m                 err \u001b[38;5;241m=\u001b[39m ctypes\u001b[38;5;241m.\u001b[39mWinError(ctypes\u001b[38;5;241m.\u001b[39mget_last_error())\n\u001b[0;32m    147\u001b[0m                 err\u001b[38;5;241m.\u001b[39mstrerror \u001b[38;5;241m+\u001b[39m\u001b[38;5;241m=\u001b[39m \u001b[38;5;124mf\u001b[39m\u001b[38;5;124m'\u001b[39m\u001b[38;5;124m Error loading \u001b[39m\u001b[38;5;124m\"\u001b[39m\u001b[38;5;132;01m{\u001b[39;00mdll\u001b[38;5;132;01m}\u001b[39;00m\u001b[38;5;124m\"\u001b[39m\u001b[38;5;124m or one of its dependencies.\u001b[39m\u001b[38;5;124m'\u001b[39m\n\u001b[1;32m--> 148\u001b[0m                 \u001b[38;5;28;01mraise\u001b[39;00m err\n\u001b[0;32m    150\u001b[0m     kernel32\u001b[38;5;241m.\u001b[39mSetErrorMode(prev_error_mode)\n\u001b[0;32m    153\u001b[0m \u001b[38;5;28;01mdef\u001b[39;00m \u001b[38;5;21m_preload_cuda_deps\u001b[39m(lib_folder, lib_name):\n",
            "\u001b[1;31mOSError\u001b[0m: [WinError 126] 지정된 모듈을 찾을 수 없습니다. Error loading \"C:\\Users\\SSAFY\\AppData\\Local\\Packages\\PythonSoftwareFoundation.Python.3.11_qbz5n2kfra8p0\\LocalCache\\local-packages\\Python311\\site-packages\\torch\\lib\\fbgemm.dll\" or one of its dependencies."
          ]
        }
      ],
      "source": [
        "import json\n",
        "import torch\n",
        "from transformers import GPT2Tokenizer, GPT2LMHeadModel, GPT2Config, Trainer, TrainingArguments, DataCollatorForLanguageModeling\n",
        "from datasets import Dataset\n",
        "\n",
        "torch.hub.set_dir('C:\\\\CustomPythonPackages')"
      ]
    },
    {
      "cell_type": "markdown",
      "metadata": {
        "id": "Q4c_EgQgJ42E"
      },
      "source": [
        "### 학습 데이터"
      ]
    },
    {
      "cell_type": "code",
      "execution_count": null,
      "metadata": {},
      "outputs": [],
      "source": []
    },
    {
      "cell_type": "markdown",
      "metadata": {
        "id": "92mWwnCyJ8XD"
      },
      "source": [
        "#### 프로젝트 관련 한글"
      ]
    },
    {
      "cell_type": "code",
      "execution_count": 36,
      "metadata": {
        "id": "3yy3UcH6J6NL"
      },
      "outputs": [
        {
          "ename": "OSError",
          "evalue": "[WinError 126] 지정된 모듈을 찾을 수 없습니다. Error loading \"C:\\Users\\SSAFY\\AppData\\Local\\Packages\\PythonSoftwareFoundation.Python.3.11_qbz5n2kfra8p0\\LocalCache\\local-packages\\Python311\\site-packages\\torch\\lib\\fbgemm.dll\" or one of its dependencies.",
          "output_type": "error",
          "traceback": [
            "\u001b[1;31m---------------------------------------------------------------------------\u001b[0m",
            "\u001b[1;31mOSError\u001b[0m                                   Traceback (most recent call last)",
            "Cell \u001b[1;32mIn[36], line 4\u001b[0m\n\u001b[0;32m      2\u001b[0m \u001b[38;5;28;01mimport\u001b[39;00m \u001b[38;5;21;01mrandom\u001b[39;00m\n\u001b[0;32m      3\u001b[0m \u001b[38;5;28;01mimport\u001b[39;00m \u001b[38;5;21;01mjson\u001b[39;00m\n\u001b[1;32m----> 4\u001b[0m \u001b[38;5;28;01mimport\u001b[39;00m \u001b[38;5;21;01mtorch\u001b[39;00m\n\u001b[0;32m      6\u001b[0m \u001b[38;5;66;03m# 다양한 질문과 답변 쌍 생성\u001b[39;00m\n\u001b[0;32m      7\u001b[0m korean_data \u001b[38;5;241m=\u001b[39m []\n",
            "File \u001b[1;32m~\\AppData\\Local\\Packages\\PythonSoftwareFoundation.Python.3.11_qbz5n2kfra8p0\\LocalCache\\local-packages\\Python311\\site-packages\\torch\\__init__.py:148\u001b[0m\n\u001b[0;32m    146\u001b[0m                 err \u001b[38;5;241m=\u001b[39m ctypes\u001b[38;5;241m.\u001b[39mWinError(ctypes\u001b[38;5;241m.\u001b[39mget_last_error())\n\u001b[0;32m    147\u001b[0m                 err\u001b[38;5;241m.\u001b[39mstrerror \u001b[38;5;241m+\u001b[39m\u001b[38;5;241m=\u001b[39m \u001b[38;5;124mf\u001b[39m\u001b[38;5;124m'\u001b[39m\u001b[38;5;124m Error loading \u001b[39m\u001b[38;5;124m\"\u001b[39m\u001b[38;5;132;01m{\u001b[39;00mdll\u001b[38;5;132;01m}\u001b[39;00m\u001b[38;5;124m\"\u001b[39m\u001b[38;5;124m or one of its dependencies.\u001b[39m\u001b[38;5;124m'\u001b[39m\n\u001b[1;32m--> 148\u001b[0m                 \u001b[38;5;28;01mraise\u001b[39;00m err\n\u001b[0;32m    150\u001b[0m     kernel32\u001b[38;5;241m.\u001b[39mSetErrorMode(prev_error_mode)\n\u001b[0;32m    153\u001b[0m \u001b[38;5;28;01mdef\u001b[39;00m \u001b[38;5;21m_preload_cuda_deps\u001b[39m(lib_folder, lib_name):\n",
            "\u001b[1;31mOSError\u001b[0m: [WinError 126] 지정된 모듈을 찾을 수 없습니다. Error loading \"C:\\Users\\SSAFY\\AppData\\Local\\Packages\\PythonSoftwareFoundation.Python.3.11_qbz5n2kfra8p0\\LocalCache\\local-packages\\Python311\\site-packages\\torch\\lib\\fbgemm.dll\" or one of its dependencies."
          ]
        }
      ],
      "source": [
        "import json\n",
        "import random\n",
        "\n",
        "\n",
        "# 다양한 질문과 답변 쌍 생성\n",
        "korean_data = []\n",
        "\n",
        "# 홈 페이지로 이동하는 방법\n",
        "home_queries = [\n",
        "    \"홈페이지로 어떻게 가나요?\", \"메인 페이지로 돌아가려면 어디를 눌러야 하나요?\",\n",
        "    \"홈페이지로 안내해 주세요.\", \"메인 화면으로 가려면 무엇을 해야 하나요?\",\n",
        "    \"홈페이지 버튼이 어디에 있나요?\", \"홈으로 가는 방법을 알려주세요.\",\n",
        "    \"메인 페이지는 어떻게 가나요?\", \"홈페이지에 접속하려면 어떻게 해야 하나요?\"\n",
        "]\n",
        "\n",
        "home_answers = [\n",
        "    \"상단 메뉴에서 '홈' 버튼을 클릭하세요.\", \"화면 상단의 '홈' 아이콘을 누르시면 됩니다.\",\n",
        "    \"'홈' 버튼을 클릭하면 메인 페이지로 이동합니다.\", \"네비게이션 바에서 '홈'을 선택하세요.\",\n",
        "    \"화면 상단 메뉴에 있는 '홈' 버튼을 찾으세요.\", \"'홈' 버튼을 클릭하여 메인 페이지로 이동하세요.\",\n",
        "    \"상단의 '홈' 아이콘을 클릭하세요.\", \"네비게이션 바에서 '홈'을 클릭하세요.\"\n",
        "]\n",
        "\n",
        "# 로그인 페이지로 이동하는 방법\n",
        "login_queries = [\n",
        "    \"로그인하려면 어디로 가야 하나요?\", \"로그인 페이지는 어디에 있나요?\",\n",
        "    \"계정 로그인을 하려면 어떤 페이지로 가야 하나요?\", \"로그인하려면 무엇을 눌러야 하나요?\",\n",
        "    \"로그인 페이지로 가는 버튼이 어디 있죠?\", \"로그인 화면으로 어떻게 가나요?\",\n",
        "    \"로그인 페이지를 찾고 싶어요.\", \"로그인하려면 어떤 버튼을 클릭해야 하나요?\"\n",
        "]\n",
        "\n",
        "login_answers = [\n",
        "    \"상단 메뉴에서 '로그인' 버튼을 클릭하세요.\", \"'로그인' 버튼을 상단에서 찾을 수 있습니다.\",\n",
        "    \"상단 바의 '로그인'을 클릭하여 로그인 페이지로 이동하세요.\", \"상단 메뉴에서 '로그인'을 클릭하면 됩니다.\",\n",
        "    \"네비게이션 바 상단의 '로그인' 버튼을 눌러주세요.\", \"상단 메뉴의 '로그인' 버튼을 클릭하세요.\",\n",
        "    \"'로그인' 버튼을 클릭하여 로그인 페이지로 이동하세요.\", \"상단 바에서 '로그인' 버튼을 찾으세요.\"\n",
        "]\n",
        "\n",
        "# 회원가입 페이지로 이동하는 방법\n",
        "signup_queries = [\n",
        "    \"회원가입은 어디서 하나요?\", \"새 계정을 만들려면 어떻게 해야 하나요?\",\n",
        "    \"회원가입 페이지는 어디에 있나요?\", \"계정을 등록하려면 어디로 가야 하나요?\",\n",
        "    \"회원가입 페이지로 이동하려면 어떻게 하나요?\", \"회원가입을 하려면 어디로 가야 하나요?\",\n",
        "    \"회원가입 페이지를 찾고 싶어요.\", \"새 계정을 만들기 위해 어디로 가야 하나요?\"\n",
        "]\n",
        "\n",
        "signup_answers = [\n",
        "    \"상단 메뉴에서 '회원가입' 버튼을 클릭하세요.\", \"'회원가입' 버튼을 클릭하여 등록 페이지로 이동하세요.\",\n",
        "    \"상단 바의 '회원가입'을 클릭하면 해당 페이지로 이동합니다.\", \"'회원가입' 버튼을 클릭하여 새 계정을 만드세요.\",\n",
        "    \"네비게이션 바의 '회원가입'을 클릭하세요.\", \"'회원가입' 버튼을 클릭하여 회원가입 페이지로 이동하세요.\",\n",
        "    \"상단 메뉴에서 '회원가입' 버튼을 찾으세요.\", \"'회원가입' 아이콘을 클릭하여 새 계정을 만드세요.\"\n",
        "]\n",
        "\n",
        "# 라이브 비디오 페이지로 이동하는 방법\n",
        "live_video_queries = [\n",
        "    \"라이브 비디오 페이지로 어떻게 가나요?\", \"라이브 방송을 보려면 어디로 가야 하나요?\",\n",
        "    \"실시간 영상을 보려면 어떻게 해야 하나요?\", \"라이브 비디오를 시청하려면 어디로 가야 하나요?\",\n",
        "    \"라이브 비디오 페이지는 어디에 있나요?\", \"실시간 방송 페이지로 어떻게 이동하나요?\",\n",
        "    \"라이브 스트림을 보려면 어디로 가야 하나요?\", \"실시간 비디오를 보려면 어떻게 해야 하나요?\"\n",
        "]\n",
        "\n",
        "live_video_answers = [\n",
        "    \"상단 메뉴에서 '라이브 비디오' 버튼을 클릭하세요.\", \"'라이브 비디오' 버튼을 눌러 이동하세요.\",\n",
        "    \"상단 바의 '라이브 비디오'를 클릭하세요.\", \"'라이브 비디오' 아이콘을 선택하세요.\",\n",
        "    \"상단 메뉴의 '라이브 비디오' 버튼을 클릭하세요.\", \"'라이브 비디오' 버튼을 찾아 클릭하세요.\",\n",
        "    \"네비게이션 바의 '라이브 비디오'를 선택하세요.\", \"'라이브 비디오' 버튼을 클릭하여 이동하세요.\"\n",
        "]\n",
        "\n",
        "# 데이터 생성 및 저장\n",
        "def generate_data(queries, answers):\n",
        "    data = []\n",
        "    for _ in range(250):\n",
        "        query = random.choice(queries)\n",
        "        answer = random.choice(answers)\n",
        "        data.append({\"question\": query, \"answer\": answer})\n",
        "    return data\n",
        "\n",
        "korean_data.extend(generate_data(home_queries, home_answers))\n",
        "korean_data.extend(generate_data(login_queries, login_answers))\n",
        "korean_data.extend(generate_data(signup_queries, signup_answers))\n",
        "korean_data.extend(generate_data(live_video_queries, live_video_answers))\n",
        "\n",
        "with open('./learn_data/navigation_data_kr.json', 'w', encoding='utf-8') as f:\n",
        "    json.dump(korean_data, f, ensure_ascii=False, indent=4)\n"
      ]
    },
    {
      "cell_type": "markdown",
      "metadata": {
        "id": "5LFyczDvKAF8"
      },
      "source": [
        "#### 프로젝트 관련 영어"
      ]
    },
    {
      "cell_type": "code",
      "execution_count": null,
      "metadata": {
        "id": "p85Xs_NAKA8n"
      },
      "outputs": [],
      "source": [
        "import json\n",
        "import random\n",
        "\n",
        "# 다양한 질문과 답변 쌍 생성\n",
        "english_data = []\n",
        "\n",
        "# 홈 페이지로 이동하는 방법\n",
        "home_queries_en = [\n",
        "    \"How do I get to the homepage?\", \"Where can I find the main page?\",\n",
        "    \"Can you guide me to the homepage?\", \"What should I do to go to the homepage?\",\n",
        "    \"Where is the home button located?\", \"How can I navigate to the homepage?\",\n",
        "    \"What do I click to go to the main page?\", \"Where is the homepage button?\"\n",
        "]\n",
        "\n",
        "home_answers_en = [\n",
        "    \"Click on the 'Home' button in the top menu.\", \"Press the 'Home' icon at the top of the screen.\",\n",
        "    \"You can go to the homepage by clicking 'Home' in the menu.\", \"To visit the homepage, click 'Home' in the top menu.\",\n",
        "    \"The 'Home' button is on the top navigation bar, click it to go to the homepage.\", \"Navigate to the homepage by pressing 'Home' in the top bar.\",\n",
        "    \"Select 'Home' from the top menu to go to the main page.\", \"Find the 'Home' button at the top and click it to go to the homepage.\"\n",
        "]\n",
        "\n",
        "# 로그인 페이지로 이동하는 방법\n",
        "login_queries_en = [\n",
        "    \"Where do I go to log in?\", \"How can I access the login page?\",\n",
        "    \"Which page should I visit to log in?\", \"What should I press to log in?\",\n",
        "    \"Where is the button to go to the login page?\", \"How do I get to the login page?\",\n",
        "    \"Where is the sign-in page?\", \"How can I log into my account?\"\n",
        "]\n",
        "\n",
        "login_answers_en = [\n",
        "    \"Click on the 'Sign In' button in the top menu.\", \"Find the 'Sign In' button in the top menu.\",\n",
        "    \"Click on 'Sign In' in the navigation bar to go to the login page.\", \"Click 'Sign In' in the top menu.\",\n",
        "    \"Press the 'Sign In' button in the top navigation bar.\", \"Select 'Sign In' from the top menu to go to the login page.\",\n",
        "    \"The 'Sign In' button is on the top navigation bar.\", \"To log into your account, click the 'Sign In' button in the top menu.\"\n",
        "]\n",
        "\n",
        "# 회원가입 페이지로 이동하는 방법\n",
        "signup_queries_en = [\n",
        "    \"Where do I sign up?\", \"How do I create a new account?\",\n",
        "    \"Where is the sign-up page?\", \"Where do I go to register an account?\",\n",
        "    \"How do I get to the sign-up page?\", \"What should I do to sign up?\",\n",
        "    \"Where is the registration page?\", \"How can I register a new account?\"\n",
        "]\n",
        "\n",
        "signup_answers_en = [\n",
        "    \"Click on the 'Sign Up' button in the top menu.\", \"Click on 'Sign Up' to go to the registration page.\",\n",
        "    \"Find the 'Sign Up' button in the top menu to go to the registration page.\", \"Click on 'Sign Up' to create a new account.\",\n",
        "    \"Select 'Sign Up' from the top menu.\", \"The 'Sign Up' button is in the top navigation bar.\",\n",
        "    \"To register, click the 'Sign Up' button in the top menu.\", \"Click 'Sign Up' to start creating a new account.\"\n",
        "]\n",
        "\n",
        "# 라이브 비디오 페이지로 이동하는 방법\n",
        "live_video_queries_en = [\n",
        "    \"How do I get to the live video page?\", \"Where do I go to watch live broadcasts?\",\n",
        "    \"How can I watch live videos?\", \"What should I do to view live streams?\",\n",
        "    \"Where is the live video page located?\", \"How do I access live video?\",\n",
        "    \"What button do I press to watch live streams?\", \"How can I view live broadcasts?\"\n",
        "]\n",
        "\n",
        "live_video_answers_en = [\n",
        "    \"Click on the 'Live Video' button in the top menu.\", \"Press the 'Live Video' button to go to the live video page.\",\n",
        "    \"Click on 'Live Video' in the top navigation bar.\", \"Select 'Live Video' from the top menu.\",\n",
        "    \"The 'Live Video' button is on the top navigation bar.\", \"Find the 'Live Video' button at the top and click it to go to the live video page.\",\n",
        "    \"To watch live videos, click the 'Live Video' button in the top menu.\", \"Click 'Live Video' to access live broadcasts.\"\n",
        "]\n",
        "\n",
        "# 데이터 생성 및 저장\n",
        "def generate_data(queries, answers):\n",
        "    data = []\n",
        "    for _ in range(250):\n",
        "        query = random.choice(queries)\n",
        "        answer = random.choice(answers)\n",
        "        data.append({\"question\": query, \"answer\": answer})\n",
        "    return data\n",
        "\n",
        "english_data.extend(generate_data(home_queries_en, home_answers_en))\n",
        "english_data.extend(generate_data(login_queries_en, login_answers_en))\n",
        "english_data.extend(generate_data(signup_queries_en, signup_answers_en))\n",
        "english_data.extend(generate_data(live_video_queries_en, live_video_answers_en))\n",
        "\n",
        "with open('./learn_data/navigation_data_en.json', 'w', encoding='utf-8') as f:\n",
        "    json.dump(english_data, f, ensure_ascii=False, indent=4)\n"
      ]
    },
    {
      "cell_type": "markdown",
      "metadata": {
        "id": "sGW-VRdFKZkb"
      },
      "source": [
        "#### 보안 관련 학습 데이터"
      ]
    },
    {
      "cell_type": "code",
      "execution_count": null,
      "metadata": {
        "id": "ujJrDxLuKY8_"
      },
      "outputs": [],
      "source": [
        "import json\n",
        "import random\n",
        "\n",
        "# 한글 보안 학습 데이터 생성\n",
        "korean_security_data = [\n",
        "    {\"question\": \"보안 카메라 영상을 실시간으로 보려면 어떻게 해야 하나요?\", \"answer\": \"상단 메뉴에서 '라이브 비디오' 버튼을 클릭하면 보안 카메라 영상을 실시간으로 볼 수 있습니다.\"},\n",
        "    {\"question\": \"보안 카메라의 녹화 영상을 보려면 어떻게 하나요?\", \"answer\": \"상단 메뉴에서 '비디오 상세' 페이지로 이동하여 녹화된 영상을 확인할 수 있습니다.\"},\n",
        "    {\"question\": \"보안 카메라 설정을 변경하려면 어디로 가야 하나요?\", \"answer\": \"상단 메뉴의 '마이 페이지'에서 '보안 설정'을 클릭하여 카메라 설정을 변경할 수 있습니다.\"},\n",
        "    {\"question\": \"침입 경고 알림을 받으려면 어떻게 설정해야 하나요?\", \"answer\": \"상단 메뉴의 '마이 페이지'에서 '알림 설정'을 클릭하고 침입 경고 알림을 활성화하세요.\"},\n",
        "    {\"question\": \"침입 경고 시스템을 어떻게 활성화하나요?\", \"answer\": \"'마이 페이지'에서 '보안 설정'을 클릭하고 침입 경고 시스템을 활성화할 수 있습니다.\"},\n",
        "    {\"question\": \"침입 경고 기록을 보려면 어디로 가야 하나요?\", \"answer\": \"상단 메뉴의 '비디오 상세' 페이지에서 침입 경고 기록을 확인할 수 있습니다.\"},\n",
        "    {\"question\": \"보안 시스템 알림을 받으려면 어떻게 해야 하나요?\", \"answer\": \"상단 메뉴의 '마이 페이지'에서 '알림 설정'을 클릭하고 보안 시스템 알림을 활성화하세요.\"},\n",
        "    {\"question\": \"보안 시스템을 업그레이드하려면 어떻게 해야 하나요?\", \"answer\": \"상단 메뉴의 '마이 페이지'에서 '보안 설정'을 클릭하고 시스템 업그레이드를 진행하세요.\"},\n",
        "    {\"question\": \"집 보안 장치를 관리하려면 어디로 가야 하나요?\", \"answer\": \"'마이 페이지'에서 '보안 장치 관리' 섹션을 클릭하여 장치를 관리할 수 있습니다.\"}\n",
        "]\n",
        "\n",
        "# 영어 보안 학습 데이터 생성\n",
        "english_security_data = [\n",
        "    {\"question\": \"How do I view security camera footage in real-time?\", \"answer\": \"Click on the 'Live Video' button in the top menu to view security camera footage in real-time.\"},\n",
        "    {\"question\": \"How can I watch recorded security camera videos?\", \"answer\": \"Go to the 'Video Detail' page from the top menu to watch recorded security camera videos.\"},\n",
        "    {\"question\": \"Where do I go to change security camera settings?\", \"answer\": \"Click on 'Security Settings' in 'My Page' from the top menu to change camera settings.\"},\n",
        "    {\"question\": \"How do I set up intrusion alert notifications?\", \"answer\": \"Go to 'Notification Settings' in 'My Page' from the top menu and enable intrusion alert notifications.\"},\n",
        "    {\"question\": \"How can I activate the intrusion alert system?\", \"answer\": \"Activate the intrusion alert system by going to 'Security Settings' in 'My Page' from the top menu.\"},\n",
        "    {\"question\": \"Where can I view intrusion alert logs?\", \"answer\": \"Check the 'Video Detail' page from the top menu to view intrusion alert logs.\"},\n",
        "    {\"question\": \"How do I receive security system notifications?\", \"answer\": \"Enable security system notifications by going to 'Notification Settings' in 'My Page' from the top menu.\"},\n",
        "    {\"question\": \"What do I need to do to upgrade my security system?\", \"answer\": \"Go to 'Security Settings' in 'My Page' from the top menu to upgrade your security system.\"},\n",
        "    {\"question\": \"Where should I go to manage home security devices?\", \"answer\": \"Manage home security devices in the 'Security Device Management' section of 'My Page' from the top menu.\"}\n",
        "]\n",
        "\n",
        "# 데이터 저장\n",
        "with open('./learn_data/security_data_kr.json', 'w', encoding='utf-8') as f:\n",
        "    json.dump(korean_security_data, f, ensure_ascii=False, indent=4)\n",
        "\n",
        "with open('./learn_data/security_data_en.json', 'w', encoding='utf-8') as f:\n",
        "    json.dump(english_security_data, f, ensure_ascii=False, indent=4)\n"
      ]
    },
    {
      "cell_type": "markdown",
      "metadata": {
        "id": "CYFvbvkgOuJ5"
      },
      "source": [
        "#### 동의어"
      ]
    },
    {
      "cell_type": "code",
      "execution_count": null,
      "metadata": {
        "id": "U1QDr5jVOu7y"
      },
      "outputs": [],
      "source": [
        "additional_data = [\n",
        "    {\"question\": \"보안 카메라 실시간 보기\", \"answer\": \"상단 메뉴에서 '라이브 비디오' 버튼을 클릭하면 보안 카메라 영상을 실시간으로 볼 수 있습니다.\"},\n",
        "    {\"question\": \"보안 카메라 녹화 영상 보기\", \"answer\": \"상단 메뉴에서 '비디오 상세' 페이지로 이동하여 녹화된 영상을 확인할 수 있습니다.\"},\n",
        "    {\"question\": \"보안 카메라 설정 변경 방법\", \"answer\": \"상단 메뉴의 '마이 페이지'에서 '보안 설정'을 클릭하여 카메라 설정을 변경할 수 있습니다.\"},\n",
        "    {\"question\": \"침입 경고 알림 설정 방법\", \"answer\": \"상단 메뉴의 '마이 페이지'에서 '알림 설정'을 클릭하고 침입 경고 알림을 활성화하세요.\"},\n",
        "    {\"question\": \"침입 경고 시스템 활성화\", \"answer\": \"'마이 페이지'에서 '보안 설정'을 클릭하고 침입 경고 시스템을 활성화할 수 있습니다.\"},\n",
        "    {\"question\": \"침입 경고 기록 보기\", \"answer\": \"상단 메뉴의 '비디오 상세' 페이지에서 침입 경고 기록을 확인할 수 있습니다.\"},\n",
        "    {\"question\": \"보안 시스템 알림 받기\", \"answer\": \"상단 메뉴의 '마이 페이지'에서 '알림 설정'을 클릭하고 보안 시스템 알림을 활성화하세요.\"},\n",
        "    {\"question\": \"보안 시스템 업그레이드 방법\", \"answer\": \"상단 메뉴의 '마이 페이지'에서 '보안 설정'을 클릭하고 시스템 업그레이드를 진행하세요.\"},\n",
        "    {\"question\": \"집 보안 장치 관리 방법\", \"answer\": \"'마이 페이지'에서 '보안 장치 관리' 섹션을 클릭하여 장치를 관리할 수 있습니다.\"},\n",
        "    {\"question\": \"홈 가는 법\", \"answer\": \"상단 메뉴에서 '홈' 버튼을 클릭하세요.\"},\n",
        "    {\"question\": \"로그인 방법\", \"answer\": \"상단 메뉴에서 '로그인' 버튼을 클릭하세요.\"},\n",
        "    {\"question\": \"회원가입 방법\", \"answer\": \"상단 메뉴에서 '회원가입' 버튼을 클릭하세요.\"},\n",
        "    {\"question\": \"라이브 비디오 페이지 가기\", \"answer\": \"상단 메뉴에서 '라이브 비디오' 버튼을 클릭하세요.\"},\n",
        "    {\"question\": \"계정 관리 방법\", \"answer\": \"상단 메뉴에서 '마이 페이지'를 클릭하세요.\"},\n",
        "    {\"question\": \"이상한 질문입니다\", \"answer\": \"죄송합니다. 이해하지 못했습니다. 다시 질문해 주시겠어요?\"},\n",
        "    {\"question\": \"이해가 어려운 질문입니다\", \"answer\": \"죄송합니다. 이해하지 못했습니다. 다시 질문해 주시겠어요?\"}\n",
        "]\n",
        "\n",
        "# 데이터 저장\n",
        "with open('./learn_data/additional_data_kr.json', 'w', encoding='utf-8') as f:\n",
        "    json.dump(additional_data, f, ensure_ascii=False, indent=4)"
      ]
    },
    {
      "cell_type": "markdown",
      "metadata": {
        "id": "QaIUMNmXK2DL"
      },
      "source": [
        "#### 학습 데이터 결합"
      ]
    },
    {
      "cell_type": "code",
      "execution_count": null,
      "metadata": {
        "id": "N01d7kEmK5ra"
      },
      "outputs": [],
      "source": [
        "# 학습 데이터 로드\n",
        "with open('./learn_data/navigation_data_kr.json', 'r', encoding='utf-8') as f:\n",
        "    korean_navigation_data = json.load(f)\n",
        "\n",
        "with open('./learn_data/navigation_data_en.json', 'r', encoding='utf-8') as f:\n",
        "    english_navigation_data = json.load(f)\n",
        "\n",
        "with open('./learn_data/security_data_kr.json', 'r', encoding='utf-8') as f:\n",
        "    korean_security_data = json.load(f)\n",
        "\n",
        "with open('./learn_data/security_data_en.json', 'r', encoding='utf-8') as f:\n",
        "    english_security_data = json.load(f)\n",
        "\n",
        "# 데이터셋 결합\n",
        "train_data = korean_navigation_data + english_navigation_data + korean_security_data + english_security_data\n",
        "texts = [f\"질문: {item['question']} 답변: {item['answer']}\" for item in train_data]\n",
        "\n",
        "# Dataset 객체 생성\n",
        "train_dataset = Dataset.from_dict({\"text\": texts})\n"
      ]
    },
    {
      "cell_type": "markdown",
      "metadata": {
        "id": "W9bwog8oLD3b"
      },
      "source": [
        "### 모델 선택"
      ]
    },
    {
      "cell_type": "code",
      "execution_count": null,
      "metadata": {
        "id": "UO_HFz0PK7_M"
      },
      "outputs": [],
      "source": [
        "# 토크나이저 및 모델 설정\n",
        "\n",
        "# 사전 학습된 GPT-2 토크나이저를 로드\n",
        "tokenizer = GPT2Tokenizer.from_pretrained('gpt2')\n",
        "\n",
        "# 패딩 토큰을 eos_token (문장의 끝 토큰)으로 설정\n",
        "# GPT-2는 기본적으로 패딩 토큰이 없기 때문에 eos_token을 패딩 토큰으로 사용\n",
        "tokenizer.pad_token = tokenizer.eos_token\n",
        "\n",
        "# 사전 학습된 GPT-2 언어 모델을 로드\n",
        "model = GPT2LMHeadModel.from_pretrained('gpt2')"
      ]
    },
    {
      "cell_type": "markdown",
      "metadata": {
        "id": "hYnfpaNGLHMp"
      },
      "source": [
        "### 학습 파라미터 설정"
      ]
    },
    {
      "cell_type": "code",
      "execution_count": null,
      "metadata": {
        "colab": {
          "base_uri": "https://localhost:8080/",
          "height": 49,
          "referenced_widgets": [
            "f3d850d3943b40d9ab1dd62b49637055",
            "ccc8801d948a41dc9e8c9aa6e61bf910",
            "a2bce6f3429f4508bf4eb67cf7ea8bf5",
            "75b2f69bedab4a0ba9e35ea20410baa7",
            "816e61d2f1644e2badc4de128fcf0b4e",
            "4d1fbb682a5d4b61a6038a545cc08160",
            "1359a9ac406d4aa8931a26c07dc1adf5",
            "eb312237519146968ab6d75fef415d26",
            "a8dc2538199d4e3fa36d464924847220",
            "741cb4a4f4044e9589295edef0ed6e62",
            "6c8406e003c84582b5c64d102d72c590"
          ]
        },
        "id": "HNU_KQdNLF-1",
        "outputId": "17d6e08e-9fd3-4647-c5f5-b42174df55f1"
      },
      "outputs": [
        {
          "data": {
            "application/vnd.jupyter.widget-view+json": {
              "model_id": "f3d850d3943b40d9ab1dd62b49637055",
              "version_major": 2,
              "version_minor": 0
            },
            "text/plain": [
              "Map:   0%|          | 0/2018 [00:00<?, ? examples/s]"
            ]
          },
          "metadata": {},
          "output_type": "display_data"
        }
      ],
      "source": [
        "# 데이터셋을 모델 입력 형식에 맞게 포맷팅하는 함수\n",
        "def tokenize_function(examples):\n",
        "    return tokenizer(examples[\"text\"], padding=\"max_length\", truncation=True, max_length=128)\n",
        "\n",
        "# 데이터셋 토큰화\n",
        "tokenized_datasets = train_dataset.map(tokenize_function, batched=True)\n",
        "# \"text\" 열 제거\n",
        "tokenized_datasets = tokenized_datasets.remove_columns([\"text\"])\n",
        "# 형식 설정 (파이토치 텐서로 변환)\n",
        "tokenized_datasets.set_format(\"torch\")\n",
        "\n",
        "# 데이터 콜레이터 설정\n",
        "# DataCollatorForLanguageModeling은 데이터 배치를 처리할 때 사용됩니다.\n",
        "# mlm=False는 Masked Language Modeling이 비활성화되었음을 의미합니다.\n",
        "data_collator = DataCollatorForLanguageModeling(tokenizer=tokenizer, mlm=False)\n",
        "\n",
        "# 학습 파라미터 설정\n",
        "training_args = TrainingArguments(\n",
        "    output_dir=\"./gpt2-finetuned-chatbot\",    # 모델 체크포인트와 로그를 저장할 출력 디렉토리\n",
        "    overwrite_output_dir=True,                # 출력 디렉토리에 이미 존재하는 내용 덮어쓰기\n",
        "    num_train_epochs=3,                       # 훈련할 에포크 수\n",
        "    per_device_train_batch_size=2,            # 각 장치(예: GPU)당 배치 크기\n",
        "    save_steps=500,                           # 모델 체크포인트를 저장할 스텝 수\n",
        "    save_total_limit=2,                       # 저장할 체크포인트의 최대 개수\n",
        "    prediction_loss_only=True,                # 예측 시 손실만 계산하여 로그에 기록\n",
        "    remove_unused_columns=False,              # 사용되지 않는 열을 데이터셋에서 제거하지 않음\n",
        ")\n",
        "\n",
        "# 트레이너 설정\n",
        "trainer = Trainer(\n",
        "    model=model,                             # 훈련할 모델\n",
        "    args=training_args,                      # 훈련 파라미터\n",
        "    data_collator=data_collator,             # 데이터 콜레이터\n",
        "    train_dataset=tokenized_datasets,        # 훈련 데이터셋\n",
        ")\n"
      ]
    },
    {
      "cell_type": "markdown",
      "metadata": {
        "id": "4N81nLq0LMgW"
      },
      "source": [
        "### 모델 학습"
      ]
    },
    {
      "cell_type": "code",
      "execution_count": null,
      "metadata": {
        "colab": {
          "base_uri": "https://localhost:8080/",
          "height": 356
        },
        "id": "TZgjsocSLLxE",
        "outputId": "e4849262-00fb-4509-e20e-2d2a54262adf"
      },
      "outputs": [
        {
          "data": {
            "text/html": [
              "\n",
              "    <div>\n",
              "      \n",
              "      <progress value='3027' max='3027' style='width:300px; height:20px; vertical-align: middle;'></progress>\n",
              "      [3027/3027 4:30:09, Epoch 3/3]\n",
              "    </div>\n",
              "    <table border=\"1\" class=\"dataframe\">\n",
              "  <thead>\n",
              " <tr style=\"text-align: left;\">\n",
              "      <th>Step</th>\n",
              "      <th>Training Loss</th>\n",
              "    </tr>\n",
              "  </thead>\n",
              "  <tbody>\n",
              "    <tr>\n",
              "      <td>500</td>\n",
              "      <td>0.497000</td>\n",
              "    </tr>\n",
              "    <tr>\n",
              "      <td>1000</td>\n",
              "      <td>0.209000</td>\n",
              "    </tr>\n",
              "    <tr>\n",
              "      <td>1500</td>\n",
              "      <td>0.158500</td>\n",
              "    </tr>\n",
              "    <tr>\n",
              "      <td>2000</td>\n",
              "      <td>0.138500</td>\n",
              "    </tr>\n",
              "    <tr>\n",
              "      <td>2500</td>\n",
              "      <td>0.132000</td>\n",
              "    </tr>\n",
              "    <tr>\n",
              "      <td>3000</td>\n",
              "      <td>0.121800</td>\n",
              "    </tr>\n",
              "  </tbody>\n",
              "</table><p>"
            ],
            "text/plain": [
              "<IPython.core.display.HTML object>"
            ]
          },
          "metadata": {},
          "output_type": "display_data"
        },
        {
          "data": {
            "text/plain": [
              "('./gpt2-finetuned-chatbot/tokenizer_config.json',\n",
              " './gpt2-finetuned-chatbot/special_tokens_map.json',\n",
              " './gpt2-finetuned-chatbot/vocab.json',\n",
              " './gpt2-finetuned-chatbot/merges.txt',\n",
              " './gpt2-finetuned-chatbot/added_tokens.json')"
            ]
          },
          "execution_count": 20,
          "metadata": {},
          "output_type": "execute_result"
        }
      ],
      "source": [
        "# 모델 학습\n",
        "trainer.train()\n",
        "\n",
        "# 모델 저장\n",
        "model.save_pretrained('./gpt2-finetuned-chatbot')\n",
        "tokenizer.save_pretrained('./gpt2-finetuned-chatbot')"
      ]
    },
    {
      "cell_type": "markdown",
      "metadata": {
        "id": "_sWVQ0LPMXwc"
      },
      "source": [
        "#### 질문에 답변을 생성하는 함수"
      ]
    },
    {
      "cell_type": "code",
      "execution_count": null,
      "metadata": {
        "id": "r0HIZgaqLP9F"
      },
      "outputs": [],
      "source": [
        "# 질문에 답변을 생성하는 함수 1\n",
        "def generate_answer(question, model, tokenizer):\n",
        "    # 입력 텍스트를 \"질문: [질문 내용] 답변:\" 형식으로 만듦\n",
        "    input_text = f\"질문: {question} 답변:\"\n",
        "\n",
        "    # 입력 텍스트를 토크나이저를 사용하여 토큰 ID로 변환\n",
        "    input_ids = tokenizer.encode(input_text, return_tensors='pt')\n",
        "\n",
        "    # 모델을 사용하여 답변 생성\n",
        "    # max_length는 생성할 텍스트의 최대 길이, num_return_sequences는 생성할 시퀀스 수\n",
        "    # pad_token_id는 패딩 토큰의 ID를 설정 (eos_token_id로 설정)\n",
        "    output = model.generate(input_ids, max_length=100, num_return_sequences=1, pad_token_id=tokenizer.eos_token_id)\n",
        "\n",
        "    # 생성된 토큰 ID를 텍스트로 디코딩\n",
        "    answer = tokenizer.decode(output[0], skip_special_tokens=True)\n",
        "\n",
        "    # \"답변:\" 뒤의 텍스트를 추출하고 앞뒤 공백 제거\n",
        "    answer = answer.split(\"답변:\")[1].strip()\n",
        "\n",
        "    # 만약 답변이 비어있거나, 답변에 \"질문\"이 포함되어 있으면 이해하지 못했다는 메시지 반환\n",
        "    if answer == \"\" or \"질문\" in answer:\n",
        "        return \"죄송합니다. 이해하지 못했습니다. 다시 질문해 주시겠어요?\"\n",
        "\n",
        "    # 생성된 답변 반환\n",
        "    return answer"
      ]
    },
    {
      "cell_type": "markdown",
      "metadata": {
        "id": "OGD84SYEUJFX"
      },
      "source": [
        "- max_length: 생성할 텍스트의 최대 길이입니다. 너무 짧으면 충분한 답변을 제공하지 못할 수 있고, 너무 길면 불필요한 정보를 포함할 수 있습니다.\n",
        "- num_beams: 빔 서치의 빔 수입니다. 더 높은 값을 설정하면 더 다양한 답변을 탐색하지만, 계산 비용이 증가할 수 있습니다.\n",
        "- temperature: 생성의 창의성을 조절합니다. 낮은 값은 더 확정적이고 일관된 답변을, 높은 값은 더 창의적이고 다양한 답변을 생성할 수 있습니다.\n",
        "- attention_mask: 입력 시퀀스의 패딩 토큰과 실제 데이터를 구분하여 모델이 올바르게 입력을 처리할 수 있도록 합니다."
      ]
    },
    {
      "cell_type": "code",
      "execution_count": null,
      "metadata": {
        "id": "QQjKppSxTx0w"
      },
      "outputs": [],
      "source": [
        "# 질문에 답변을 생성하는 함수2\n",
        "def generate_answer(question, model, tokenizer):\n",
        "    # 입력 텍스트를 \"질문: [질문 내용] 답변:\" 형식으로 만듦\n",
        "    input_text = f\"질문: {question} 답변:\"\n",
        "\n",
        "    # 입력 텍스트를 토크나이저를 사용하여 토큰 ID로 변환\n",
        "    input_ids = tokenizer.encode(input_text, return_tensors='pt')\n",
        "\n",
        "    # 어텐션 마스크 생성 (패딩 토큰과 eos 토큰을 구분)\n",
        "    attention_mask = (input_ids != tokenizer.pad_token_id).long()\n",
        "\n",
        "    # 모델을 사용하여 답변 생성\n",
        "    # max_length는 생성할 텍스트의 최대 길이, num_return_sequences는 생성할 시퀀스 수\n",
        "    # pad_token_id는 패딩 토큰의 ID를 설정 (eos_token_id로 설정)\n",
        "    # num_beams는 빔 서치의 빔 수, temperature는 생성의 창의성 조절\n",
        "    output = model.generate(\n",
        "        input_ids,\n",
        "        attention_mask=attention_mask,\n",
        "        max_length=100,\n",
        "        num_return_sequences=1,\n",
        "        pad_token_id=tokenizer.eos_token_id,\n",
        "        num_beams=5,           # 빔 서치 사용\n",
        "        temperature=0.7        # 생성의 창의성 조절\n",
        "    )\n",
        "\n",
        "    # 생성된 토큰 ID를 텍스트로 디코딩\n",
        "    answer = tokenizer.decode(output[0], skip_special_tokens=True)\n",
        "\n",
        "    # \"답변:\" 뒤의 텍스트를 추출하고 앞뒤 공백 제거\n",
        "    answer = answer.split(\"답변:\")[1].strip()\n",
        "\n",
        "    # 만약 답변이 비어있거나, 답변에 \"질문\"이 포함되어 있으면 이해하지 못했다는 메시지 반환\n",
        "    if answer == \"\" or \"질문\" in answer:\n",
        "        return \"죄송합니다. 이해하지 못했습니다. 다시 질문해 주시겠어요?\"\n",
        "\n",
        "    # 생성된 답변 반환\n",
        "    return answer"
      ]
    },
    {
      "cell_type": "markdown",
      "metadata": {
        "id": "ozckCX0pMcch"
      },
      "source": [
        "### 시험"
      ]
    },
    {
      "cell_type": "code",
      "execution_count": null,
      "metadata": {
        "colab": {
          "base_uri": "https://localhost:8080/"
        },
        "id": "LwMw9aIAMbyb",
        "outputId": "90b24196-9ecc-45c4-d2dd-f082972ebbe1"
      },
      "outputs": [
        {
          "name": "stderr",
          "output_type": "stream",
          "text": [
            "The attention mask is not set and cannot be inferred from input because pad token is same as eos token.As a consequence, you may observe unexpected behavior. Please pass your input's `attention_mask` to obtain reliable results.\n"
          ]
        },
        {
          "name": "stdout",
          "output_type": "stream",
          "text": [
            "질문: 홈페이지로 어떻게 가나요?\n",
            "답변: 네비게이션 바에서 '홈'을 선택하세요. 답변\n",
            "질문: 이상한 질문이에요!\n",
            "답변: 상단 바의 '라이브 비디오'를 클릭하세요.\n"
          ]
        }
      ],
      "source": [
        "# 예제 질문에 답변 생성\n",
        "example_question = \"홈페이지로 어떻게 가나요?\"\n",
        "answer = generate_answer(example_question, model, tokenizer)\n",
        "print(f\"질문: {example_question}\")\n",
        "print(f\"답변: {answer}\")\n",
        "\n",
        "# 이상한 질문에 대한 예제\n",
        "weird_question = \"이상한 질문이에요!\"\n",
        "answer = generate_answer(weird_question, model, tokenizer)\n",
        "print(f\"질문: {weird_question}\")\n",
        "print(f\"답변: {answer}\")"
      ]
    },
    {
      "cell_type": "code",
      "execution_count": null,
      "metadata": {
        "id": "n0ReSEpbMfK6"
      },
      "outputs": [],
      "source": []
    },
    {
      "cell_type": "markdown",
      "metadata": {
        "id": "gg6yYyEslo-S"
      },
      "source": [
        "## LLaMA 3"
      ]
    },
    {
      "cell_type": "code",
      "execution_count": null,
      "metadata": {
        "colab": {
          "base_uri": "https://localhost:8080/"
        },
        "id": "WK4GSr8OlsBr",
        "outputId": "c0710c00-8f14-42df-ce34-6b0fb8345813"
      },
      "outputs": [
        {
          "name": "stdout",
          "output_type": "stream",
          "text": [
            "Requirement already satisfied: transformers in /usr/local/lib/python3.10/dist-packages (4.42.4)\n",
            "Requirement already satisfied: filelock in /usr/local/lib/python3.10/dist-packages (from transformers) (3.15.4)\n",
            "Requirement already satisfied: huggingface-hub<1.0,>=0.23.2 in /usr/local/lib/python3.10/dist-packages (from transformers) (0.23.5)\n",
            "Requirement already satisfied: numpy<2.0,>=1.17 in /usr/local/lib/python3.10/dist-packages (from transformers) (1.25.2)\n",
            "Requirement already satisfied: packaging>=20.0 in /usr/local/lib/python3.10/dist-packages (from transformers) (24.1)\n",
            "Requirement already satisfied: pyyaml>=5.1 in /usr/local/lib/python3.10/dist-packages (from transformers) (6.0.1)\n",
            "Requirement already satisfied: regex!=2019.12.17 in /usr/local/lib/python3.10/dist-packages (from transformers) (2024.5.15)\n",
            "Requirement already satisfied: requests in /usr/local/lib/python3.10/dist-packages (from transformers) (2.32.3)\n",
            "Requirement already satisfied: safetensors>=0.4.1 in /usr/local/lib/python3.10/dist-packages (from transformers) (0.4.3)\n",
            "Requirement already satisfied: tokenizers<0.20,>=0.19 in /usr/local/lib/python3.10/dist-packages (from transformers) (0.19.1)\n",
            "Requirement already satisfied: tqdm>=4.27 in /usr/local/lib/python3.10/dist-packages (from transformers) (4.66.4)\n",
            "Requirement already satisfied: fsspec>=2023.5.0 in /usr/local/lib/python3.10/dist-packages (from huggingface-hub<1.0,>=0.23.2->transformers) (2024.5.0)\n",
            "Requirement already satisfied: typing-extensions>=3.7.4.3 in /usr/local/lib/python3.10/dist-packages (from huggingface-hub<1.0,>=0.23.2->transformers) (4.12.2)\n",
            "Requirement already satisfied: charset-normalizer<4,>=2 in /usr/local/lib/python3.10/dist-packages (from requests->transformers) (3.3.2)\n",
            "Requirement already satisfied: idna<4,>=2.5 in /usr/local/lib/python3.10/dist-packages (from requests->transformers) (3.7)\n",
            "Requirement already satisfied: urllib3<3,>=1.21.1 in /usr/local/lib/python3.10/dist-packages (from requests->transformers) (2.0.7)\n",
            "Requirement already satisfied: certifi>=2017.4.17 in /usr/local/lib/python3.10/dist-packages (from requests->transformers) (2024.7.4)\n",
            "Requirement already satisfied: datasets in /usr/local/lib/python3.10/dist-packages (2.20.0)\n",
            "Requirement already satisfied: filelock in /usr/local/lib/python3.10/dist-packages (from datasets) (3.15.4)\n",
            "Requirement already satisfied: numpy>=1.17 in /usr/local/lib/python3.10/dist-packages (from datasets) (1.25.2)\n",
            "Requirement already satisfied: pyarrow>=15.0.0 in /usr/local/lib/python3.10/dist-packages (from datasets) (17.0.0)\n",
            "Requirement already satisfied: pyarrow-hotfix in /usr/local/lib/python3.10/dist-packages (from datasets) (0.6)\n",
            "Requirement already satisfied: dill<0.3.9,>=0.3.0 in /usr/local/lib/python3.10/dist-packages (from datasets) (0.3.8)\n",
            "Requirement already satisfied: pandas in /usr/local/lib/python3.10/dist-packages (from datasets) (2.0.3)\n",
            "Requirement already satisfied: requests>=2.32.2 in /usr/local/lib/python3.10/dist-packages (from datasets) (2.32.3)\n",
            "Requirement already satisfied: tqdm>=4.66.3 in /usr/local/lib/python3.10/dist-packages (from datasets) (4.66.4)\n",
            "Requirement already satisfied: xxhash in /usr/local/lib/python3.10/dist-packages (from datasets) (3.4.1)\n",
            "Requirement already satisfied: multiprocess in /usr/local/lib/python3.10/dist-packages (from datasets) (0.70.16)\n",
            "Requirement already satisfied: fsspec<=2024.5.0,>=2023.1.0 in /usr/local/lib/python3.10/dist-packages (from fsspec[http]<=2024.5.0,>=2023.1.0->datasets) (2024.5.0)\n",
            "Requirement already satisfied: aiohttp in /usr/local/lib/python3.10/dist-packages (from datasets) (3.9.5)\n",
            "Requirement already satisfied: huggingface-hub>=0.21.2 in /usr/local/lib/python3.10/dist-packages (from datasets) (0.23.5)\n",
            "Requirement already satisfied: packaging in /usr/local/lib/python3.10/dist-packages (from datasets) (24.1)\n",
            "Requirement already satisfied: pyyaml>=5.1 in /usr/local/lib/python3.10/dist-packages (from datasets) (6.0.1)\n",
            "Requirement already satisfied: aiosignal>=1.1.2 in /usr/local/lib/python3.10/dist-packages (from aiohttp->datasets) (1.3.1)\n",
            "Requirement already satisfied: attrs>=17.3.0 in /usr/local/lib/python3.10/dist-packages (from aiohttp->datasets) (23.2.0)\n",
            "Requirement already satisfied: frozenlist>=1.1.1 in /usr/local/lib/python3.10/dist-packages (from aiohttp->datasets) (1.4.1)\n",
            "Requirement already satisfied: multidict<7.0,>=4.5 in /usr/local/lib/python3.10/dist-packages (from aiohttp->datasets) (6.0.5)\n",
            "Requirement already satisfied: yarl<2.0,>=1.0 in /usr/local/lib/python3.10/dist-packages (from aiohttp->datasets) (1.9.4)\n",
            "Requirement already satisfied: async-timeout<5.0,>=4.0 in /usr/local/lib/python3.10/dist-packages (from aiohttp->datasets) (4.0.3)\n",
            "Requirement already satisfied: typing-extensions>=3.7.4.3 in /usr/local/lib/python3.10/dist-packages (from huggingface-hub>=0.21.2->datasets) (4.12.2)\n",
            "Requirement already satisfied: charset-normalizer<4,>=2 in /usr/local/lib/python3.10/dist-packages (from requests>=2.32.2->datasets) (3.3.2)\n",
            "Requirement already satisfied: idna<4,>=2.5 in /usr/local/lib/python3.10/dist-packages (from requests>=2.32.2->datasets) (3.7)\n",
            "Requirement already satisfied: urllib3<3,>=1.21.1 in /usr/local/lib/python3.10/dist-packages (from requests>=2.32.2->datasets) (2.0.7)\n",
            "Requirement already satisfied: certifi>=2017.4.17 in /usr/local/lib/python3.10/dist-packages (from requests>=2.32.2->datasets) (2024.7.4)\n",
            "Requirement already satisfied: python-dateutil>=2.8.2 in /usr/local/lib/python3.10/dist-packages (from pandas->datasets) (2.8.2)\n",
            "Requirement already satisfied: pytz>=2020.1 in /usr/local/lib/python3.10/dist-packages (from pandas->datasets) (2024.1)\n",
            "Requirement already satisfied: tzdata>=2022.1 in /usr/local/lib/python3.10/dist-packages (from pandas->datasets) (2024.1)\n",
            "Requirement already satisfied: six>=1.5 in /usr/local/lib/python3.10/dist-packages (from python-dateutil>=2.8.2->pandas->datasets) (1.16.0)\n",
            "Requirement already satisfied: accelerate in /usr/local/lib/python3.10/dist-packages (0.32.1)\n",
            "Requirement already satisfied: numpy<2.0.0,>=1.17 in /usr/local/lib/python3.10/dist-packages (from accelerate) (1.25.2)\n",
            "Requirement already satisfied: packaging>=20.0 in /usr/local/lib/python3.10/dist-packages (from accelerate) (24.1)\n",
            "Requirement already satisfied: psutil in /usr/local/lib/python3.10/dist-packages (from accelerate) (5.9.5)\n",
            "Requirement already satisfied: pyyaml in /usr/local/lib/python3.10/dist-packages (from accelerate) (6.0.1)\n",
            "Requirement already satisfied: torch>=1.10.0 in /usr/local/lib/python3.10/dist-packages (from accelerate) (2.3.1+cu121)\n",
            "Requirement already satisfied: huggingface-hub in /usr/local/lib/python3.10/dist-packages (from accelerate) (0.23.5)\n",
            "Requirement already satisfied: safetensors>=0.3.1 in /usr/local/lib/python3.10/dist-packages (from accelerate) (0.4.3)\n",
            "Requirement already satisfied: filelock in /usr/local/lib/python3.10/dist-packages (from torch>=1.10.0->accelerate) (3.15.4)\n",
            "Requirement already satisfied: typing-extensions>=4.8.0 in /usr/local/lib/python3.10/dist-packages (from torch>=1.10.0->accelerate) (4.12.2)\n",
            "Requirement already satisfied: sympy in /usr/local/lib/python3.10/dist-packages (from torch>=1.10.0->accelerate) (1.13.1)\n",
            "Requirement already satisfied: networkx in /usr/local/lib/python3.10/dist-packages (from torch>=1.10.0->accelerate) (3.3)\n",
            "Requirement already satisfied: jinja2 in /usr/local/lib/python3.10/dist-packages (from torch>=1.10.0->accelerate) (3.1.4)\n",
            "Requirement already satisfied: fsspec in /usr/local/lib/python3.10/dist-packages (from torch>=1.10.0->accelerate) (2024.5.0)\n",
            "Requirement already satisfied: nvidia-cuda-nvrtc-cu12==12.1.105 in /usr/local/lib/python3.10/dist-packages (from torch>=1.10.0->accelerate) (12.1.105)\n",
            "Requirement already satisfied: nvidia-cuda-runtime-cu12==12.1.105 in /usr/local/lib/python3.10/dist-packages (from torch>=1.10.0->accelerate) (12.1.105)\n",
            "Requirement already satisfied: nvidia-cuda-cupti-cu12==12.1.105 in /usr/local/lib/python3.10/dist-packages (from torch>=1.10.0->accelerate) (12.1.105)\n",
            "Requirement already satisfied: nvidia-cudnn-cu12==8.9.2.26 in /usr/local/lib/python3.10/dist-packages (from torch>=1.10.0->accelerate) (8.9.2.26)\n",
            "Requirement already satisfied: nvidia-cublas-cu12==12.1.3.1 in /usr/local/lib/python3.10/dist-packages (from torch>=1.10.0->accelerate) (12.1.3.1)\n",
            "Requirement already satisfied: nvidia-cufft-cu12==11.0.2.54 in /usr/local/lib/python3.10/dist-packages (from torch>=1.10.0->accelerate) (11.0.2.54)\n",
            "Requirement already satisfied: nvidia-curand-cu12==10.3.2.106 in /usr/local/lib/python3.10/dist-packages (from torch>=1.10.0->accelerate) (10.3.2.106)\n",
            "Requirement already satisfied: nvidia-cusolver-cu12==11.4.5.107 in /usr/local/lib/python3.10/dist-packages (from torch>=1.10.0->accelerate) (11.4.5.107)\n",
            "Requirement already satisfied: nvidia-cusparse-cu12==12.1.0.106 in /usr/local/lib/python3.10/dist-packages (from torch>=1.10.0->accelerate) (12.1.0.106)\n",
            "Requirement already satisfied: nvidia-nccl-cu12==2.20.5 in /usr/local/lib/python3.10/dist-packages (from torch>=1.10.0->accelerate) (2.20.5)\n",
            "Requirement already satisfied: nvidia-nvtx-cu12==12.1.105 in /usr/local/lib/python3.10/dist-packages (from torch>=1.10.0->accelerate) (12.1.105)\n",
            "Requirement already satisfied: triton==2.3.1 in /usr/local/lib/python3.10/dist-packages (from torch>=1.10.0->accelerate) (2.3.1)\n",
            "Requirement already satisfied: nvidia-nvjitlink-cu12 in /usr/local/lib/python3.10/dist-packages (from nvidia-cusolver-cu12==11.4.5.107->torch>=1.10.0->accelerate) (12.5.82)\n",
            "Requirement already satisfied: requests in /usr/local/lib/python3.10/dist-packages (from huggingface-hub->accelerate) (2.32.3)\n",
            "Requirement already satisfied: tqdm>=4.42.1 in /usr/local/lib/python3.10/dist-packages (from huggingface-hub->accelerate) (4.66.4)\n",
            "Requirement already satisfied: MarkupSafe>=2.0 in /usr/local/lib/python3.10/dist-packages (from jinja2->torch>=1.10.0->accelerate) (2.1.5)\n",
            "Requirement already satisfied: charset-normalizer<4,>=2 in /usr/local/lib/python3.10/dist-packages (from requests->huggingface-hub->accelerate) (3.3.2)\n",
            "Requirement already satisfied: idna<4,>=2.5 in /usr/local/lib/python3.10/dist-packages (from requests->huggingface-hub->accelerate) (3.7)\n",
            "Requirement already satisfied: urllib3<3,>=1.21.1 in /usr/local/lib/python3.10/dist-packages (from requests->huggingface-hub->accelerate) (2.0.7)\n",
            "Requirement already satisfied: certifi>=2017.4.17 in /usr/local/lib/python3.10/dist-packages (from requests->huggingface-hub->accelerate) (2024.7.4)\n",
            "Requirement already satisfied: mpmath<1.4,>=1.1.0 in /usr/local/lib/python3.10/dist-packages (from sympy->torch>=1.10.0->accelerate) (1.3.0)\n"
          ]
        }
      ],
      "source": [
        "!pip install transformers\n",
        "!pip install datasets\n",
        "!pip install accelerate"
      ]
    },
    {
      "cell_type": "code",
      "execution_count": null,
      "metadata": {
        "id": "emEFtKwIltQ6"
      },
      "outputs": [],
      "source": [
        "import json\n",
        "from datasets import Dataset\n",
        "\n",
        "# 학습 데이터 로드\n",
        "with open('./learn_data/navigation_data_kr.json', 'r', encoding='utf-8') as f:\n",
        "    korean_navigation_data = json.load(f)\n",
        "\n",
        "with open('./learn_data/navigation_data_en.json', 'r', encoding='utf-8') as f:\n",
        "    english_navigation_data = json.load(f)\n",
        "\n",
        "with open('./learn_data/security_data_kr.json', 'r', encoding='utf-8') as f:\n",
        "    korean_security_data = json.load(f)\n",
        "\n",
        "with open('./learn_data/security_data_en.json', 'r', encoding='utf-8') as f:\n",
        "    english_security_data = json.load(f)\n",
        "\n",
        "# 데이터셋 결합\n",
        "train_data = korean_navigation_data + english_navigation_data + korean_security_data + english_security_data\n",
        "texts = [f\"질문: {item['question']} 답변: {item['answer']}\" for item in train_data]\n",
        "\n",
        "# Dataset 객체 생성\n",
        "train_dataset = Dataset.from_dict({\"text\": texts})\n"
      ]
    },
    {
      "cell_type": "code",
      "execution_count": null,
      "metadata": {
        "colab": {
          "base_uri": "https://localhost:8080/",
          "height": 198,
          "referenced_widgets": [
            "e89a3ee7024d4121860582466dc22896",
            "4b1c2a6c093b43ccaa5af7e987a7a8cc",
            "b7866404442142cd9a1d560c204ce813",
            "93840465f6ff4fad8b814ba8a187a429",
            "f51e0e7fa90e4e3d8eb827b05eb6c4ca",
            "9fa8fd01259847f3aa3d45983c10b11c",
            "3d86d0492545446082f6516f35d3594c",
            "75e68375b2d04c2fbb6a1e7aa9863d00",
            "de336a5f4281446ca52d56506d2fdcb6",
            "aa9bd62e348940bcb1a0d9e5ea05096f",
            "167e474ee4304695bd7aaffc08a8f18d"
          ]
        },
        "id": "mQRkCaiTlyVK",
        "outputId": "7a23c219-a745-43c5-847f-37ed03ee8692"
      },
      "outputs": [
        {
          "name": "stderr",
          "output_type": "stream",
          "text": [
            "/usr/local/lib/python3.10/dist-packages/huggingface_hub/utils/_token.py:89: UserWarning: \n",
            "The secret `HF_TOKEN` does not exist in your Colab secrets.\n",
            "To authenticate with the Hugging Face Hub, create a token in your settings tab (https://huggingface.co/settings/tokens), set it as secret in your Google Colab and restart your session.\n",
            "You will be able to reuse this secret in all of your notebooks.\n",
            "Please note that authentication is recommended but still optional to access public models or datasets.\n",
            "  warnings.warn(\n",
            "Special tokens have been added in the vocabulary, make sure the associated word embeddings are fine-tuned or trained.\n"
          ]
        },
        {
          "data": {
            "application/vnd.jupyter.widget-view+json": {
              "model_id": "e89a3ee7024d4121860582466dc22896",
              "version_major": 2,
              "version_minor": 0
            },
            "text/plain": [
              "Loading checkpoint shards:   0%|          | 0/4 [00:00<?, ?it/s]"
            ]
          },
          "metadata": {},
          "output_type": "display_data"
        }
      ],
      "source": [
        "from transformers import AutoTokenizer, AutoModelForCausalLM\n",
        "import torch\n",
        "from accelerate import Accelerator\n",
        "\n",
        "# Accelerate 초기화\n",
        "accelerator = Accelerator()\n",
        "\n",
        "# 모델 ID 설정\n",
        "model_id = \"beomi/Llama-3-Open-Ko-8B-Instruct-preview\"\n",
        "\n",
        "# 토크나이저 로드\n",
        "tokenizer = AutoTokenizer.from_pretrained(model_id)\n",
        "\n",
        "# 모델 로드 (자동으로 적절한 dtype 및 디바이스 선택)\n",
        "model = AutoModelForCausalLM.from_pretrained(model_id, torch_dtype=\"auto\")\n",
        "\n",
        "# 패딩 토큰 설정 (eos_token을 pad_token으로 사용)\n",
        "tokenizer.pad_token = tokenizer.eos_token\n",
        "\n",
        "# 모델을 accelerator에 디스패치\n",
        "model = accelerator.prepare(model)"
      ]
    },
    {
      "cell_type": "code",
      "execution_count": null,
      "metadata": {
        "id": "FEB_OVkJlyN7"
      },
      "outputs": [],
      "source": [
        "def tokenize_function(examples):\n",
        "    return tokenizer(examples[\"text\"], padding=\"max_length\", truncation=True, max_length=128)\n",
        "\n",
        "# 데이터셋 토큰화\n",
        "tokenized_datasets = train_dataset.map(tokenize_function, batched=True)\n",
        "\n",
        "# \"text\" 열 제거\n",
        "tokenized_datasets = tokenized_datasets.remove_columns([\"text\"])\n",
        "\n",
        "# 형식 설정 (파이토치 텐서로 변환)\n",
        "tokenized_datasets.set_format(\"torch\")\n",
        "\n",
        "from transformers import DataCollatorForLanguageModeling\n",
        "\n",
        "# 데이터 콜레이터 설정 (MLM 비활성화)\n",
        "data_collator = DataCollatorForLanguageModeling(tokenizer=tokenizer, mlm=False)\n"
      ]
    },
    {
      "cell_type": "code",
      "execution_count": null,
      "metadata": {
        "id": "y5pofDrjl0e3"
      },
      "outputs": [],
      "source": [
        "from transformers import Trainer, TrainingArguments\n",
        "\n",
        "# TrainingArguments 설정\n",
        "training_args = TrainingArguments(\n",
        "    output_dir=\"./llama-finetuned-chatbot\",   # 출력 디렉토리\n",
        "    overwrite_output_dir=True,                # 출력 디렉토리 덮어쓰기\n",
        "    num_train_epochs=3,                       # 훈련 에포크 수\n",
        "    per_device_train_batch_size=2,            # 장치당 배치 크기\n",
        "    save_steps=500,                           # 체크포인트 저장 주기 (스텝 단위)\n",
        "    save_total_limit=2,                       # 최대 저장 체크포인트 수\n",
        "    prediction_loss_only=True,                # 예측 손실만 계산\n",
        "    remove_unused_columns=False,              # 사용되지 않는 열 제거 안 함\n",
        ")\n",
        "\n",
        "# 모델을 accelerator에 디스패치\n",
        "model, tokenized_datasets, data_collator = accelerator.prepare(model, tokenized_datasets, data_collator)\n",
        "\n",
        "# Trainer 설정\n",
        "trainer = Trainer(\n",
        "    model=model,                             # 훈련할 모델\n",
        "    args=training_args,                      # 훈련 인자\n",
        "    data_collator=data_collator,             # 데이터 콜레이터\n",
        "    train_dataset=tokenized_datasets,        # 훈련 데이터셋\n",
        ")\n",
        "\n",
        "# 모델을 accelerator와 함께 훈련\n",
        "trainer.train()\n"
      ]
    },
    {
      "cell_type": "code",
      "execution_count": null,
      "metadata": {
        "id": "ZbPSyoTPl2HH"
      },
      "outputs": [],
      "source": [
        "model.save_pretrained('./llama-finetuned-chatbot')\n",
        "tokenizer.save_pretrained('./llama-finetuned-chatbot')"
      ]
    },
    {
      "cell_type": "code",
      "execution_count": null,
      "metadata": {
        "id": "Btjbrc70mBy4"
      },
      "outputs": [],
      "source": [
        "def generate_answer(question, model, tokenizer):\n",
        "    input_text = f\"질문: {question} 답변:\"\n",
        "    input_ids = tokenizer.encode(input_text, return_tensors='pt')\n",
        "    output = model.generate(input_ids, max_length=100, num_return_sequences=1, pad_token_id=tokenizer.eos_token_id)\n",
        "    answer = tokenizer.decode(output[0], skip_special_tokens=True)\n",
        "    answer = answer.split(\"답변:\")[1].strip()\n",
        "\n",
        "    if answer == \"\" or \"질문\" in answer:\n",
        "        return \"죄송합니다. 이해하지 못했습니다. 다시 질문해 주시겠어요?\"\n",
        "\n",
        "    return answer\n",
        "\n",
        "example_question = \"홈페이지로 어떻게 가나요?\"\n",
        "answer = generate_answer(example_question, model, tokenizer)\n",
        "print(f\"질문: {example_question}\")\n",
        "print(f\"답변: {answer}\")\n",
        "\n",
        "weird_question = \"이상한 질문이에요!\"\n",
        "answer = generate_answer(weird_question, model, tokenizer)\n",
        "print(f\"질문: {weird_question}\")\n",
        "print(f\"답변: {answer}\")\n"
      ]
    },
    {
      "cell_type": "markdown",
      "metadata": {
        "id": "iwX9iao4lxpH"
      },
      "source": []
    }
  ],
  "metadata": {
    "colab": {
      "provenance": []
    },
    "kernelspec": {
      "display_name": "Python 3",
      "name": "python3"
    },
    "language_info": {
      "codemirror_mode": {
        "name": "ipython",
        "version": 3
      },
      "file_extension": ".py",
      "mimetype": "text/x-python",
      "name": "python",
      "nbconvert_exporter": "python",
      "pygments_lexer": "ipython3",
      "version": "3.11.9"
    },
    "widgets": {
      "application/vnd.jupyter.widget-state+json": {
        "1359a9ac406d4aa8931a26c07dc1adf5": {
          "model_module": "@jupyter-widgets/controls",
          "model_module_version": "1.5.0",
          "model_name": "DescriptionStyleModel",
          "state": {
            "_model_module": "@jupyter-widgets/controls",
            "_model_module_version": "1.5.0",
            "_model_name": "DescriptionStyleModel",
            "_view_count": null,
            "_view_module": "@jupyter-widgets/base",
            "_view_module_version": "1.2.0",
            "_view_name": "StyleView",
            "description_width": ""
          }
        },
        "167e474ee4304695bd7aaffc08a8f18d": {
          "model_module": "@jupyter-widgets/controls",
          "model_module_version": "1.5.0",
          "model_name": "DescriptionStyleModel",
          "state": {
            "_model_module": "@jupyter-widgets/controls",
            "_model_module_version": "1.5.0",
            "_model_name": "DescriptionStyleModel",
            "_view_count": null,
            "_view_module": "@jupyter-widgets/base",
            "_view_module_version": "1.2.0",
            "_view_name": "StyleView",
            "description_width": ""
          }
        },
        "3d86d0492545446082f6516f35d3594c": {
          "model_module": "@jupyter-widgets/controls",
          "model_module_version": "1.5.0",
          "model_name": "DescriptionStyleModel",
          "state": {
            "_model_module": "@jupyter-widgets/controls",
            "_model_module_version": "1.5.0",
            "_model_name": "DescriptionStyleModel",
            "_view_count": null,
            "_view_module": "@jupyter-widgets/base",
            "_view_module_version": "1.2.0",
            "_view_name": "StyleView",
            "description_width": ""
          }
        },
        "4b1c2a6c093b43ccaa5af7e987a7a8cc": {
          "model_module": "@jupyter-widgets/controls",
          "model_module_version": "1.5.0",
          "model_name": "HTMLModel",
          "state": {
            "_dom_classes": [],
            "_model_module": "@jupyter-widgets/controls",
            "_model_module_version": "1.5.0",
            "_model_name": "HTMLModel",
            "_view_count": null,
            "_view_module": "@jupyter-widgets/controls",
            "_view_module_version": "1.5.0",
            "_view_name": "HTMLView",
            "description": "",
            "description_tooltip": null,
            "layout": "IPY_MODEL_9fa8fd01259847f3aa3d45983c10b11c",
            "placeholder": "​",
            "style": "IPY_MODEL_3d86d0492545446082f6516f35d3594c",
            "value": "Loading checkpoint shards:  50%"
          }
        },
        "4d1fbb682a5d4b61a6038a545cc08160": {
          "model_module": "@jupyter-widgets/base",
          "model_module_version": "1.2.0",
          "model_name": "LayoutModel",
          "state": {
            "_model_module": "@jupyter-widgets/base",
            "_model_module_version": "1.2.0",
            "_model_name": "LayoutModel",
            "_view_count": null,
            "_view_module": "@jupyter-widgets/base",
            "_view_module_version": "1.2.0",
            "_view_name": "LayoutView",
            "align_content": null,
            "align_items": null,
            "align_self": null,
            "border": null,
            "bottom": null,
            "display": null,
            "flex": null,
            "flex_flow": null,
            "grid_area": null,
            "grid_auto_columns": null,
            "grid_auto_flow": null,
            "grid_auto_rows": null,
            "grid_column": null,
            "grid_gap": null,
            "grid_row": null,
            "grid_template_areas": null,
            "grid_template_columns": null,
            "grid_template_rows": null,
            "height": null,
            "justify_content": null,
            "justify_items": null,
            "left": null,
            "margin": null,
            "max_height": null,
            "max_width": null,
            "min_height": null,
            "min_width": null,
            "object_fit": null,
            "object_position": null,
            "order": null,
            "overflow": null,
            "overflow_x": null,
            "overflow_y": null,
            "padding": null,
            "right": null,
            "top": null,
            "visibility": null,
            "width": null
          }
        },
        "6c8406e003c84582b5c64d102d72c590": {
          "model_module": "@jupyter-widgets/controls",
          "model_module_version": "1.5.0",
          "model_name": "DescriptionStyleModel",
          "state": {
            "_model_module": "@jupyter-widgets/controls",
            "_model_module_version": "1.5.0",
            "_model_name": "DescriptionStyleModel",
            "_view_count": null,
            "_view_module": "@jupyter-widgets/base",
            "_view_module_version": "1.2.0",
            "_view_name": "StyleView",
            "description_width": ""
          }
        },
        "741cb4a4f4044e9589295edef0ed6e62": {
          "model_module": "@jupyter-widgets/base",
          "model_module_version": "1.2.0",
          "model_name": "LayoutModel",
          "state": {
            "_model_module": "@jupyter-widgets/base",
            "_model_module_version": "1.2.0",
            "_model_name": "LayoutModel",
            "_view_count": null,
            "_view_module": "@jupyter-widgets/base",
            "_view_module_version": "1.2.0",
            "_view_name": "LayoutView",
            "align_content": null,
            "align_items": null,
            "align_self": null,
            "border": null,
            "bottom": null,
            "display": null,
            "flex": null,
            "flex_flow": null,
            "grid_area": null,
            "grid_auto_columns": null,
            "grid_auto_flow": null,
            "grid_auto_rows": null,
            "grid_column": null,
            "grid_gap": null,
            "grid_row": null,
            "grid_template_areas": null,
            "grid_template_columns": null,
            "grid_template_rows": null,
            "height": null,
            "justify_content": null,
            "justify_items": null,
            "left": null,
            "margin": null,
            "max_height": null,
            "max_width": null,
            "min_height": null,
            "min_width": null,
            "object_fit": null,
            "object_position": null,
            "order": null,
            "overflow": null,
            "overflow_x": null,
            "overflow_y": null,
            "padding": null,
            "right": null,
            "top": null,
            "visibility": null,
            "width": null
          }
        },
        "75b2f69bedab4a0ba9e35ea20410baa7": {
          "model_module": "@jupyter-widgets/controls",
          "model_module_version": "1.5.0",
          "model_name": "HTMLModel",
          "state": {
            "_dom_classes": [],
            "_model_module": "@jupyter-widgets/controls",
            "_model_module_version": "1.5.0",
            "_model_name": "HTMLModel",
            "_view_count": null,
            "_view_module": "@jupyter-widgets/controls",
            "_view_module_version": "1.5.0",
            "_view_name": "HTMLView",
            "description": "",
            "description_tooltip": null,
            "layout": "IPY_MODEL_741cb4a4f4044e9589295edef0ed6e62",
            "placeholder": "​",
            "style": "IPY_MODEL_6c8406e003c84582b5c64d102d72c590",
            "value": " 2018/2018 [00:01&lt;00:00, 1877.35 examples/s]"
          }
        },
        "75e68375b2d04c2fbb6a1e7aa9863d00": {
          "model_module": "@jupyter-widgets/base",
          "model_module_version": "1.2.0",
          "model_name": "LayoutModel",
          "state": {
            "_model_module": "@jupyter-widgets/base",
            "_model_module_version": "1.2.0",
            "_model_name": "LayoutModel",
            "_view_count": null,
            "_view_module": "@jupyter-widgets/base",
            "_view_module_version": "1.2.0",
            "_view_name": "LayoutView",
            "align_content": null,
            "align_items": null,
            "align_self": null,
            "border": null,
            "bottom": null,
            "display": null,
            "flex": null,
            "flex_flow": null,
            "grid_area": null,
            "grid_auto_columns": null,
            "grid_auto_flow": null,
            "grid_auto_rows": null,
            "grid_column": null,
            "grid_gap": null,
            "grid_row": null,
            "grid_template_areas": null,
            "grid_template_columns": null,
            "grid_template_rows": null,
            "height": null,
            "justify_content": null,
            "justify_items": null,
            "left": null,
            "margin": null,
            "max_height": null,
            "max_width": null,
            "min_height": null,
            "min_width": null,
            "object_fit": null,
            "object_position": null,
            "order": null,
            "overflow": null,
            "overflow_x": null,
            "overflow_y": null,
            "padding": null,
            "right": null,
            "top": null,
            "visibility": null,
            "width": null
          }
        },
        "816e61d2f1644e2badc4de128fcf0b4e": {
          "model_module": "@jupyter-widgets/base",
          "model_module_version": "1.2.0",
          "model_name": "LayoutModel",
          "state": {
            "_model_module": "@jupyter-widgets/base",
            "_model_module_version": "1.2.0",
            "_model_name": "LayoutModel",
            "_view_count": null,
            "_view_module": "@jupyter-widgets/base",
            "_view_module_version": "1.2.0",
            "_view_name": "LayoutView",
            "align_content": null,
            "align_items": null,
            "align_self": null,
            "border": null,
            "bottom": null,
            "display": null,
            "flex": null,
            "flex_flow": null,
            "grid_area": null,
            "grid_auto_columns": null,
            "grid_auto_flow": null,
            "grid_auto_rows": null,
            "grid_column": null,
            "grid_gap": null,
            "grid_row": null,
            "grid_template_areas": null,
            "grid_template_columns": null,
            "grid_template_rows": null,
            "height": null,
            "justify_content": null,
            "justify_items": null,
            "left": null,
            "margin": null,
            "max_height": null,
            "max_width": null,
            "min_height": null,
            "min_width": null,
            "object_fit": null,
            "object_position": null,
            "order": null,
            "overflow": null,
            "overflow_x": null,
            "overflow_y": null,
            "padding": null,
            "right": null,
            "top": null,
            "visibility": null,
            "width": null
          }
        },
        "93840465f6ff4fad8b814ba8a187a429": {
          "model_module": "@jupyter-widgets/controls",
          "model_module_version": "1.5.0",
          "model_name": "HTMLModel",
          "state": {
            "_dom_classes": [],
            "_model_module": "@jupyter-widgets/controls",
            "_model_module_version": "1.5.0",
            "_model_name": "HTMLModel",
            "_view_count": null,
            "_view_module": "@jupyter-widgets/controls",
            "_view_module_version": "1.5.0",
            "_view_name": "HTMLView",
            "description": "",
            "description_tooltip": null,
            "layout": "IPY_MODEL_aa9bd62e348940bcb1a0d9e5ea05096f",
            "placeholder": "​",
            "style": "IPY_MODEL_167e474ee4304695bd7aaffc08a8f18d",
            "value": " 2/4 [00:52&lt;00:52, 26.13s/it]"
          }
        },
        "9fa8fd01259847f3aa3d45983c10b11c": {
          "model_module": "@jupyter-widgets/base",
          "model_module_version": "1.2.0",
          "model_name": "LayoutModel",
          "state": {
            "_model_module": "@jupyter-widgets/base",
            "_model_module_version": "1.2.0",
            "_model_name": "LayoutModel",
            "_view_count": null,
            "_view_module": "@jupyter-widgets/base",
            "_view_module_version": "1.2.0",
            "_view_name": "LayoutView",
            "align_content": null,
            "align_items": null,
            "align_self": null,
            "border": null,
            "bottom": null,
            "display": null,
            "flex": null,
            "flex_flow": null,
            "grid_area": null,
            "grid_auto_columns": null,
            "grid_auto_flow": null,
            "grid_auto_rows": null,
            "grid_column": null,
            "grid_gap": null,
            "grid_row": null,
            "grid_template_areas": null,
            "grid_template_columns": null,
            "grid_template_rows": null,
            "height": null,
            "justify_content": null,
            "justify_items": null,
            "left": null,
            "margin": null,
            "max_height": null,
            "max_width": null,
            "min_height": null,
            "min_width": null,
            "object_fit": null,
            "object_position": null,
            "order": null,
            "overflow": null,
            "overflow_x": null,
            "overflow_y": null,
            "padding": null,
            "right": null,
            "top": null,
            "visibility": null,
            "width": null
          }
        },
        "a2bce6f3429f4508bf4eb67cf7ea8bf5": {
          "model_module": "@jupyter-widgets/controls",
          "model_module_version": "1.5.0",
          "model_name": "FloatProgressModel",
          "state": {
            "_dom_classes": [],
            "_model_module": "@jupyter-widgets/controls",
            "_model_module_version": "1.5.0",
            "_model_name": "FloatProgressModel",
            "_view_count": null,
            "_view_module": "@jupyter-widgets/controls",
            "_view_module_version": "1.5.0",
            "_view_name": "ProgressView",
            "bar_style": "success",
            "description": "",
            "description_tooltip": null,
            "layout": "IPY_MODEL_eb312237519146968ab6d75fef415d26",
            "max": 2018,
            "min": 0,
            "orientation": "horizontal",
            "style": "IPY_MODEL_a8dc2538199d4e3fa36d464924847220",
            "value": 2018
          }
        },
        "a8dc2538199d4e3fa36d464924847220": {
          "model_module": "@jupyter-widgets/controls",
          "model_module_version": "1.5.0",
          "model_name": "ProgressStyleModel",
          "state": {
            "_model_module": "@jupyter-widgets/controls",
            "_model_module_version": "1.5.0",
            "_model_name": "ProgressStyleModel",
            "_view_count": null,
            "_view_module": "@jupyter-widgets/base",
            "_view_module_version": "1.2.0",
            "_view_name": "StyleView",
            "bar_color": null,
            "description_width": ""
          }
        },
        "aa9bd62e348940bcb1a0d9e5ea05096f": {
          "model_module": "@jupyter-widgets/base",
          "model_module_version": "1.2.0",
          "model_name": "LayoutModel",
          "state": {
            "_model_module": "@jupyter-widgets/base",
            "_model_module_version": "1.2.0",
            "_model_name": "LayoutModel",
            "_view_count": null,
            "_view_module": "@jupyter-widgets/base",
            "_view_module_version": "1.2.0",
            "_view_name": "LayoutView",
            "align_content": null,
            "align_items": null,
            "align_self": null,
            "border": null,
            "bottom": null,
            "display": null,
            "flex": null,
            "flex_flow": null,
            "grid_area": null,
            "grid_auto_columns": null,
            "grid_auto_flow": null,
            "grid_auto_rows": null,
            "grid_column": null,
            "grid_gap": null,
            "grid_row": null,
            "grid_template_areas": null,
            "grid_template_columns": null,
            "grid_template_rows": null,
            "height": null,
            "justify_content": null,
            "justify_items": null,
            "left": null,
            "margin": null,
            "max_height": null,
            "max_width": null,
            "min_height": null,
            "min_width": null,
            "object_fit": null,
            "object_position": null,
            "order": null,
            "overflow": null,
            "overflow_x": null,
            "overflow_y": null,
            "padding": null,
            "right": null,
            "top": null,
            "visibility": null,
            "width": null
          }
        },
        "b7866404442142cd9a1d560c204ce813": {
          "model_module": "@jupyter-widgets/controls",
          "model_module_version": "1.5.0",
          "model_name": "FloatProgressModel",
          "state": {
            "_dom_classes": [],
            "_model_module": "@jupyter-widgets/controls",
            "_model_module_version": "1.5.0",
            "_model_name": "FloatProgressModel",
            "_view_count": null,
            "_view_module": "@jupyter-widgets/controls",
            "_view_module_version": "1.5.0",
            "_view_name": "ProgressView",
            "bar_style": "",
            "description": "",
            "description_tooltip": null,
            "layout": "IPY_MODEL_75e68375b2d04c2fbb6a1e7aa9863d00",
            "max": 4,
            "min": 0,
            "orientation": "horizontal",
            "style": "IPY_MODEL_de336a5f4281446ca52d56506d2fdcb6",
            "value": 2
          }
        },
        "ccc8801d948a41dc9e8c9aa6e61bf910": {
          "model_module": "@jupyter-widgets/controls",
          "model_module_version": "1.5.0",
          "model_name": "HTMLModel",
          "state": {
            "_dom_classes": [],
            "_model_module": "@jupyter-widgets/controls",
            "_model_module_version": "1.5.0",
            "_model_name": "HTMLModel",
            "_view_count": null,
            "_view_module": "@jupyter-widgets/controls",
            "_view_module_version": "1.5.0",
            "_view_name": "HTMLView",
            "description": "",
            "description_tooltip": null,
            "layout": "IPY_MODEL_4d1fbb682a5d4b61a6038a545cc08160",
            "placeholder": "​",
            "style": "IPY_MODEL_1359a9ac406d4aa8931a26c07dc1adf5",
            "value": "Map: 100%"
          }
        },
        "de336a5f4281446ca52d56506d2fdcb6": {
          "model_module": "@jupyter-widgets/controls",
          "model_module_version": "1.5.0",
          "model_name": "ProgressStyleModel",
          "state": {
            "_model_module": "@jupyter-widgets/controls",
            "_model_module_version": "1.5.0",
            "_model_name": "ProgressStyleModel",
            "_view_count": null,
            "_view_module": "@jupyter-widgets/base",
            "_view_module_version": "1.2.0",
            "_view_name": "StyleView",
            "bar_color": null,
            "description_width": ""
          }
        },
        "e89a3ee7024d4121860582466dc22896": {
          "model_module": "@jupyter-widgets/controls",
          "model_module_version": "1.5.0",
          "model_name": "HBoxModel",
          "state": {
            "_dom_classes": [],
            "_model_module": "@jupyter-widgets/controls",
            "_model_module_version": "1.5.0",
            "_model_name": "HBoxModel",
            "_view_count": null,
            "_view_module": "@jupyter-widgets/controls",
            "_view_module_version": "1.5.0",
            "_view_name": "HBoxView",
            "box_style": "",
            "children": [
              "IPY_MODEL_4b1c2a6c093b43ccaa5af7e987a7a8cc",
              "IPY_MODEL_b7866404442142cd9a1d560c204ce813",
              "IPY_MODEL_93840465f6ff4fad8b814ba8a187a429"
            ],
            "layout": "IPY_MODEL_f51e0e7fa90e4e3d8eb827b05eb6c4ca"
          }
        },
        "eb312237519146968ab6d75fef415d26": {
          "model_module": "@jupyter-widgets/base",
          "model_module_version": "1.2.0",
          "model_name": "LayoutModel",
          "state": {
            "_model_module": "@jupyter-widgets/base",
            "_model_module_version": "1.2.0",
            "_model_name": "LayoutModel",
            "_view_count": null,
            "_view_module": "@jupyter-widgets/base",
            "_view_module_version": "1.2.0",
            "_view_name": "LayoutView",
            "align_content": null,
            "align_items": null,
            "align_self": null,
            "border": null,
            "bottom": null,
            "display": null,
            "flex": null,
            "flex_flow": null,
            "grid_area": null,
            "grid_auto_columns": null,
            "grid_auto_flow": null,
            "grid_auto_rows": null,
            "grid_column": null,
            "grid_gap": null,
            "grid_row": null,
            "grid_template_areas": null,
            "grid_template_columns": null,
            "grid_template_rows": null,
            "height": null,
            "justify_content": null,
            "justify_items": null,
            "left": null,
            "margin": null,
            "max_height": null,
            "max_width": null,
            "min_height": null,
            "min_width": null,
            "object_fit": null,
            "object_position": null,
            "order": null,
            "overflow": null,
            "overflow_x": null,
            "overflow_y": null,
            "padding": null,
            "right": null,
            "top": null,
            "visibility": null,
            "width": null
          }
        },
        "f3d850d3943b40d9ab1dd62b49637055": {
          "model_module": "@jupyter-widgets/controls",
          "model_module_version": "1.5.0",
          "model_name": "HBoxModel",
          "state": {
            "_dom_classes": [],
            "_model_module": "@jupyter-widgets/controls",
            "_model_module_version": "1.5.0",
            "_model_name": "HBoxModel",
            "_view_count": null,
            "_view_module": "@jupyter-widgets/controls",
            "_view_module_version": "1.5.0",
            "_view_name": "HBoxView",
            "box_style": "",
            "children": [
              "IPY_MODEL_ccc8801d948a41dc9e8c9aa6e61bf910",
              "IPY_MODEL_a2bce6f3429f4508bf4eb67cf7ea8bf5",
              "IPY_MODEL_75b2f69bedab4a0ba9e35ea20410baa7"
            ],
            "layout": "IPY_MODEL_816e61d2f1644e2badc4de128fcf0b4e"
          }
        },
        "f51e0e7fa90e4e3d8eb827b05eb6c4ca": {
          "model_module": "@jupyter-widgets/base",
          "model_module_version": "1.2.0",
          "model_name": "LayoutModel",
          "state": {
            "_model_module": "@jupyter-widgets/base",
            "_model_module_version": "1.2.0",
            "_model_name": "LayoutModel",
            "_view_count": null,
            "_view_module": "@jupyter-widgets/base",
            "_view_module_version": "1.2.0",
            "_view_name": "LayoutView",
            "align_content": null,
            "align_items": null,
            "align_self": null,
            "border": null,
            "bottom": null,
            "display": null,
            "flex": null,
            "flex_flow": null,
            "grid_area": null,
            "grid_auto_columns": null,
            "grid_auto_flow": null,
            "grid_auto_rows": null,
            "grid_column": null,
            "grid_gap": null,
            "grid_row": null,
            "grid_template_areas": null,
            "grid_template_columns": null,
            "grid_template_rows": null,
            "height": null,
            "justify_content": null,
            "justify_items": null,
            "left": null,
            "margin": null,
            "max_height": null,
            "max_width": null,
            "min_height": null,
            "min_width": null,
            "object_fit": null,
            "object_position": null,
            "order": null,
            "overflow": null,
            "overflow_x": null,
            "overflow_y": null,
            "padding": null,
            "right": null,
            "top": null,
            "visibility": null,
            "width": null
          }
        }
      }
    }
  },
  "nbformat": 4,
  "nbformat_minor": 0
}
