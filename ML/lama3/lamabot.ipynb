{
 "cells": [
  {
   "cell_type": "code",
   "execution_count": 1,
   "metadata": {},
   "outputs": [
    {
     "name": "stderr",
     "output_type": "stream",
     "text": [
      "C:\\Users\\SSAFY\\AppData\\Local\\Packages\\PythonSoftwareFoundation.Python.3.11_qbz5n2kfra8p0\\LocalCache\\local-packages\\Python311\\site-packages\\tqdm\\auto.py:21: TqdmWarning: IProgress not found. Please update jupyter and ipywidgets. See https://ipywidgets.readthedocs.io/en/stable/user_install.html\n",
      "  from .autonotebook import tqdm as notebook_tqdm\n"
     ]
    },
    {
     "data": {
      "text/plain": [
       "Dataset({\n",
       "    features: ['question', 'answer'],\n",
       "    num_rows: 38\n",
       "})"
      ]
     },
     "execution_count": 1,
     "metadata": {},
     "output_type": "execute_result"
    }
   ],
   "source": [
    "import pandas as pd\n",
    "from datasets import Dataset\n",
    "\n",
    "# CSV 파일 로드\n",
    "df_part1 = pd.read_csv('./data/user_oriented_training_data_part1.csv')\n",
    "df_part2 = pd.read_csv('./data/user_oriented_training_data_part2.csv')\n",
    "\n",
    "# 데이터프레임 합치기\n",
    "df = pd.concat([df_part1, df_part2], ignore_index=True)\n",
    "\n",
    "# 데이터셋으로 변환\n",
    "dataset = Dataset.from_pandas(df)\n",
    "\n",
    "# 데이터 확인\n",
    "dataset\n"
   ]
  },
  {
   "cell_type": "code",
   "execution_count": 2,
   "metadata": {},
   "outputs": [
    {
     "data": {
      "text/plain": [
       "'./data/combined_training_data.csv'"
      ]
     },
     "execution_count": 2,
     "metadata": {},
     "output_type": "execute_result"
    }
   ],
   "source": [
    "additional_data = [\n",
    "    {\n",
    "        'question': '집을 안전하게 지키기 위해 어떤 조치를 취해야 하나요?',\n",
    "        'answer': '집을 안전하게 지키기 위해서는 문과 창문을 항상 잠그고, 외부에 보안 카메라를 설치하며, 정기적으로 보안 시스템을 점검하는 것이 중요합니다.'\n",
    "    },\n",
    "    {\n",
    "        'question': '외출 시 집을 안전하게 하기 위한 팁은 무엇인가요?',\n",
    "        'answer': '외출 시에는 모든 문과 창문을 잠그고, 집에 사람이 없는 것처럼 보이지 않도록 타이머를 설정해 조명을 켜두는 것이 좋습니다. 또한, 신뢰할 수 있는 이웃에게 집을 봐달라고 부탁하는 것도 좋은 방법입니다.'\n",
    "    },\n",
    "    {\n",
    "        'question': '보안 카메라를 설치할 때 주의할 점은 무엇인가요?',\n",
    "        'answer': '보안 카메라를 설치할 때는 집의 주요 출입구와 창문을 감시할 수 있는 위치에 설치하고, 밤에도 잘 보이도록 적외선 기능이 있는 카메라를 선택하는 것이 좋습니다.'\n",
    "    },\n",
    "    {\n",
    "        'question': '화재 발생 시 대처 방법은 무엇인가요?',\n",
    "        'answer': '화재 발생 시에는 침착하게 대처해야 합니다. 불이 난 것을 알리기 위해 화재 경보기를 울리고, 가능한 한 빠르게 안전한 출구로 대피합니다. 엘리베이터는 사용하지 말고, 낮은 자세로 이동하여 연기를 피하는 것이 중요합니다.'\n",
    "    },\n",
    "    {\n",
    "        'question': '화재 예방을 위해 집에서 어떤 조치를 취할 수 있나요?',\n",
    "        'answer': '화재 예방을 위해서는 전기 기기 사용 후 플러그를 뽑고, 가스레인지 사용 후에는 가스 밸브를 잠그며, 정기적으로 소화기와 화재 경보기의 상태를 점검하는 것이 중요합니다.'\n",
    "    },\n",
    "    {\n",
    "        'question': '가정 내 응급 상황에 대비해 준비해야 할 것은 무엇인가요?',\n",
    "        'answer': '가정 내 응급 상황에 대비해 응급 처치 키트를 준비하고, 가족 모두가 응급 상황 시 대처 방법을 숙지하도록 교육하는 것이 중요합니다. 또한, 긴급 연락처를 쉽게 찾을 수 있는 곳에 두는 것도 좋습니다.'\n",
    "    },\n",
    "    {\n",
    "        'question': '가정 내 침입자를 예방하는 방법은 무엇인가요?',\n",
    "        'answer': '가정 내 침입자를 예방하기 위해서는 강력한 잠금 장치를 설치하고, 외부인이 쉽게 접근할 수 없도록 울타리를 설치하며, 정기적으로 주변을 순찰하는 것이 좋습니다.'\n",
    "    },\n",
    "    {\n",
    "        'question': '아이들의 안전을 위해 집에서 주의해야 할 점은 무엇인가요?',\n",
    "        'answer': '아이들의 안전을 위해서는 날카로운 물건이나 유해 물질을 아이들의 손이 닿지 않는 곳에 보관하고, 아이들이 놀 수 있는 공간에 안전 장치를 설치하며, 화재나 감전 등의 위험 요소를 제거하는 것이 중요합니다.'\n",
    "    },\n",
    "    {\n",
    "        'question': '집에서 사용할 수 있는 개인 안전 장치는 무엇이 있나요?',\n",
    "        'answer': '집에서 사용할 수 있는 개인 안전 장치로는 도어 스톱 알람, 창문 잠금 장치, 스마트 도어벨, 보안 카메라, 소화기 등이 있습니다.'\n",
    "    },\n",
    "    {\n",
    "        'question': '보안 시스템을 선택할 때 고려해야 할 사항은 무엇인가요?',\n",
    "        'answer': '보안 시스템을 선택할 때는 설치의 용이성, 감지 센서의 종류와 위치, 카메라 해상도, 녹화 저장 방식, 원격 모니터링 기능 등을 고려해야 합니다.'\n",
    "    }\n",
    "]\n",
    "\n",
    "# 기존 데이터와 추가 데이터를 합치기\n",
    "df_additional = pd.DataFrame(additional_data)\n",
    "df_combined = pd.concat([df_part1, df_part2, df_additional], ignore_index=True)\n",
    "\n",
    "# 데이터프레임을 CSV 파일로 저장\n",
    "combined_csv_path = './data/combined_training_data.csv'\n",
    "df_combined.to_csv(combined_csv_path, index=False)\n",
    "\n",
    "combined_csv_path\n"
   ]
  },
  {
   "cell_type": "code",
   "execution_count": 3,
   "metadata": {},
   "outputs": [
    {
     "data": {
      "text/plain": [
       "'./data/combined_training_data_extended.csv'"
      ]
     },
     "execution_count": 3,
     "metadata": {},
     "output_type": "execute_result"
    }
   ],
   "source": [
    "additional_data.extend([\n",
    "    {\n",
    "        'question': '집에 보안 시스템을 설치할 때 비용을 절감하는 방법은 무엇인가요?',\n",
    "        'answer': '보안 시스템 설치 비용을 절감하기 위해서는 DIY 키트를 구매하여 직접 설치하거나, 필요한 최소한의 기능만 포함된 기본 패키지를 선택하는 것이 좋습니다.'\n",
    "    },\n",
    "    {\n",
    "        'question': '비상 상황에서 대피 계획을 어떻게 세울 수 있나요?',\n",
    "        'answer': '비상 상황에서의 대피 계획을 세우기 위해 가족 모두가 참여하는 대피 훈련을 정기적으로 실시하고, 각 방마다 출구를 명확히 해 두며, 대피 시 사용할 수 있는 필수품을 준비해 두어야 합니다.'\n",
    "    },\n",
    "    {\n",
    "        'question': '개인 정보 보호를 위해 집에서 주의해야 할 점은 무엇인가요?',\n",
    "        'answer': '개인 정보 보호를 위해서는 중요한 서류나 물품을 안전한 장소에 보관하고, 온라인 계정에 강력한 비밀번호를 설정하며, 보안이 강화된 와이파이 네트워크를 사용하는 것이 좋습니다.'\n",
    "    },\n",
    "    {\n",
    "        'question': '어린이를 위한 집 안전 팁은 무엇인가요?',\n",
    "        'answer': '어린이를 위한 집 안전 팁으로는 가구 모서리에 보호대를 설치하고, 전기 콘센트에 안전 덮개를 씌우며, 아이들이 손 닿지 않는 곳에 위험한 물건을 보관하는 것이 중요합니다.'\n",
    "    },\n",
    "    {\n",
    "        'question': '애완동물의 안전을 위해 집에서 주의할 점은 무엇인가요?',\n",
    "        'answer': '애완동물의 안전을 위해서는 유독 식물이나 화학 물질을 접근할 수 없는 곳에 두고, 작은 물건이나 전기 코드가 물리지 않도록 주의하며, 탈출 방지를 위해 문과 창문을 잘 잠가야 합니다.'\n",
    "    },\n",
    "    {\n",
    "        'question': '집에서 건강을 지키기 위한 환경을 어떻게 조성할 수 있나요?',\n",
    "        'answer': '집에서 건강을 지키기 위해서는 실내 공기를 자주 환기시키고, 알레르기를 유발할 수 있는 먼지나 곰팡이를 제거하며, 건강에 좋은 식물을 키우는 것이 도움이 됩니다.'\n",
    "    },\n",
    "    {\n",
    "        'question': '집에서 일어날 수 있는 응급 상황에 대비해 어떤 준비를 해야 하나요?',\n",
    "        'answer': '응급 상황에 대비해 가정용 응급 처치 키트를 준비하고, 주요 응급 전화번호를 쉽게 찾을 수 있는 곳에 두며, 가족 모두가 응급 처치 방법을 익혀야 합니다.'\n",
    "    },\n",
    "    {\n",
    "        'question': '침입자를 예방하기 위해 야간 조명을 어떻게 활용할 수 있나요?',\n",
    "        'answer': '침입자를 예방하기 위해 야간에는 자동으로 켜지는 센서등을 설치하거나, 일정 시간마다 켜지는 타이머 조명을 사용하여 집에 사람이 있는 것처럼 보이게 하는 것이 좋습니다.'\n",
    "    },\n",
    "    {\n",
    "        'question': '도난 방지를 위해 집 안에 귀중품을 어떻게 보관해야 하나요?',\n",
    "        'answer': '도난 방지를 위해 귀중품은 금고에 보관하거나, 잘 보이지 않는 은밀한 장소에 숨겨 두는 것이 좋습니다. 또한, 귀중품의 목록을 작성해 두는 것도 중요합니다.'\n",
    "    },\n",
    "    {\n",
    "        'question': '화재 경보기를 설치할 때 주의해야 할 점은 무엇인가요?',\n",
    "        'answer': '화재 경보기를 설치할 때는 각 층마다 적어도 하나씩 설치하고, 부엌과 침실 근처에 설치하는 것이 좋습니다. 또한, 정기적으로 배터리를 교체하고 작동 여부를 확인해야 합니다.'\n",
    "    },\n",
    "    {\n",
    "        'question': '집에 침입자가 들어왔을 때 어떻게 대처해야 하나요?',\n",
    "        'answer': '침입자가 들어왔을 때는 가능한 한 빨리 안전한 장소로 대피하고, 경찰에 즉시 신고하며, 침입자와 직접 대면하지 않도록 주의해야 합니다.'\n",
    "    },\n",
    "    {\n",
    "        'question': '보안 카메라를 사용하여 집을 모니터링하는 방법은 무엇인가요?',\n",
    "        'answer': '보안 카메라를 사용하여 집을 모니터링하려면, 카메라를 출입구와 주요 통로에 설치하고, 스마트폰이나 컴퓨터를 통해 실시간으로 확인할 수 있는 시스템을 구축하는 것이 좋습니다.'\n",
    "    },\n",
    "    {\n",
    "        'question': '겨울철에 집을 안전하게 유지하는 방법은 무엇인가요?',\n",
    "        'answer': '겨울철에는 난방 기기의 안전을 점검하고, 수도관이 얼지 않도록 보온 처리를 하며, 눈이 쌓이지 않도록 지붕과 주변을 정리하는 것이 중요합니다.'\n",
    "    },\n",
    "    {\n",
    "        'question': '여름철에 집을 안전하게 유지하는 방법은 무엇인가요?',\n",
    "        'answer': '여름철에는 냉방 기기의 안전을 점검하고, 벌레나 해충의 침입을 막기 위해 창문과 문에 방충망을 설치하며, 정전 대비를 위해 손전등과 배터리를 준비하는 것이 좋습니다.'\n",
    "    },\n",
    "    {\n",
    "        'question': '화재 예방을 위해 주방에서 주의해야 할 점은 무엇인가요?',\n",
    "        'answer': '주방에서는 요리할 때 자리를 비우지 말고, 가스레인지와 전기 기기를 사용한 후에는 반드시 끄며, 주방에 소화기를 비치해 두는 것이 중요합니다.'\n",
    "    },\n",
    "    {\n",
    "        'question': '가스 누출을 예방하는 방법은 무엇인가요?',\n",
    "        'answer': '가스 누출을 예방하기 위해 정기적으로 가스 배관을 점검하고, 가스 사용 후에는 밸브를 꼭 잠그며, 가스 누출 감지기를 설치하는 것이 좋습니다.'\n",
    "    },\n",
    "    {\n",
    "        'question': '전기 안전을 위해 집에서 주의해야 할 점은 무엇인가요?',\n",
    "        'answer': '전기 안전을 위해서는 사용하지 않는 전기 기기의 플러그를 뽑고, 전기 코드가 손상되지 않도록 주의하며, 과부하를 방지하기 위해 멀티탭 사용을 최소화해야 합니다.'\n",
    "    },\n",
    "    {\n",
    "        'question': '침입자 경보 시스템을 선택할 때 고려해야 할 사항은 무엇인가요?',\n",
    "        'answer': '침입자 경보 시스템을 선택할 때는 설치 비용, 감지 범위, 알림 방식, 원격 모니터링 기능 등을 고려해야 합니다.'\n",
    "    },\n",
    "    {\n",
    "        'question': '집에서 안전하게 인터넷을 사용하는 방법은 무엇인가요?',\n",
    "        'answer': '안전하게 인터넷을 사용하기 위해 강력한 비밀번호를 설정하고, 정기적으로 비밀번호를 변경하며, 공공 와이파이를 사용할 때는 주의해야 합니다.'\n",
    "    },\n",
    "    {\n",
    "        'question': '아이들이 있는 집에서 화학 물질을 어떻게 보관해야 하나요?',\n",
    "        'answer': '아이들이 있는 집에서는 화학 물질을 아이들의 손이 닿지 않는 높이와 잠긴 장에 보관하고, 사용 후에는 반드시 뚜껑을 잘 닫아야 합니다.'\n",
    "    },\n",
    "    {\n",
    "        'question': '화재 발생 시 대피 요령은 무엇인가요?',\n",
    "        'answer': '화재 발생 시에는 빠르게 대피하고, 엘리베이터 대신 계단을 이용하며, 연기를 피하기 위해 낮은 자세로 이동하는 것이 중요합니다.'\n",
    "    },\n",
    "    {\n",
    "        'question': '비상 상황 시 필요한 준비물은 무엇인가요?',\n",
    "        'answer': '비상 상황 시에는 응급 처치 키트, 물과 비상 식량, 손전등, 배터리, 중요한 서류 등의 준비물이 필요합니다.'\n",
    "    },\n",
    "    {\n",
    "        'question': '집을 비울 때 보안을 강화하는 방법은 무엇인가요?',\n",
    "        'answer': '집을 비울 때는 모든 문과 창문을 잠그고, 타이머를 설정해 조명을 켜두며, 신뢰할 수 있는 이웃에게 집을 봐달라고 부탁하는 것이 좋습니다.'\n",
    "    }\n",
    "])\n",
    "\n",
    "# 기존 데이터와 추가 데이터를 합치기\n",
    "df_additional = pd.DataFrame(additional_data)\n",
    "df_combined = pd.concat([df_part1, df_part2, df_additional], ignore_index=True)\n",
    "\n",
    "# 데이터프레임을 CSV 파일로 저장\n",
    "combined_csv_path = './data/combined_training_data_extended.csv'\n",
    "df_combined.to_csv(combined_csv_path, index=False)\n",
    "\n",
    "combined_csv_path\n"
   ]
  },
  {
   "cell_type": "code",
   "execution_count": 2,
   "metadata": {},
   "outputs": [
    {
     "ename": "OSError",
     "evalue": "[WinError 126] 지정된 모듈을 찾을 수 없습니다. Error loading \"C:\\Users\\SSAFY\\AppData\\Local\\Packages\\PythonSoftwareFoundation.Python.3.11_qbz5n2kfra8p0\\LocalCache\\local-packages\\Python311\\site-packages\\torch\\lib\\fbgemm.dll\" or one of its dependencies.",
     "output_type": "error",
     "traceback": [
      "\u001b[1;31m---------------------------------------------------------------------------\u001b[0m",
      "\u001b[1;31mOSError\u001b[0m                                   Traceback (most recent call last)",
      "Cell \u001b[1;32mIn[2], line 1\u001b[0m\n\u001b[1;32m----> 1\u001b[0m \u001b[38;5;28;01mimport\u001b[39;00m \u001b[38;5;21;01mtorch\u001b[39;00m\n\u001b[0;32m      2\u001b[0m \u001b[38;5;28mprint\u001b[39m(torch\u001b[38;5;241m.\u001b[39m__version__)\n",
      "File \u001b[1;32m~\\AppData\\Local\\Packages\\PythonSoftwareFoundation.Python.3.11_qbz5n2kfra8p0\\LocalCache\\local-packages\\Python311\\site-packages\\torch\\__init__.py:148\u001b[0m\n\u001b[0;32m    146\u001b[0m                 err \u001b[38;5;241m=\u001b[39m ctypes\u001b[38;5;241m.\u001b[39mWinError(ctypes\u001b[38;5;241m.\u001b[39mget_last_error())\n\u001b[0;32m    147\u001b[0m                 err\u001b[38;5;241m.\u001b[39mstrerror \u001b[38;5;241m+\u001b[39m\u001b[38;5;241m=\u001b[39m \u001b[38;5;124mf\u001b[39m\u001b[38;5;124m'\u001b[39m\u001b[38;5;124m Error loading \u001b[39m\u001b[38;5;124m\"\u001b[39m\u001b[38;5;132;01m{\u001b[39;00mdll\u001b[38;5;132;01m}\u001b[39;00m\u001b[38;5;124m\"\u001b[39m\u001b[38;5;124m or one of its dependencies.\u001b[39m\u001b[38;5;124m'\u001b[39m\n\u001b[1;32m--> 148\u001b[0m                 \u001b[38;5;28;01mraise\u001b[39;00m err\n\u001b[0;32m    150\u001b[0m     kernel32\u001b[38;5;241m.\u001b[39mSetErrorMode(prev_error_mode)\n\u001b[0;32m    153\u001b[0m \u001b[38;5;28;01mdef\u001b[39;00m \u001b[38;5;21m_preload_cuda_deps\u001b[39m(lib_folder, lib_name):\n",
      "\u001b[1;31mOSError\u001b[0m: [WinError 126] 지정된 모듈을 찾을 수 없습니다. Error loading \"C:\\Users\\SSAFY\\AppData\\Local\\Packages\\PythonSoftwareFoundation.Python.3.11_qbz5n2kfra8p0\\LocalCache\\local-packages\\Python311\\site-packages\\torch\\lib\\fbgemm.dll\" or one of its dependencies."
     ]
    }
   ],
   "source": [
    "import torch\n",
    "print(torch.__version__)"
   ]
  },
  {
   "cell_type": "code",
   "execution_count": 4,
   "metadata": {},
   "outputs": [
    {
     "ename": "OSError",
     "evalue": "[WinError 126] 지정된 모듈을 찾을 수 없습니다. Error loading \"C:\\Users\\SSAFY\\AppData\\Local\\Packages\\PythonSoftwareFoundation.Python.3.11_qbz5n2kfra8p0\\LocalCache\\local-packages\\Python311\\site-packages\\torch\\lib\\fbgemm.dll\" or one of its dependencies.",
     "output_type": "error",
     "traceback": [
      "\u001b[1;31m---------------------------------------------------------------------------\u001b[0m",
      "\u001b[1;31mOSError\u001b[0m                                   Traceback (most recent call last)",
      "Cell \u001b[1;32mIn[4], line 3\u001b[0m\n\u001b[0;32m      1\u001b[0m \u001b[38;5;28;01mimport\u001b[39;00m \u001b[38;5;21;01mpandas\u001b[39;00m \u001b[38;5;28;01mas\u001b[39;00m \u001b[38;5;21;01mpd\u001b[39;00m\n\u001b[0;32m      2\u001b[0m \u001b[38;5;28;01mfrom\u001b[39;00m \u001b[38;5;21;01mdatasets\u001b[39;00m \u001b[38;5;28;01mimport\u001b[39;00m Dataset\n\u001b[1;32m----> 3\u001b[0m \u001b[38;5;28;01mfrom\u001b[39;00m \u001b[38;5;21;01mtransformers\u001b[39;00m \u001b[38;5;28;01mimport\u001b[39;00m AutoTokenizer, AutoModelForCausalLM, TrainingArguments, Trainer\n\u001b[0;32m      5\u001b[0m \u001b[38;5;66;03m# CSV 파일 로드\u001b[39;00m\n\u001b[0;32m      6\u001b[0m df_combined \u001b[38;5;241m=\u001b[39m pd\u001b[38;5;241m.\u001b[39mread_csv(\u001b[38;5;124m'\u001b[39m\u001b[38;5;124m./data/combined_training_data_extended.csv\u001b[39m\u001b[38;5;124m'\u001b[39m)\n",
      "File \u001b[1;32m~\\AppData\\Local\\Packages\\PythonSoftwareFoundation.Python.3.11_qbz5n2kfra8p0\\LocalCache\\local-packages\\Python311\\site-packages\\transformers\\__init__.py:26\u001b[0m\n\u001b[0;32m     23\u001b[0m \u001b[38;5;28;01mfrom\u001b[39;00m \u001b[38;5;21;01mtyping\u001b[39;00m \u001b[38;5;28;01mimport\u001b[39;00m TYPE_CHECKING\n\u001b[0;32m     25\u001b[0m \u001b[38;5;66;03m# Check the dependencies satisfy the minimal versions required.\u001b[39;00m\n\u001b[1;32m---> 26\u001b[0m \u001b[38;5;28;01mfrom\u001b[39;00m \u001b[38;5;21;01m.\u001b[39;00m \u001b[38;5;28;01mimport\u001b[39;00m dependency_versions_check\n\u001b[0;32m     27\u001b[0m \u001b[38;5;28;01mfrom\u001b[39;00m \u001b[38;5;21;01m.\u001b[39;00m\u001b[38;5;21;01mutils\u001b[39;00m \u001b[38;5;28;01mimport\u001b[39;00m (\n\u001b[0;32m     28\u001b[0m     OptionalDependencyNotAvailable,\n\u001b[0;32m     29\u001b[0m     _LazyModule,\n\u001b[1;32m   (...)\u001b[0m\n\u001b[0;32m     48\u001b[0m     logging,\n\u001b[0;32m     49\u001b[0m )\n\u001b[0;32m     52\u001b[0m logger \u001b[38;5;241m=\u001b[39m logging\u001b[38;5;241m.\u001b[39mget_logger(\u001b[38;5;18m__name__\u001b[39m)  \u001b[38;5;66;03m# pylint: disable=invalid-name\u001b[39;00m\n",
      "File \u001b[1;32m~\\AppData\\Local\\Packages\\PythonSoftwareFoundation.Python.3.11_qbz5n2kfra8p0\\LocalCache\\local-packages\\Python311\\site-packages\\transformers\\dependency_versions_check.py:16\u001b[0m\n\u001b[0;32m      1\u001b[0m \u001b[38;5;66;03m# Copyright 2020 The HuggingFace Team. All rights reserved.\u001b[39;00m\n\u001b[0;32m      2\u001b[0m \u001b[38;5;66;03m#\u001b[39;00m\n\u001b[0;32m      3\u001b[0m \u001b[38;5;66;03m# Licensed under the Apache License, Version 2.0 (the \"License\");\u001b[39;00m\n\u001b[1;32m   (...)\u001b[0m\n\u001b[0;32m     12\u001b[0m \u001b[38;5;66;03m# See the License for the specific language governing permissions and\u001b[39;00m\n\u001b[0;32m     13\u001b[0m \u001b[38;5;66;03m# limitations under the License.\u001b[39;00m\n\u001b[0;32m     15\u001b[0m \u001b[38;5;28;01mfrom\u001b[39;00m \u001b[38;5;21;01m.\u001b[39;00m\u001b[38;5;21;01mdependency_versions_table\u001b[39;00m \u001b[38;5;28;01mimport\u001b[39;00m deps\n\u001b[1;32m---> 16\u001b[0m \u001b[38;5;28;01mfrom\u001b[39;00m \u001b[38;5;21;01m.\u001b[39;00m\u001b[38;5;21;01mutils\u001b[39;00m\u001b[38;5;21;01m.\u001b[39;00m\u001b[38;5;21;01mversions\u001b[39;00m \u001b[38;5;28;01mimport\u001b[39;00m require_version, require_version_core\n\u001b[0;32m     19\u001b[0m \u001b[38;5;66;03m# define which module versions we always want to check at run time\u001b[39;00m\n\u001b[0;32m     20\u001b[0m \u001b[38;5;66;03m# (usually the ones defined in `install_requires` in setup.py)\u001b[39;00m\n\u001b[0;32m     21\u001b[0m \u001b[38;5;66;03m#\u001b[39;00m\n\u001b[0;32m     22\u001b[0m \u001b[38;5;66;03m# order specific notes:\u001b[39;00m\n\u001b[0;32m     23\u001b[0m \u001b[38;5;66;03m# - tqdm must be checked before tokenizers\u001b[39;00m\n\u001b[0;32m     25\u001b[0m pkgs_to_check_at_runtime \u001b[38;5;241m=\u001b[39m [\n\u001b[0;32m     26\u001b[0m     \u001b[38;5;124m\"\u001b[39m\u001b[38;5;124mpython\u001b[39m\u001b[38;5;124m\"\u001b[39m,\n\u001b[0;32m     27\u001b[0m     \u001b[38;5;124m\"\u001b[39m\u001b[38;5;124mtqdm\u001b[39m\u001b[38;5;124m\"\u001b[39m,\n\u001b[1;32m   (...)\u001b[0m\n\u001b[0;32m     37\u001b[0m     \u001b[38;5;124m\"\u001b[39m\u001b[38;5;124mpyyaml\u001b[39m\u001b[38;5;124m\"\u001b[39m,\n\u001b[0;32m     38\u001b[0m ]\n",
      "File \u001b[1;32m~\\AppData\\Local\\Packages\\PythonSoftwareFoundation.Python.3.11_qbz5n2kfra8p0\\LocalCache\\local-packages\\Python311\\site-packages\\transformers\\utils\\__init__.py:34\u001b[0m\n\u001b[0;32m     25\u001b[0m \u001b[38;5;28;01mfrom\u001b[39;00m \u001b[38;5;21;01m.\u001b[39;00m\u001b[38;5;21;01mconstants\u001b[39;00m \u001b[38;5;28;01mimport\u001b[39;00m IMAGENET_DEFAULT_MEAN, IMAGENET_DEFAULT_STD, IMAGENET_STANDARD_MEAN, IMAGENET_STANDARD_STD\n\u001b[0;32m     26\u001b[0m \u001b[38;5;28;01mfrom\u001b[39;00m \u001b[38;5;21;01m.\u001b[39;00m\u001b[38;5;21;01mdoc\u001b[39;00m \u001b[38;5;28;01mimport\u001b[39;00m (\n\u001b[0;32m     27\u001b[0m     add_code_sample_docstrings,\n\u001b[0;32m     28\u001b[0m     add_end_docstrings,\n\u001b[1;32m   (...)\u001b[0m\n\u001b[0;32m     32\u001b[0m     replace_return_docstrings,\n\u001b[0;32m     33\u001b[0m )\n\u001b[1;32m---> 34\u001b[0m \u001b[38;5;28;01mfrom\u001b[39;00m \u001b[38;5;21;01m.\u001b[39;00m\u001b[38;5;21;01mgeneric\u001b[39;00m \u001b[38;5;28;01mimport\u001b[39;00m (\n\u001b[0;32m     35\u001b[0m     ContextManagers,\n\u001b[0;32m     36\u001b[0m     ExplicitEnum,\n\u001b[0;32m     37\u001b[0m     ModelOutput,\n\u001b[0;32m     38\u001b[0m     PaddingStrategy,\n\u001b[0;32m     39\u001b[0m     TensorType,\n\u001b[0;32m     40\u001b[0m     add_model_info_to_auto_map,\n\u001b[0;32m     41\u001b[0m     add_model_info_to_custom_pipelines,\n\u001b[0;32m     42\u001b[0m     cached_property,\n\u001b[0;32m     43\u001b[0m     can_return_loss,\n\u001b[0;32m     44\u001b[0m     expand_dims,\n\u001b[0;32m     45\u001b[0m     filter_out_non_signature_kwargs,\n\u001b[0;32m     46\u001b[0m     find_labels,\n\u001b[0;32m     47\u001b[0m     flatten_dict,\n\u001b[0;32m     48\u001b[0m     infer_framework,\n\u001b[0;32m     49\u001b[0m     is_jax_tensor,\n\u001b[0;32m     50\u001b[0m     is_numpy_array,\n\u001b[0;32m     51\u001b[0m     is_tensor,\n\u001b[0;32m     52\u001b[0m     is_tf_symbolic_tensor,\n\u001b[0;32m     53\u001b[0m     is_tf_tensor,\n\u001b[0;32m     54\u001b[0m     is_torch_device,\n\u001b[0;32m     55\u001b[0m     is_torch_dtype,\n\u001b[0;32m     56\u001b[0m     is_torch_tensor,\n\u001b[0;32m     57\u001b[0m     reshape,\n\u001b[0;32m     58\u001b[0m     squeeze,\n\u001b[0;32m     59\u001b[0m     strtobool,\n\u001b[0;32m     60\u001b[0m     tensor_size,\n\u001b[0;32m     61\u001b[0m     to_numpy,\n\u001b[0;32m     62\u001b[0m     to_py_obj,\n\u001b[0;32m     63\u001b[0m     torch_float,\n\u001b[0;32m     64\u001b[0m     torch_int,\n\u001b[0;32m     65\u001b[0m     transpose,\n\u001b[0;32m     66\u001b[0m     working_or_temp_dir,\n\u001b[0;32m     67\u001b[0m )\n\u001b[0;32m     68\u001b[0m \u001b[38;5;28;01mfrom\u001b[39;00m \u001b[38;5;21;01m.\u001b[39;00m\u001b[38;5;21;01mhub\u001b[39;00m \u001b[38;5;28;01mimport\u001b[39;00m (\n\u001b[0;32m     69\u001b[0m     CLOUDFRONT_DISTRIB_PREFIX,\n\u001b[0;32m     70\u001b[0m     HF_MODULES_CACHE,\n\u001b[1;32m   (...)\u001b[0m\n\u001b[0;32m     96\u001b[0m     try_to_load_from_cache,\n\u001b[0;32m     97\u001b[0m )\n\u001b[0;32m     98\u001b[0m \u001b[38;5;28;01mfrom\u001b[39;00m \u001b[38;5;21;01m.\u001b[39;00m\u001b[38;5;21;01mimport_utils\u001b[39;00m \u001b[38;5;28;01mimport\u001b[39;00m (\n\u001b[0;32m     99\u001b[0m     ACCELERATE_MIN_VERSION,\n\u001b[0;32m    100\u001b[0m     ENV_VARS_TRUE_AND_AUTO_VALUES,\n\u001b[1;32m   (...)\u001b[0m\n\u001b[0;32m    219\u001b[0m     torch_only_method,\n\u001b[0;32m    220\u001b[0m )\n",
      "File \u001b[1;32m~\\AppData\\Local\\Packages\\PythonSoftwareFoundation.Python.3.11_qbz5n2kfra8p0\\LocalCache\\local-packages\\Python311\\site-packages\\transformers\\utils\\generic.py:462\u001b[0m\n\u001b[0;32m    458\u001b[0m         \u001b[38;5;28;01mreturn\u001b[39;00m \u001b[38;5;28mtuple\u001b[39m(\u001b[38;5;28mself\u001b[39m[k] \u001b[38;5;28;01mfor\u001b[39;00m k \u001b[38;5;129;01min\u001b[39;00m \u001b[38;5;28mself\u001b[39m\u001b[38;5;241m.\u001b[39mkeys())\n\u001b[0;32m    461\u001b[0m \u001b[38;5;28;01mif\u001b[39;00m is_torch_available():\n\u001b[1;32m--> 462\u001b[0m     \u001b[38;5;28;01mimport\u001b[39;00m \u001b[38;5;21;01mtorch\u001b[39;00m\u001b[38;5;21;01m.\u001b[39;00m\u001b[38;5;21;01mutils\u001b[39;00m\u001b[38;5;21;01m.\u001b[39;00m\u001b[38;5;21;01m_pytree\u001b[39;00m \u001b[38;5;28;01mas\u001b[39;00m \u001b[38;5;21;01m_torch_pytree\u001b[39;00m\n\u001b[0;32m    464\u001b[0m     \u001b[38;5;28;01mdef\u001b[39;00m \u001b[38;5;21m_model_output_flatten\u001b[39m(output: ModelOutput) \u001b[38;5;241m-\u001b[39m\u001b[38;5;241m>\u001b[39m Tuple[List[Any], \u001b[38;5;124m\"\u001b[39m\u001b[38;5;124m_torch_pytree.Context\u001b[39m\u001b[38;5;124m\"\u001b[39m]:\n\u001b[0;32m    465\u001b[0m         \u001b[38;5;28;01mreturn\u001b[39;00m \u001b[38;5;28mlist\u001b[39m(output\u001b[38;5;241m.\u001b[39mvalues()), \u001b[38;5;28mlist\u001b[39m(output\u001b[38;5;241m.\u001b[39mkeys())\n",
      "File \u001b[1;32m~\\AppData\\Local\\Packages\\PythonSoftwareFoundation.Python.3.11_qbz5n2kfra8p0\\LocalCache\\local-packages\\Python311\\site-packages\\torch\\__init__.py:148\u001b[0m\n\u001b[0;32m    146\u001b[0m                 err \u001b[38;5;241m=\u001b[39m ctypes\u001b[38;5;241m.\u001b[39mWinError(ctypes\u001b[38;5;241m.\u001b[39mget_last_error())\n\u001b[0;32m    147\u001b[0m                 err\u001b[38;5;241m.\u001b[39mstrerror \u001b[38;5;241m+\u001b[39m\u001b[38;5;241m=\u001b[39m \u001b[38;5;124mf\u001b[39m\u001b[38;5;124m'\u001b[39m\u001b[38;5;124m Error loading \u001b[39m\u001b[38;5;124m\"\u001b[39m\u001b[38;5;132;01m{\u001b[39;00mdll\u001b[38;5;132;01m}\u001b[39;00m\u001b[38;5;124m\"\u001b[39m\u001b[38;5;124m or one of its dependencies.\u001b[39m\u001b[38;5;124m'\u001b[39m\n\u001b[1;32m--> 148\u001b[0m                 \u001b[38;5;28;01mraise\u001b[39;00m err\n\u001b[0;32m    150\u001b[0m     kernel32\u001b[38;5;241m.\u001b[39mSetErrorMode(prev_error_mode)\n\u001b[0;32m    153\u001b[0m \u001b[38;5;28;01mdef\u001b[39;00m \u001b[38;5;21m_preload_cuda_deps\u001b[39m(lib_folder, lib_name):\n",
      "\u001b[1;31mOSError\u001b[0m: [WinError 126] 지정된 모듈을 찾을 수 없습니다. Error loading \"C:\\Users\\SSAFY\\AppData\\Local\\Packages\\PythonSoftwareFoundation.Python.3.11_qbz5n2kfra8p0\\LocalCache\\local-packages\\Python311\\site-packages\\torch\\lib\\fbgemm.dll\" or one of its dependencies."
     ]
    }
   ],
   "source": [
    "import pandas as pd\n",
    "from datasets import Dataset\n",
    "from transformers import AutoTokenizer, AutoModelForCausalLM, TrainingArguments, Trainer\n",
    "\n",
    "# CSV 파일 로드\n",
    "df_combined = pd.read_csv('./data/combined_training_data_extended.csv')\n",
    "\n",
    "# 데이터셋으로 변환\n",
    "dataset = Dataset.from_pandas(df_combined)\n",
    "\n",
    "# 토크나이저 로드\n",
    "tokenizer = AutoTokenizer.from_pretrained('meta-llama/Llama-2-7b-chat')\n",
    "\n",
    "# 전처리 함수 정의\n",
    "def preprocess_function(examples):\n",
    "    inputs = examples['question']\n",
    "    targets = examples['answer']\n",
    "    model_inputs = tokenizer(inputs, max_length=512, truncation=True)\n",
    "\n",
    "    # Setup the tokenizer for targets\n",
    "    with tokenizer.as_target_tokenizer():\n",
    "        labels = tokenizer(targets, max_length=512, truncation=True)\n",
    "\n",
    "    model_inputs[\"labels\"] = labels[\"input_ids\"]\n",
    "    return model_inputs\n",
    "\n",
    "# 데이터셋 전처리\n",
    "tokenized_dataset = dataset.map(preprocess_function, batched=True)\n",
    "    "
   ]
  },
  {
   "cell_type": "code",
   "execution_count": null,
   "metadata": {},
   "outputs": [
    {
     "ename": "NameError",
     "evalue": "name 'model' is not defined",
     "output_type": "error",
     "traceback": [
      "\u001b[1;31m---------------------------------------------------------------------------\u001b[0m",
      "\u001b[1;31mNameError\u001b[0m                                 Traceback (most recent call last)",
      "Cell \u001b[1;32mIn[8], line 2\u001b[0m\n\u001b[0;32m      1\u001b[0m \u001b[38;5;66;03m# 모델 저장\u001b[39;00m\n\u001b[1;32m----> 2\u001b[0m \u001b[43mmodel\u001b[49m\u001b[38;5;241m.\u001b[39msave_pretrained(\u001b[38;5;124m'\u001b[39m\u001b[38;5;124m./my_model\u001b[39m\u001b[38;5;124m'\u001b[39m)\n\u001b[0;32m      3\u001b[0m tokenizer\u001b[38;5;241m.\u001b[39msave_pretrained(\u001b[38;5;124m'\u001b[39m\u001b[38;5;124m./my_model\u001b[39m\u001b[38;5;124m'\u001b[39m)\n",
      "\u001b[1;31mNameError\u001b[0m: name 'model' is not defined"
     ]
    }
   ],
   "source": [
    "# 모델 로드\n",
    "model = AutoModelForCausalLM.from_pretrained('meta-llama/Llama-2-7b-chat')\n",
    "\n",
    "# 학습 인자 설정\n",
    "training_args = TrainingArguments(\n",
    "    output_dir='./results',\n",
    "    num_train_epochs=3,\n",
    "    per_device_train_batch_size=4,\n",
    "    save_steps=10_000,\n",
    "    save_total_limit=2,\n",
    ")\n",
    "\n",
    "# Trainer 설정\n",
    "trainer = Trainer(\n",
    "    model=model,\n",
    "    args=training_args,\n",
    "    train_dataset=tokenized_dataset,\n",
    ")\n",
    "\n",
    "# 모델 학습\n",
    "trainer.train()\n",
    "\n",
    "# 모델 저장\n",
    "model.save_pretrained('./my_model')\n",
    "tokenizer.save_pretrained('./my_model')"
   ]
  },
  {
   "cell_type": "code",
   "execution_count": null,
   "metadata": {},
   "outputs": [],
   "source": []
  }
 ],
 "metadata": {
  "kernelspec": {
   "display_name": "Python 3",
   "language": "python",
   "name": "python3"
  },
  "language_info": {
   "codemirror_mode": {
    "name": "ipython",
    "version": 3
   },
   "file_extension": ".py",
   "mimetype": "text/x-python",
   "name": "python",
   "nbconvert_exporter": "python",
   "pygments_lexer": "ipython3",
   "version": "3.11.9"
  }
 },
 "nbformat": 4,
 "nbformat_minor": 2
}
