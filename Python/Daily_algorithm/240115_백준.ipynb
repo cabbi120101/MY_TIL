{
 "cells": [
  {
   "cell_type": "markdown",
   "metadata": {},
   "source": [
    "### 2차원 배열"
   ]
  },
  {
   "cell_type": "code",
   "execution_count": 11,
   "metadata": {},
   "outputs": [
    {
     "name": "stdout",
     "output_type": "stream",
     "text": [
      "\n"
     ]
    }
   ],
   "source": [
    "# 세로 읽기\n",
    "word = []\n",
    "N_word = ''\n",
    "max_word = 0\n",
    "for i in range(5):\n",
    "    O_word = [i for i in input()]\n",
    "    word.append(O_word)\n",
    "    if max_word < len(O_word):\n",
    "        max_word = len(O_word)\n",
    "\n",
    "for i in range(max_word):\n",
    "    for j in range(5):\n",
    "        if len(word[j]) > i:\n",
    "            N_word += word[j][i]\n",
    "print(N_word) "
   ]
  },
  {
   "cell_type": "code",
   "execution_count": 9,
   "metadata": {},
   "outputs": [
    {
     "data": {
      "text/plain": [
       "['AABCDD']"
      ]
     },
     "execution_count": 9,
     "metadata": {},
     "output_type": "execute_result"
    }
   ],
   "source": [
    "# 색종이\n",
    "N = int(input())\n",
    "black = []\n",
    "for i in range(N):\n",
    "    new = list(map(int,input().split()))\n",
    "    black_new = [(new[0],new[0]+10),(new[1],new[1]+10)]\n",
    "    black.append(black_new)\n",
    "\n"
   ]
  },
  {
   "cell_type": "code",
   "execution_count": null,
   "metadata": {},
   "outputs": [],
   "source": []
  }
 ],
 "metadata": {
  "kernelspec": {
   "display_name": "Python 3",
   "language": "python",
   "name": "python3"
  },
  "language_info": {
   "codemirror_mode": {
    "name": "ipython",
    "version": 3
   },
   "file_extension": ".py",
   "mimetype": "text/x-python",
   "name": "python",
   "nbconvert_exporter": "python",
   "pygments_lexer": "ipython3",
   "version": "3.9.13"
  }
 },
 "nbformat": 4,
 "nbformat_minor": 2
}
