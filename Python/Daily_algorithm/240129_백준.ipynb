{
 "cells": [
  {
   "cell_type": "markdown",
   "metadata": {},
   "source": [
    "### 약수, 배수와 소수 2"
   ]
  },
  {
   "cell_type": "code",
   "execution_count": 5,
   "metadata": {},
   "outputs": [
    {
     "name": "stdout",
     "output_type": "stream",
     "text": [
      "2 10\n",
      "3 9\n",
      "4 8\n",
      "5 7\n",
      "6 6\n",
      "1\n"
     ]
    }
   ],
   "source": [
    "# 골드바흐 파티션\n",
    "t = int(input())\n",
    "def prime_list(n):\n",
    "    sieve = [True] * (n + 1)\n",
    "    \n",
    "    for i in range(2, int(n ** 0.5) + 1):\n",
    "        if sieve[i] == True:\n",
    "            \n",
    "            for j in range(i + i, n + 1, i):\n",
    "                sieve[j] = False     \n",
    "    return sieve\n",
    "\n",
    "nums = []\n",
    "\n",
    "for _ in range(t):\n",
    "    nums.append(int(input()))\n",
    "    \n",
    "max_num = max(nums)\n",
    "primes = prime_list(max_num)\n",
    "\n",
    "for num in nums:\n",
    "    cnt = 0\n",
    "    \n",
    "    for i in range(2, num // 2 + 1):\n",
    "        if primes[i] and primes[num - i]:\n",
    "            cnt += 1\n",
    "                \n",
    "    print(cnt)"
   ]
  },
  {
   "cell_type": "markdown",
   "metadata": {},
   "source": [
    "### 스택, 큐, 덱"
   ]
  },
  {
   "cell_type": "code",
   "execution_count": 13,
   "metadata": {},
   "outputs": [
    {
     "name": "stdout",
     "output_type": "stream",
     "text": [
      "1\n",
      "2\n",
      "5\n",
      "3\n",
      "-1\n",
      "-1\n",
      "-1\n"
     ]
    }
   ],
   "source": [
    "# 스택 2\n",
    "import sys\n",
    "N = int(sys.stdin.readline())\n",
    "stack = []\n",
    "for _ in range(N):\n",
    "    item = list(map(int, sys.stdin.readline().split()))\n",
    "    if item[0] == 1:\n",
    "        stack.append(item[1])\n",
    "    elif item[0] == 2:\n",
    "        if len(stack) >= 1:\n",
    "            print(stack.pop())\n",
    "        else:\n",
    "            print(-1)\n",
    "    elif item[0] == 3:\n",
    "        print(len(stack))\n",
    "    elif item[0] == 4:\n",
    "        if len(stack) == 0:\n",
    "            print(1)\n",
    "        else:\n",
    "            print(0)\n",
    "    else:\n",
    "        if len(stack) >= 1:\n",
    "            print(stack[-1])\n",
    "        else:\n",
    "            print(-1)"
   ]
  },
  {
   "cell_type": "code",
   "execution_count": 15,
   "metadata": {},
   "outputs": [
    {
     "name": "stdout",
     "output_type": "stream",
     "text": [
      "7\n"
     ]
    }
   ],
   "source": [
    "# 제로\n",
    "import sys\n",
    "K = int(sys.stdin.readline())\n",
    "stack = []\n",
    "for _ in range(K):\n",
    "    n = int(sys.stdin.readline())\n",
    "    if n != 0:\n",
    "        stack.append(n)\n",
    "    else:\n",
    "        stack.pop()\n",
    "print(sum(stack))"
   ]
  },
  {
   "cell_type": "code",
   "execution_count": 25,
   "metadata": {},
   "outputs": [
    {
     "name": "stdout",
     "output_type": "stream",
     "text": [
      "YES\n"
     ]
    }
   ],
   "source": [
    "# 괄호\n",
    "T = int(input())\n",
    "for _ in range(T):\n",
    "    a = list(input())\n",
    "    s = 0\n",
    "    for i in a:\n",
    "        if i == \"(\":\n",
    "            s += 1\n",
    "        elif i == \")\":\n",
    "            s -= 1\n",
    "        if s < 0:\n",
    "            print(\"NO\")\n",
    "            break\n",
    "    if s > 0:\n",
    "        print(\"NO\")\n",
    "    elif s == 0:\n",
    "        print(\"YES\")"
   ]
  },
  {
   "cell_type": "code",
   "execution_count": 51,
   "metadata": {},
   "outputs": [
    {
     "name": "stdout",
     "output_type": "stream",
     "text": [
      "1 0 0 0 1 1 0 1\n"
     ]
    }
   ],
   "source": [
    "import sys\n",
    "switch = int(input())\n",
    "switch_list = list(map(int, input().split()))\n",
    "person = int(input())\n",
    "\n",
    "def change_switch(idx):\n",
    "    if switch_list[idx] == 1:\n",
    "        switch_list[idx] = 0\n",
    "    else:\n",
    "        switch_list[idx] = 1\n",
    "\n",
    "for _ in range(person):\n",
    "    student, num = map(int, input().split())\n",
    "    if student == 1:\n",
    "        for i in range(num-1,switch,num):\n",
    "            change_switch(i)\n",
    "\n",
    "    elif student == 2:\n",
    "        change_switch(num-1)\n",
    "        for j in range(switch//2+1):\n",
    "            if num-1 + j > switch-1 or num -1 - j < 0:\n",
    "                break\n",
    "            if switch_list[num-1-j] == switch_list[num-1+j]:\n",
    "                change_switch(num-1-j)\n",
    "                change_switch(num-1+j)\n",
    "            else:\n",
    "                break\n",
    "\n",
    "for k in range(switch):\n",
    "    print(switch_list[k], end=\" \")\n",
    "    if k % 20 == 0:\n",
    "        print()"
   ]
  },
  {
   "cell_type": "code",
   "execution_count": null,
   "metadata": {},
   "outputs": [],
   "source": [
    "def change(num):\n",
    "    if switch_list[num] == 0:\n",
    "        switch_list[num] = 1\n",
    "    else:\n",
    "        switch_list[num] = 0\n",
    "    return\n",
    "\n",
    "\n",
    "switch = int(input())\n",
    "switch_list = [-1] + list(map(int, input().split()))\n",
    "person = int(input())\n",
    "for _ in range(person):\n",
    "    student, num = map(int, input().split()) \n",
    "    # 남자\n",
    "    if student == 1:\n",
    "        for i in range(num, switch+1, num):\n",
    "            change(i)\n",
    "    # 여자\n",
    "    else:\n",
    "        change(num)\n",
    "        for k in range(switch//2):\n",
    "            if num + k > switch or num - k < 1 : break\n",
    "            if switch_list[num + k] == switch_list[num - k]:\n",
    "                change(num + k)\n",
    "                change(num - k)\n",
    "            else:\n",
    "                break\n",
    "                \n",
    "for i in range(1, switch+1):\n",
    "    print(switch_list[i], end = \" \")\n",
    "    if i % 20 == 0 :\n",
    "        print()"
   ]
  },
  {
   "cell_type": "code",
   "execution_count": null,
   "metadata": {},
   "outputs": [],
   "source": []
  },
  {
   "cell_type": "code",
   "execution_count": null,
   "metadata": {},
   "outputs": [],
   "source": []
  },
  {
   "cell_type": "code",
   "execution_count": null,
   "metadata": {},
   "outputs": [],
   "source": []
  }
 ],
 "metadata": {
  "kernelspec": {
   "display_name": "Python 3",
   "language": "python",
   "name": "python3"
  },
  "language_info": {
   "codemirror_mode": {
    "name": "ipython",
    "version": 3
   },
   "file_extension": ".py",
   "mimetype": "text/x-python",
   "name": "python",
   "nbconvert_exporter": "python",
   "pygments_lexer": "ipython3",
   "version": "3.9.13"
  }
 },
 "nbformat": 4,
 "nbformat_minor": 2
}
