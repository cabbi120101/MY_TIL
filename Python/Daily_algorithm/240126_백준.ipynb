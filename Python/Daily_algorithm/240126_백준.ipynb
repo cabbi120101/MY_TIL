{
 "cells": [
  {
   "cell_type": "markdown",
   "metadata": {},
   "source": [
    "### 약수, 배수와 소수2"
   ]
  },
  {
   "cell_type": "code",
   "execution_count": 7,
   "metadata": {},
   "outputs": [
    {
     "name": "stdout",
     "output_type": "stream",
     "text": [
      "45000\n",
      "30\n",
      "221\n"
     ]
    }
   ],
   "source": [
    "# 최소공배수 # 시간초과\n",
    "import sys\n",
    "T = int(sys.stdin.readline())\n",
    "for i in range(T):\n",
    "    A,B = map(int,sys.stdin.readline().split())\n",
    "    less = min(A,B)\n",
    "    more = max(A,B)\n",
    "    if more%less==0:\n",
    "        print(more)\n",
    "    else:\n",
    "        for j in range(more+1 ,more*less+1):\n",
    "            if j%less==0 and j%more==0:\n",
    "                print(j)\n",
    "                break"
   ]
  },
  {
   "cell_type": "code",
   "execution_count": null,
   "metadata": {},
   "outputs": [],
   "source": [
    "# 최소공배수\n",
    "import sys\n",
    "T = int(sys.stdin.readline())\n",
    "for i in range(T):\n",
    "    a,b = map(int,sys.stdin.readline().split())\n",
    "    A,B = a,b\n",
    "\n",
    "    while a%b != 0 :\n",
    "        a,b = b,a%b\n",
    "    print(A*B//b)"
   ]
  },
  {
   "cell_type": "code",
   "execution_count": null,
   "metadata": {},
   "outputs": [],
   "source": [
    "# 최소 공배수\n",
    "import sys\n",
    "a,b = map(int,sys.stdin.readline().split())\n",
    "A,B = a,b\n",
    "\n",
    "while a%b != 0 :\n",
    "    a,b = b,a%b\n",
    "print(A*B//b)"
   ]
  },
  {
   "cell_type": "code",
   "execution_count": 16,
   "metadata": {},
   "outputs": [
    {
     "name": "stdout",
     "output_type": "stream",
     "text": [
      "26 45\n"
     ]
    }
   ],
   "source": [
    "# 분수 합\n",
    "import sys\n",
    "a, A = map(int,input().split())\n",
    "b, B = map(int,input().split())\n",
    "A1,B1 = A,B\n",
    "\n",
    "g1 = a*B + b*A\n",
    "g2 = A*B\n",
    "\n",
    "G1,G2 = g1,g2\n",
    "\n",
    "while G1%G2 != 0 :\n",
    "    G1,G2 = G2,G1%G2\n",
    "\n",
    "print(g1//G2, g2//G2)"
   ]
  },
  {
   "cell_type": "code",
   "execution_count": 1,
   "metadata": {},
   "outputs": [],
   "source": [
    "# 가로수\n",
    "import sys\n",
    "import math\n",
    "\n",
    "N = int(sys.stdin.readline())\n",
    "\n",
    "a = int(sys.stdin.readline())\n",
    "\n",
    "arr = []\n",
    "\n",
    "for i in range(N-1):\n",
    "    num = int(sys.stdin.readline())\n",
    "    arr.append(num - a)\n",
    "    a = num\n",
    "\n",
    "g = arr[0]\n",
    "for j in range(1, len(arr)):\n",
    "    g = math.gcd(g, arr[j])\n",
    "\n",
    "result = 0\n",
    "for each in arr:\n",
    "    result += each // g - 1\n",
    "print(result)"
   ]
  },
  {
   "cell_type": "code",
   "execution_count": 8,
   "metadata": {},
   "outputs": [
    {
     "name": "stdout",
     "output_type": "stream",
     "text": [
      "7\n",
      "23\n",
      "101\n"
     ]
    }
   ],
   "source": [
    "# 다음 소수\n",
    "import sys\n",
    "n = int(sys.stdin.readline())\n",
    "def prime(x):\n",
    "    if x<2:\n",
    "        return False\n",
    "    for i in range(2,int(x**0.5)+1):\n",
    "        if x % i == 0:\n",
    "            return False\n",
    "    return True\n",
    "\n",
    "for _ in range(n):\n",
    "    a = int(sys.stdin.readline())\n",
    "    while True:\n",
    "        if prime(a):\n",
    "            print(a)\n",
    "            break\n",
    "        else:\n",
    "            a += 1\n"
   ]
  },
  {
   "cell_type": "code",
   "execution_count": null,
   "metadata": {},
   "outputs": [],
   "source": [
    "# 소수 구하기\n",
    "M, N = map(int, input().split())\n",
    "def prime(x):\n",
    "    if x<2:\n",
    "        return False\n",
    "    for i in range(2,int(x**0.5)+1):\n",
    "        if x % i == 0:\n",
    "            return False\n",
    "    return True\n",
    "for i in range(M,N+1):\n",
    "    if prime(i):\n",
    "        print(i)"
   ]
  },
  {
   "cell_type": "code",
   "execution_count": 15,
   "metadata": {},
   "outputs": [
    {
     "name": "stdout",
     "output_type": "stream",
     "text": [
      "1\n",
      "4\n",
      "3\n",
      "21\n"
     ]
    },
    {
     "ename": "ValueError",
     "evalue": "invalid literal for int() with base 10: ''",
     "output_type": "error",
     "traceback": [
      "\u001b[1;31m---------------------------------------------------------------------------\u001b[0m",
      "\u001b[1;31mValueError\u001b[0m                                Traceback (most recent call last)",
      "Cell \u001b[1;32mIn[15], line 10\u001b[0m\n\u001b[0;32m      8\u001b[0m     \u001b[38;5;28;01mreturn\u001b[39;00m \u001b[38;5;28;01mTrue\u001b[39;00m\n\u001b[0;32m      9\u001b[0m \u001b[38;5;28;01mwhile\u001b[39;00m \u001b[38;5;28;01mTrue\u001b[39;00m:\n\u001b[1;32m---> 10\u001b[0m     a \u001b[38;5;241m=\u001b[39m \u001b[38;5;28;43mint\u001b[39;49m\u001b[43m(\u001b[49m\u001b[38;5;28;43minput\u001b[39;49m\u001b[43m(\u001b[49m\u001b[43m)\u001b[49m\u001b[43m)\u001b[49m\n\u001b[0;32m     11\u001b[0m     \u001b[38;5;28;01mif\u001b[39;00m a \u001b[38;5;241m==\u001b[39m \u001b[38;5;241m0\u001b[39m:\n\u001b[0;32m     12\u001b[0m         \u001b[38;5;28;01mbreak\u001b[39;00m\n",
      "\u001b[1;31mValueError\u001b[0m: invalid literal for int() with base 10: ''"
     ]
    }
   ],
   "source": [
    "# 베르트랑 공준\n",
    "import sys\n",
    "def prime(x):\n",
    "    if x<2:\n",
    "        return False\n",
    "    for i in range(2,int(x**0.5)+1):\n",
    "        if x % i == 0:\n",
    "            return False\n",
    "    return True\n",
    "while True:\n",
    "    a = int(sys.stdin.readline())\n",
    "    if a == 0:\n",
    "        break\n",
    "    ans = 0\n",
    "    for i in range(a+1,2*a+1):\n",
    "        if prime(i):\n",
    "            ans += 1\n",
    "    print(ans)"
   ]
  },
  {
   "cell_type": "code",
   "execution_count": 16,
   "metadata": {},
   "outputs": [
    {
     "name": "stdout",
     "output_type": "stream",
     "text": [
      "1\n",
      "4\n",
      "3\n"
     ]
    },
    {
     "ename": "ValueError",
     "evalue": "invalid literal for int() with base 10: ''",
     "output_type": "error",
     "traceback": [
      "\u001b[1;31m---------------------------------------------------------------------------\u001b[0m",
      "\u001b[1;31mValueError\u001b[0m                                Traceback (most recent call last)",
      "Cell \u001b[1;32mIn[16], line 12\u001b[0m\n\u001b[0;32m      9\u001b[0m             \u001b[38;5;28;01mbreak\u001b[39;00m\n\u001b[0;32m     11\u001b[0m \u001b[38;5;28;01mwhile\u001b[39;00m \u001b[38;5;28;01mTrue\u001b[39;00m:\n\u001b[1;32m---> 12\u001b[0m     n \u001b[38;5;241m=\u001b[39m \u001b[38;5;28;43mint\u001b[39;49m\u001b[43m(\u001b[49m\u001b[38;5;28;43minput\u001b[39;49m\u001b[43m(\u001b[49m\u001b[43m)\u001b[49m\u001b[43m)\u001b[49m\n\u001b[0;32m     14\u001b[0m     \u001b[38;5;28;01mif\u001b[39;00m n \u001b[38;5;241m==\u001b[39m \u001b[38;5;241m0\u001b[39m:\n\u001b[0;32m     15\u001b[0m         \u001b[38;5;28;01mbreak\u001b[39;00m\n",
      "\u001b[1;31mValueError\u001b[0m: invalid literal for int() with base 10: ''"
     ]
    }
   ],
   "source": [
    "num = 123456*2+1\n",
    "num_list = [1]*num\n",
    "for i in range(1, num):\n",
    "    if i == 1:\n",
    "        continue\n",
    "    for j in range(2, int(i**0.5)+1):\n",
    "        if i % j == 0:\n",
    "            num_list[i] = 0\n",
    "            break\n",
    "\n",
    "while True:\n",
    "    n = int(input())\n",
    "    \n",
    "    if n == 0:\n",
    "        break\n",
    "    \n",
    "    prime = 0\n",
    "    for i in range(n+1, 2*n+1):\n",
    "            prime += num_list[i]\n",
    "    print(prime)"
   ]
  },
  {
   "cell_type": "code",
   "execution_count": null,
   "metadata": {},
   "outputs": [],
   "source": []
  }
 ],
 "metadata": {
  "kernelspec": {
   "display_name": "Python 3",
   "language": "python",
   "name": "python3"
  },
  "language_info": {
   "codemirror_mode": {
    "name": "ipython",
    "version": 3
   },
   "file_extension": ".py",
   "mimetype": "text/x-python",
   "name": "python",
   "nbconvert_exporter": "python",
   "pygments_lexer": "ipython3",
   "version": "3.12.1"
  }
 },
 "nbformat": 4,
 "nbformat_minor": 2
}
