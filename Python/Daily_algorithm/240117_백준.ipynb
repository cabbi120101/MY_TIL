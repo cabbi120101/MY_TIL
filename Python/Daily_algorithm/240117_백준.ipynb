{
 "cells": [
  {
   "cell_type": "markdown",
   "metadata": {},
   "source": [
    "### 일반 수학 1"
   ]
  },
  {
   "cell_type": "code",
   "execution_count": 6,
   "metadata": {},
   "outputs": [
    {
     "name": "stdout",
     "output_type": "stream",
     "text": [
      "3\n"
     ]
    }
   ],
   "source": [
    "# 벌집\n",
    "# 1 = 1\n",
    "# 2 = [2~7] 6\n",
    "# 3 = [8~19] 12\n",
    "# 4 = 20~37 18\n",
    "# 5 = 38~61 24\n",
    "\n",
    "N = int(input())\n",
    "ans = 1\n",
    "bee = 1\n",
    "while N > bee:\n",
    "    bee += 6*ans\n",
    "    ans += 1\n",
    "print(ans)"
   ]
  },
  {
   "cell_type": "code",
   "execution_count": null,
   "metadata": {},
   "outputs": [],
   "source": [
    "# 분수찾기\n",
    "num = int(input())\n",
    "line = 1\n",
    "\n",
    "while num > line:\n",
    "    num -= line\n",
    "    line += 1\n",
    "    \n",
    "# 짝수일경우\n",
    "if line % 2 == 0:\n",
    "    a = num\n",
    "    b = line - num + 1\n",
    "# 홀수일경우\n",
    "elif line % 2 == 1:\n",
    "    a = line - num + 1\n",
    "    b = num\n",
    "\n",
    "print(f'{a}/{b}')"
   ]
  },
  {
   "cell_type": "code",
   "execution_count": 15,
   "metadata": {},
   "outputs": [
    {
     "name": "stdout",
     "output_type": "stream",
     "text": [
      "4\n"
     ]
    }
   ],
   "source": [
    "# 달팽이는 올라가고 싶다\n",
    "# 시간 초과\n",
    "A,B,V = map(int, input().split())\n",
    "dal = 0\n",
    "ans = 0\n",
    "while dal < V:\n",
    "    dal += A\n",
    "    ans += 1\n",
    "    if dal >= V:\n",
    "        break\n",
    "    else:\n",
    "        dal -= B\n",
    "print(ans)"
   ]
  },
  {
   "cell_type": "code",
   "execution_count": 31,
   "metadata": {},
   "outputs": [
    {
     "name": "stdout",
     "output_type": "stream",
     "text": [
      "4\n"
     ]
    }
   ],
   "source": [
    "A,B,V = map(int, input().split())\n",
    "print((V-B-1)//(A-B)+1)"
   ]
  },
  {
   "cell_type": "code",
   "execution_count": null,
   "metadata": {},
   "outputs": [],
   "source": []
  }
 ],
 "metadata": {
  "kernelspec": {
   "display_name": "Python 3",
   "language": "python",
   "name": "python3"
  },
  "language_info": {
   "codemirror_mode": {
    "name": "ipython",
    "version": 3
   },
   "file_extension": ".py",
   "mimetype": "text/x-python",
   "name": "python",
   "nbconvert_exporter": "python",
   "pygments_lexer": "ipython3",
   "version": "3.9.13"
  }
 },
 "nbformat": 4,
 "nbformat_minor": 2
}
