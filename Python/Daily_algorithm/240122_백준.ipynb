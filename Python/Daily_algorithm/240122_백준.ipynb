{
 "cells": [
  {
   "cell_type": "markdown",
   "metadata": {},
   "source": [
    "### 브루트 포스"
   ]
  },
  {
   "cell_type": "code",
   "execution_count": 10,
   "metadata": {},
   "outputs": [
    {
     "name": "stdout",
     "output_type": "stream",
     "text": [
      "497\n"
     ]
    }
   ],
   "source": [
    "# 블랙잭\n",
    "N,M = map(int,input().split())\n",
    "card = list(map(int,input().split()))\n",
    "new_card = []\n",
    "for i in card:\n",
    "    for j in card:\n",
    "        for k in card:\n",
    "            if i !=j and j!=k and i!=k:\n",
    "                new_card.append(i+j+k)\n",
    "new_card = sorted(new_card)\n",
    "ans = [i for i in new_card if i <= M]\n",
    "print(ans[-1])"
   ]
  },
  {
   "cell_type": "code",
   "execution_count": 13,
   "metadata": {},
   "outputs": [
    {
     "name": "stdout",
     "output_type": "stream",
     "text": [
      "198\n"
     ]
    }
   ],
   "source": [
    "# 분해합\n",
    "N = int(input())\n",
    "for i in range(N):\n",
    "    if (i+sum([int(j) for j in str(i)]))==N:\n",
    "        print(i)\n",
    "        break\n",
    "    elif i == N-1:\n",
    "        print(0)\n"
   ]
  },
  {
   "cell_type": "code",
   "execution_count": 19,
   "metadata": {},
   "outputs": [
    {
     "name": "stdout",
     "output_type": "stream",
     "text": [
      "-1 2\n"
     ]
    }
   ],
   "source": [
    "# 수학은 비대면강의입니다\n",
    "a,b,c,d,e,f = map(int,input().split())\n",
    "for x in range(-999,1000):\n",
    "    for y in range(-999,1000):\n",
    "        if ((a*x+b*y) == c) and (d*x+e*y==f):\n",
    "            print(x,y)\n",
    "            break"
   ]
  },
  {
   "cell_type": "code",
   "execution_count": 41,
   "metadata": {},
   "outputs": [
    {
     "data": {
      "text/plain": [
       "[['WBWBWBWB'],\n",
       " ['BWBWBWBW'],\n",
       " ['WBWBWBWB'],\n",
       " ['BWBBBWBW'],\n",
       " ['WBWBWBWB'],\n",
       " ['BWBWBWBW'],\n",
       " ['WBWBWBWB'],\n",
       " ['BWBWBWBW']]"
      ]
     },
     "execution_count": 41,
     "metadata": {},
     "output_type": "execute_result"
    }
   ],
   "source": [
    "all"
   ]
  },
  {
   "cell_type": "code",
   "execution_count": 43,
   "metadata": {},
   "outputs": [
    {
     "name": "stdout",
     "output_type": "stream",
     "text": [
      "85\n"
     ]
    }
   ],
   "source": [
    "# 체스판 다시 칠하기\n",
    "N, M = map(int, input().split())\n",
    "original = []\n",
    "count = []\n",
    "\n",
    "for _ in range(N):\n",
    "    original.append(input())\n",
    "\n",
    "for a in range(N-7):\n",
    "    for b in range(M-7):\n",
    "        index1 = 0\n",
    "        index2 = 0\n",
    "        for i in range(a, a+8):\n",
    "            for j in range(b, b+8):\n",
    "                if (i+j) % 2 == 0:\n",
    "                    if original[i][j] != 'W':\n",
    "                        index1 += 1\n",
    "                    if original[i][j] != 'B':\n",
    "                        index2 += 1\n",
    "                else:\n",
    "                    if original[i][j] != 'B':\n",
    "                        index1 += 1\n",
    "                    if original[i][j] != 'W':\n",
    "                        index2 += 1\n",
    "        count.append(min(index1, index2))\n",
    "\n",
    "print(min(count))\n"
   ]
  },
  {
   "cell_type": "code",
   "execution_count": 50,
   "metadata": {},
   "outputs": [
    {
     "name": "stdout",
     "output_type": "stream",
     "text": [
      "166699\n"
     ]
    }
   ],
   "source": [
    "# 영화감독 숌\n",
    "N = int(input())\n",
    "ans = []\n",
    "chk = 666\n",
    "while len(ans) != N:\n",
    "    if '666' in str(chk):\n",
    "        ans.append(chk)\n",
    "    chk += 1\n",
    "print(ans[-1])"
   ]
  },
  {
   "cell_type": "code",
   "execution_count": 45,
   "metadata": {},
   "outputs": [
    {
     "data": {
      "text/plain": [
       "False"
      ]
     },
     "execution_count": 45,
     "metadata": {},
     "output_type": "execute_result"
    }
   ],
   "source": [
    "# 설탕 배달\n",
    "sugar = int(input())\n",
    "\n",
    "bag = 0\n",
    "while sugar >= 0 :\n",
    "    if sugar % 5 == 0 :\n",
    "        bag += (sugar // 5)\n",
    "        print(bag)\n",
    "        break\n",
    "    sugar -= 3\n",
    "    bag += 1\n",
    "else :\n",
    "    print(-1)"
   ]
  },
  {
   "cell_type": "code",
   "execution_count": null,
   "metadata": {},
   "outputs": [],
   "source": []
  },
  {
   "cell_type": "code",
   "execution_count": 35,
   "metadata": {},
   "outputs": [
    {
     "name": "stdout",
     "output_type": "stream",
     "text": [
      "1\n",
      "[1, 2, 3, 4, 5, 6, 7, 8, 9, 10]\n",
      "2\n",
      "[1, 2, 3, 4, 5, 6, 7, 8, 9, 10]\n",
      "4\n",
      "[1, 3, 4, 5, 6, 7, 8, 9, 10]\n",
      "6\n",
      "[1, 3, 5, 6, 7, 8, 9, 10]\n",
      "8\n",
      "[1, 3, 5, 7, 8, 9, 10]\n",
      "10\n",
      "[1, 3, 5, 7, 9, 10]\n",
      "[2, 4, 6, 8, 10]\n"
     ]
    }
   ],
   "source": [
    "def even_elements(nums):\n",
    "    # new_list=[]\n",
    "    # new_list.extend(nums)\n",
    "\n",
    "    # for n in new_list :\n",
    "    #     print(n)\n",
    "    #     print(new_list)\n",
    "    #     if n%2 != 0 :\n",
    "    #         new_list.pop(new_list.index(n))\n",
    "       \n",
    "    # return new_list\n",
    "\n",
    "    new_list=[]\n",
    "    \n",
    "    for n in nums :\n",
    "        print(n)\n",
    "        print(nums)\n",
    "        if n%2 == 0 :\n",
    "            new_list.extend([nums.pop(nums.index(n))])\n",
    "       \n",
    "    return new_list\n",
    "    \n",
    "\n",
    "\n",
    "my_list = [1, 2, 3, 4, 5, 6, 7, 8, 9, 10]\n",
    "result = even_elements(my_list)\n",
    "print(result)"
   ]
  },
  {
   "cell_type": "code",
   "execution_count": null,
   "metadata": {},
   "outputs": [],
   "source": []
  }
 ],
 "metadata": {
  "kernelspec": {
   "display_name": "Python 3",
   "language": "python",
   "name": "python3"
  },
  "language_info": {
   "codemirror_mode": {
    "name": "ipython",
    "version": 3
   },
   "file_extension": ".py",
   "mimetype": "text/x-python",
   "name": "python",
   "nbconvert_exporter": "python",
   "pygments_lexer": "ipython3",
   "version": "3.9.13"
  }
 },
 "nbformat": 4,
 "nbformat_minor": 2
}
