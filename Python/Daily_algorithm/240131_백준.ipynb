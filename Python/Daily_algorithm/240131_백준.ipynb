{
 "cells": [
  {
   "cell_type": "markdown",
   "metadata": {},
   "source": [
    "### 스택, 큐, 덱"
   ]
  },
  {
   "cell_type": "code",
   "execution_count": 3,
   "metadata": {},
   "outputs": [
    {
     "name": "stdout",
     "output_type": "stream",
     "text": [
      "0 3\n",
      "3 -3\n",
      "4 -1\n",
      "2 1\n",
      "1 2\n",
      "1 4 5 3 2\n"
     ]
    }
   ],
   "source": [
    "# 풍선 터뜨리기\n",
    "from collections import deque\n",
    "N = int(input())\n",
    "q = deque(enumerate(map(int, input().split())))\n",
    "\n",
    "ans = []\n",
    "\n",
    "while q:\n",
    "    idx, paper = q.popleft()\n",
    "    ans.append(idx + 1)\n",
    "    if paper > 0:\n",
    "        q.rotate(-(paper - 1))\n",
    "    elif paper < 0:\n",
    "        q.rotate(-paper)\n",
    "\n",
    "print(' '.join(map(str, ans)))"
   ]
  },
  {
   "cell_type": "code",
   "execution_count": null,
   "metadata": {},
   "outputs": [],
   "source": [
    "# queuestack\n",
    "N = int(input())\n",
    "A = list(map(int, input().split()))\n",
    "B = list(map(int, input().split()))\n",
    "M = int(input())\n",
    "C = list(map(int, input().split()))\n"
   ]
  },
  {
   "cell_type": "code",
   "execution_count": null,
   "metadata": {},
   "outputs": [],
   "source": []
  }
 ],
 "metadata": {
  "kernelspec": {
   "display_name": "Python 3",
   "language": "python",
   "name": "python3"
  },
  "language_info": {
   "codemirror_mode": {
    "name": "ipython",
    "version": 3
   },
   "file_extension": ".py",
   "mimetype": "text/x-python",
   "name": "python",
   "nbconvert_exporter": "python",
   "pygments_lexer": "ipython3",
   "version": "3.9.13"
  }
 },
 "nbformat": 4,
 "nbformat_minor": 2
}
