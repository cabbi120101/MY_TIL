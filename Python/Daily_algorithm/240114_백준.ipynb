{
 "cells": [
  {
   "cell_type": "markdown",
   "metadata": {},
   "source": [
    "## 2차원 배열"
   ]
  },
  {
   "cell_type": "code",
   "execution_count": null,
   "metadata": {},
   "outputs": [],
   "source": [
    "# 행렬 덧셉\n",
    "N,M = map(int, input().split())\n",
    "A,B = [],[]\n",
    "for i in range(N):\n",
    "    row = list(map(int, input().split()))\n",
    "    A.append(row)\n",
    "for i in range(N):\n",
    "    row = list(map(int, input().split()))\n",
    "    B.append(row)\n",
    "\n",
    "for i in range(N):\n",
    "    for j in range(M):\n",
    "        print(A[i][j] + B[i][j], end=' ')\n",
    "    print()"
   ]
  },
  {
   "cell_type": "code",
   "execution_count": 1,
   "metadata": {},
   "outputs": [
    {
     "data": {
      "text/plain": [
       "[1, 2, 3, 2, 3, 4]"
      ]
     },
     "execution_count": 1,
     "metadata": {},
     "output_type": "execute_result"
    }
   ],
   "source": [
    "# 최댓값\n",
    "max_value = 0\n",
    "idx = [0,0]\n",
    "for i in range(9):\n",
    "    row = list(map(int, input().split()))\n",
    "    if max_value <= max(row):\n",
    "        max_value = max(row)\n",
    "        idx[0] = i+1\n",
    "        idx[1] = row.index(max(row))+1\n",
    "print(max_value)\n",
    "print(f'{idx[0]} {idx[1]}')    "
   ]
  },
  {
   "cell_type": "code",
   "execution_count": null,
   "metadata": {},
   "outputs": [],
   "source": []
  }
 ],
 "metadata": {
  "kernelspec": {
   "display_name": "Python 3",
   "language": "python",
   "name": "python3"
  },
  "language_info": {
   "codemirror_mode": {
    "name": "ipython",
    "version": 3
   },
   "file_extension": ".py",
   "mimetype": "text/x-python",
   "name": "python",
   "nbconvert_exporter": "python",
   "pygments_lexer": "ipython3",
   "version": "3.9.6"
  }
 },
 "nbformat": 4,
 "nbformat_minor": 2
}
