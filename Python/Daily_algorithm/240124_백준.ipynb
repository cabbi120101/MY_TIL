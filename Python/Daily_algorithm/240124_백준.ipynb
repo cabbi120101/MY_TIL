{
 "cells": [
  {
   "cell_type": "markdown",
   "metadata": {},
   "source": [
    "### 집합과 맵"
   ]
  },
  {
   "cell_type": "code",
   "execution_count": 4,
   "metadata": {},
   "outputs": [
    {
     "name": "stdout",
     "output_type": "stream",
     "text": [
      "1 0 0 1 1 0 0 1\n"
     ]
    }
   ],
   "source": [
    "# 숫자 카드\n",
    "import sys\n",
    "N = int(sys.stdin.readline())\n",
    "N_list = list(map(int, sys.stdin.readline().split()))\n",
    "M = int(sys.stdin.readline())\n",
    "M_list = list(map(int, sys.stdin.readline().split()))\n",
    "ans = {}\n",
    "for i in range(len(N_list)):\n",
    "    ans[N_list[i]] = 0\n",
    "\n",
    "for j in range(M):\n",
    "    if M_list[j] not in ans:\n",
    "        print(0, end=' ')\n",
    "    else:\n",
    "        print(1, end=' ')"
   ]
  },
  {
   "cell_type": "code",
   "execution_count": null,
   "metadata": {},
   "outputs": [],
   "source": [
    "# 문자열 집합\n",
    "import sys\n",
    "N,M = map(int, sys.stdin.readline().split())\n",
    "N_list = list(str(sys.stdin.readline()) for _ in range(N)) \n",
    "M_list = list(str(sys.stdin.readline()) for _ in range(M))\n",
    "ans = {}\n",
    "check = 0\n",
    "for i in range(N):\n",
    "    ans[N_list[i]] = 0\n",
    "for j in range(M):\n",
    "    if M_list[j] in ans:\n",
    "        check += 1\n",
    "print(check)"
   ]
  },
  {
   "cell_type": "code",
   "execution_count": 6,
   "metadata": {},
   "outputs": [
    {
     "name": "stdout",
     "output_type": "stream",
     "text": [
      "Artem\n",
      "Askar\n"
     ]
    }
   ],
   "source": [
    "# 회사에 있는 사람\n",
    "import sys\n",
    "N = int(sys.stdin.readline())\n",
    "ans = {}\n",
    "for _ in range(N):\n",
    "    a, b = map(str, sys.stdin.readline().split())\n",
    "    ans[a] = b\n",
    "ans1 = [i for i in ans if ans[i]=='enter']\n",
    "for j in sorted(ans1)[::-1]:\n",
    "    print(j)"
   ]
  },
  {
   "cell_type": "code",
   "execution_count": 1,
   "metadata": {},
   "outputs": [],
   "source": [
    "# 나는야 포켓몬 마스터 이다솜\n",
    "import sys\n",
    "N, M = map(int, sys.stdin.readline().split())\n",
    "dogam = {}\n",
    "for i in range(1,N+1):\n",
    "    name = sys.stdin.readline().strip()\n",
    "    dogam[i] = name\n",
    "    dogam[name] = i\n",
    "for j in range(M):\n",
    "    chk = sys.stdin.readline().strip()\n",
    "    if chk.isdigit():\n",
    "        print(dogam[int(chk)])\n",
    "    else:\n",
    "        print(dogam[chk])"
   ]
  },
  {
   "cell_type": "code",
   "execution_count": 10,
   "metadata": {},
   "outputs": [
    {
     "data": {
      "text/plain": [
       "True"
      ]
     },
     "execution_count": 10,
     "metadata": {},
     "output_type": "execute_result"
    }
   ],
   "source": [
    "# 숫자 카드 2\n"
   ]
  },
  {
   "cell_type": "code",
   "execution_count": null,
   "metadata": {},
   "outputs": [],
   "source": [
    "\n"
   ]
  },
  {
   "cell_type": "code",
   "execution_count": null,
   "metadata": {},
   "outputs": [],
   "source": []
  },
  {
   "cell_type": "code",
   "execution_count": null,
   "metadata": {},
   "outputs": [],
   "source": []
  },
  {
   "cell_type": "code",
   "execution_count": null,
   "metadata": {},
   "outputs": [],
   "source": []
  }
 ],
 "metadata": {
  "kernelspec": {
   "display_name": "Python 3",
   "language": "python",
   "name": "python3"
  },
  "language_info": {
   "codemirror_mode": {
    "name": "ipython",
    "version": 3
   },
   "file_extension": ".py",
   "mimetype": "text/x-python",
   "name": "python",
   "nbconvert_exporter": "python",
   "pygments_lexer": "ipython3",
   "version": "3.9.13"
  }
 },
 "nbformat": 4,
 "nbformat_minor": 2
}
