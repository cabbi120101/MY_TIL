{
 "cells": [
  {
   "cell_type": "markdown",
   "metadata": {},
   "source": [
    "## IM 대비 문제"
   ]
  },
  {
   "cell_type": "code",
   "execution_count": 12,
   "metadata": {},
   "outputs": [
    {
     "name": "stdout",
     "output_type": "stream",
     "text": [
      "12\n"
     ]
    }
   ],
   "source": [
    "# 방배정\n",
    "N, K = map(int, input().split())\n",
    "arr = [tuple(map(int, input().split())) for _ in range(N)]\n",
    "ans = len(set(arr))\n",
    "limit = 0\n",
    "\n",
    "while arr:\n",
    "    for i in set(arr):\n",
    "        arr.pop(arr.index(i))\n",
    "    limit += 1\n",
    "    if limit == K:\n",
    "        K = 0\n",
    "        ans += 1\n",
    "print(ans)"
   ]
  },
  {
   "cell_type": "code",
   "execution_count": 5,
   "metadata": {},
   "outputs": [
    {
     "name": "stdout",
     "output_type": "stream",
     "text": [
      "[<generator object <genexpr> at 0x0000018D51BE77B0>]\n"
     ]
    }
   ],
   "source": [
    "N, k = map(int, input().split())\n",
    "student = [[0] * 7 for _ in range(3)] #성별 / 학년별\n",
    "\n",
    "for _ in range(N):\n",
    "    S, Y = map(int, input().split())\n",
    "    student[S][Y] += 1\n",
    "        \n",
    "room = 0\n",
    "for i in student:\n",
    "    for j in i:\n",
    "        if j%k != 0:\n",
    "            room += (j // k)+1\n",
    "        else:\n",
    "            room += (j//k)\n",
    "\n",
    "print(room)"
   ]
  },
  {
   "cell_type": "code",
   "execution_count": null,
   "metadata": {},
   "outputs": [],
   "source": []
  },
  {
   "cell_type": "code",
   "execution_count": null,
   "metadata": {},
   "outputs": [],
   "source": []
  },
  {
   "cell_type": "code",
   "execution_count": null,
   "metadata": {},
   "outputs": [],
   "source": []
  },
  {
   "cell_type": "code",
   "execution_count": null,
   "metadata": {},
   "outputs": [],
   "source": []
  }
 ],
 "metadata": {
  "kernelspec": {
   "display_name": "Python 3",
   "language": "python",
   "name": "python3"
  },
  "language_info": {
   "codemirror_mode": {
    "name": "ipython",
    "version": 3
   },
   "file_extension": ".py",
   "mimetype": "text/x-python",
   "name": "python",
   "nbconvert_exporter": "python",
   "pygments_lexer": "ipython3",
   "version": "3.9.13"
  }
 },
 "nbformat": 4,
 "nbformat_minor": 2
}
