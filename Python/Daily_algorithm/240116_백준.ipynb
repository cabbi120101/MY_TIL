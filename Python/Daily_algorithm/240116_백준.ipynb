{
 "cells": [
  {
   "cell_type": "markdown",
   "metadata": {},
   "source": [
    "## 일반 수학 1"
   ]
  },
  {
   "cell_type": "code",
   "execution_count": 57,
   "metadata": {},
   "outputs": [
    {
     "name": "stdout",
     "output_type": "stream",
     "text": [
      "60466175\n"
     ]
    }
   ],
   "source": [
    "# 진법 변환\n",
    "N,B = map(str, input().split())\n",
    "alp = 'ABCDEFGHIJKLMNOPQRSTUVWXYZ'\n",
    "B = int(B)\n",
    "N = N[::-1]\n",
    "ans = 0\n",
    "for i in range(len(N)):\n",
    "    num = int(alp.index(N[i]))+10\n",
    "    ans += num * B**(len(N)-1-i)\n",
    "print(ans)"
   ]
  },
  {
   "cell_type": "code",
   "execution_count": 58,
   "metadata": {},
   "outputs": [
    {
     "name": "stdout",
     "output_type": "stream",
     "text": [
      "60466175\n"
     ]
    }
   ],
   "source": [
    "# 진법 변환\n",
    "N,B = input().split()\n",
    "alp = '0123456789ABCDEFGHIJKLMNOPQRSTUVWXYZ'\n",
    "N = N[::-1]\n",
    "ans = 0\n",
    "for i,j in enumerate(N):\n",
    "    ans += (int(B)**i)*(alp.index(j))\n",
    "print(ans)"
   ]
  },
  {
   "cell_type": "code",
   "execution_count": 63,
   "metadata": {},
   "outputs": [
    {
     "name": "stdout",
     "output_type": "stream",
     "text": [
      "ZZZZZ\n"
     ]
    }
   ],
   "source": [
    "# 진법 변환 2\n",
    "N,B = map(int,input().split())\n",
    "alp = '0123456789ABCDEFGHIJKLMNOPQRSTUVWXYZ'\n",
    "ans = ''\n",
    "while N:\n",
    "    ans += str(alp[N%B])\n",
    "    N //= B\n",
    "print(ans[::-1])"
   ]
  },
  {
   "cell_type": "code",
   "execution_count": 65,
   "metadata": {},
   "outputs": [
    {
     "name": "stdout",
     "output_type": "stream",
     "text": [
      "4 2 0 4 \n",
      "1 0 0 0 \n",
      "7 1 1 4 \n"
     ]
    }
   ],
   "source": [
    "N = int(input())\n",
    "for i in range(N):\n",
    "    ans = []\n",
    "    T = int(input())\n",
    "\n",
    "    ans.append(T//25)\n",
    "    ans.append((T%25)//10)\n",
    "    ans.append(((T%25)%10)//5)\n",
    "    ans.append((((T%25)%10)%5)//1)\n",
    "    for j in ans:\n",
    "        print(j, end=\" \")\n",
    "    print()"
   ]
  },
  {
   "cell_type": "code",
   "execution_count": null,
   "metadata": {},
   "outputs": [],
   "source": [
    "# 세탁소 사장 동혁\n",
    "N = int(input())\n",
    "for i in range(N):\n",
    "    money = int(input())\n",
    "    for j in [25,10,5,1]:\n",
    "        print(money//j, end=\" \")\n",
    "        money %= j"
   ]
  },
  {
   "cell_type": "code",
   "execution_count": 97,
   "metadata": {},
   "outputs": [
    {
     "name": "stdout",
     "output_type": "stream",
     "text": [
      "4\n"
     ]
    }
   ],
   "source": [
    "# 중앙 이동 알고리즘\n",
    "N = int(input())\n",
    "print((2**N+1)**2)"
   ]
  },
  {
   "cell_type": "code",
   "execution_count": null,
   "metadata": {},
   "outputs": [],
   "source": []
  }
 ],
 "metadata": {
  "kernelspec": {
   "display_name": "Python 3",
   "language": "python",
   "name": "python3"
  },
  "language_info": {
   "codemirror_mode": {
    "name": "ipython",
    "version": 3
   },
   "file_extension": ".py",
   "mimetype": "text/x-python",
   "name": "python",
   "nbconvert_exporter": "python",
   "pygments_lexer": "ipython3",
   "version": "3.9.13"
  }
 },
 "nbformat": 4,
 "nbformat_minor": 2
}
