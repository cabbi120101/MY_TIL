{
 "cells": [
  {
   "cell_type": "markdown",
   "metadata": {},
   "source": []
  },
  {
   "cell_type": "code",
   "execution_count": 7,
   "metadata": {},
   "outputs": [
    {
     "name": "stdout",
     "output_type": "stream",
     "text": [
      "19\n",
      "19 0\n"
     ]
    }
   ],
   "source": [
    "A,B = map(int, input().split())\n",
    "C = int(input())\n",
    "if B+C <= 60:\n",
    "    print(f\"{A} {B+C}\")\n",
    "else:\n",
    "    A_2 = A+((B+C)//60)\n",
    "    print(A_2)\n",
    "    print(f\"{A_2-24 if A_2>=24 else A_2} {(B+C)-60*((B+C)//60)}\")"
   ]
  },
  {
   "cell_type": "code",
   "execution_count": null,
   "metadata": {},
   "outputs": [],
   "source": []
  }
 ],
 "metadata": {
  "kernelspec": {
   "display_name": "Python 3",
   "language": "python",
   "name": "python3"
  },
  "language_info": {
   "codemirror_mode": {
    "name": "ipython",
    "version": 3
   },
   "file_extension": ".py",
   "mimetype": "text/x-python",
   "name": "python",
   "nbconvert_exporter": "python",
   "pygments_lexer": "ipython3",
   "version": "3.9.13"
  }
 },
 "nbformat": 4,
 "nbformat_minor": 2
}
