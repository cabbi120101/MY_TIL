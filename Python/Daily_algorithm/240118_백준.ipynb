{
 "cells": [
  {
   "cell_type": "markdown",
   "metadata": {},
   "source": [
    "### 약수,배수와 소수"
   ]
  },
  {
   "cell_type": "code",
   "execution_count": null,
   "metadata": {},
   "outputs": [],
   "source": [
    "# 배수와 약수\n",
    "while True:\n",
    "    A,B = map(int,input().split())\n",
    "    if A+B == 0:\n",
    "        break\n",
    "    else:\n",
    "        if B%A == 0:\n",
    "            print('factor')\n",
    "        elif A%B ==0:\n",
    "            print('multiple')\n",
    "        else:\n",
    "            print('neither')"
   ]
  },
  {
   "cell_type": "code",
   "execution_count": 6,
   "metadata": {},
   "outputs": [
    {
     "name": "stdout",
     "output_type": "stream",
     "text": [
      "1\n"
     ]
    }
   ],
   "source": [
    "# 약수 구하기\n",
    "N,K = map(int,input().split())\n",
    "N_list = [i for i in range(1,N+1) if N%i==0]\n",
    "print(N_list[K-1] if len(N_list)>=K else 0)"
   ]
  },
  {
   "cell_type": "code",
   "execution_count": 12,
   "metadata": {},
   "outputs": [
    {
     "name": "stdout",
     "output_type": "stream",
     "text": [
      "6 = 1 + 2 + 3\n",
      "12 is NOT perfect.\n",
      "28 = 1 + 2 + 4 + 7 + 14\n"
     ]
    }
   ],
   "source": [
    "# 약수들의 합\n",
    "while True:\n",
    "    n =  int(input())\n",
    "    if n == -1:\n",
    "        break\n",
    "    else:\n",
    "        n_list = [i for i in range(1,n-1) if n%i==0]\n",
    "        if n == sum(n_list):\n",
    "            ans = f'{n} = '\n",
    "            for idx,j in enumerate(n_list):\n",
    "                if idx == 0:\n",
    "                    ans += f'{j}'\n",
    "                else:\n",
    "                    ans += f' + {j}'\n",
    "            print(ans)\n",
    "        else:\n",
    "            print(f\"{n} is NOT perfect.\")"
   ]
  },
  {
   "cell_type": "code",
   "execution_count": 14,
   "metadata": {},
   "outputs": [
    {
     "name": "stdout",
     "output_type": "stream",
     "text": [
      "3\n"
     ]
    }
   ],
   "source": [
    "# 소수 찾기\n",
    "N = int(input())\n",
    "N_list = list(map(int,input().split()))\n",
    "ans = 0\n",
    "for i in N_list:\n",
    "    if i == 1:\n",
    "        pass\n",
    "    else:\n",
    "        if i+1 == sum([j for j in range(1,i+1) if i%j==0]):\n",
    "            ans += 1\n",
    "        else:\n",
    "            pass\n",
    "print(ans)"
   ]
  },
  {
   "cell_type": "code",
   "execution_count": 15,
   "metadata": {},
   "outputs": [
    {
     "name": "stdout",
     "output_type": "stream",
     "text": [
      "620\n",
      "61\n"
     ]
    }
   ],
   "source": [
    "# 소수\n",
    "M = int(input())\n",
    "N = int(input())\n",
    "ans = []\n",
    "for i in range(M, N+1):\n",
    "    if i != 1:\n",
    "        if i+1 == sum([j for j in range(1,i+1) if i%j==0]):\n",
    "            ans.append(i)\n",
    "if len(ans) >= 1:\n",
    "    print(sum(ans))\n",
    "    print(min(ans))\n",
    "else:\n",
    "    print(-1)"
   ]
  },
  {
   "cell_type": "code",
   "execution_count": 27,
   "metadata": {},
   "outputs": [
    {
     "name": "stdout",
     "output_type": "stream",
     "text": [
      "97\n",
      "103\n"
     ]
    }
   ],
   "source": [
    "# 소인수분해\n",
    "N = int(input())\n",
    "while N != 1:\n",
    "    for i in range(1,N+1):\n",
    "        if i != 1:\n",
    "            if N%i == 0:\n",
    "                print(i)\n",
    "                N = N//i\n",
    "                break\n",
    "            else:\n",
    "                pass\n",
    "        else:\n",
    "            pass"
   ]
  },
  {
   "cell_type": "code",
   "execution_count": null,
   "metadata": {},
   "outputs": [],
   "source": []
  }
 ],
 "metadata": {
  "kernelspec": {
   "display_name": "Python 3",
   "language": "python",
   "name": "python3"
  },
  "language_info": {
   "codemirror_mode": {
    "name": "ipython",
    "version": 3
   },
   "file_extension": ".py",
   "mimetype": "text/x-python",
   "name": "python",
   "nbconvert_exporter": "python",
   "pygments_lexer": "ipython3",
   "version": "3.12.1"
  }
 },
 "nbformat": 4,
 "nbformat_minor": 2
}
