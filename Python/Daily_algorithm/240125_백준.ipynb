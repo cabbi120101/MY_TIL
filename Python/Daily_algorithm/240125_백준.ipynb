{
 "cells": [
  {
   "cell_type": "markdown",
   "metadata": {},
   "source": [
    "### 집합과 맵"
   ]
  },
  {
   "cell_type": "code",
   "execution_count": 6,
   "metadata": {},
   "outputs": [
    {
     "name": "stdout",
     "output_type": "stream",
     "text": [
      "3 0 0 1 2 0 0 2 "
     ]
    }
   ],
   "source": [
    "# 숫자 카드 2\n",
    "N = int(input())\n",
    "N_list = list(map(int, input().split()))\n",
    "M = int(input())\n",
    "M_list = list(map(int, input().split()))\n",
    "ans = {}\n",
    "for i in N_list:\n",
    "    if i in ans:\n",
    "        ans[i] += 1\n",
    "    else:\n",
    "        ans[i] = 1\n",
    "\n",
    "for j in M_list:\n",
    "    if j in ans:\n",
    "        print(ans[j], end=' ')\n",
    "    else:\n",
    "        print(0, end=' ')"
   ]
  },
  {
   "cell_type": "code",
   "execution_count": null,
   "metadata": {},
   "outputs": [],
   "source": [
    "# 듣보잡\n",
    "N,M = map(int, input().split())\n",
    "eye = {str(input()) for i in range(N)}\n",
    "ear = {str(input()) for j in range(M)}\n",
    "ans = sorted(list(eye&ear))\n",
    "print(len(ans))\n",
    "for i in ans:\n",
    "    print(i)"
   ]
  },
  {
   "cell_type": "code",
   "execution_count": 7,
   "metadata": {},
   "outputs": [
    {
     "name": "stdout",
     "output_type": "stream",
     "text": [
      "4\n"
     ]
    }
   ],
   "source": [
    "# 대칭 차집합\n",
    "A, B = map(int, input().split())\n",
    "A_set = set(map(int, input().split()))\n",
    "B_set = set(map(int, input().split()))\n",
    "print(len(A_set-B_set)+len(B_set-A_set))"
   ]
  },
  {
   "cell_type": "code",
   "execution_count": 27,
   "metadata": {},
   "outputs": [
    {
     "name": "stdout",
     "output_type": "stream",
     "text": [
      "{'abab', 'b', 'bab', 'ababc', 'ba', 'c', 'abc', 'babc', 'ab', 'bc', 'aba', 'a'}\n",
      "12\n"
     ]
    }
   ],
   "source": [
    "# 서로 다른 부분 문자열의 개수\n",
    "S = str(input())\n",
    "ans = set()\n",
    "for i in range(len(S)):\n",
    "    for j in range(i, len(S)):        \n",
    "        ans.add(S[i:j+1])\n",
    "print(len(ans))"
   ]
  },
  {
   "cell_type": "code",
   "execution_count": 28,
   "metadata": {},
   "outputs": [
    {
     "name": "stdout",
     "output_type": "stream",
     "text": [
      "2360\n",
      "3776\n",
      "1416\n",
      "181720\n"
     ]
    }
   ],
   "source": [
    "# 곱셈\n",
    "N = int(input())\n",
    "M = str(input())\n",
    "print(N*int(M[-1]))\n",
    "print(N*int(M[-2]))\n",
    "print(N*int(M[-3]))\n",
    "print(N*int(M))"
   ]
  },
  {
   "cell_type": "code",
   "execution_count": null,
   "metadata": {},
   "outputs": [],
   "source": []
  },
  {
   "cell_type": "code",
   "execution_count": null,
   "metadata": {},
   "outputs": [],
   "source": []
  }
 ],
 "metadata": {
  "kernelspec": {
   "display_name": "Python 3",
   "language": "python",
   "name": "python3"
  },
  "language_info": {
   "codemirror_mode": {
    "name": "ipython",
    "version": 3
   },
   "file_extension": ".py",
   "mimetype": "text/x-python",
   "name": "python",
   "nbconvert_exporter": "python",
   "pygments_lexer": "ipython3",
   "version": "3.9.13"
  }
 },
 "nbformat": 4,
 "nbformat_minor": 2
}
