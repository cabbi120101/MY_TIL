{
 "cells": [
  {
   "cell_type": "markdown",
   "metadata": {},
   "source": [
    "### 정렬"
   ]
  },
  {
   "cell_type": "code",
   "execution_count": 8,
   "metadata": {},
   "outputs": [
    {
     "name": "stdout",
     "output_type": "stream",
     "text": [
      "3 4 1 2 5\n"
     ]
    }
   ],
   "source": [
    "N,M = map(int, input().split())\n",
    "N_list = [i for i in range(1,N+1)]\n",
    "for _ in range(M):\n",
    "    i, j = map(int, input().split())\n",
    "    N_list[i-1:j] = N_list[i-1:j][::-1]\n",
    "print(*N_list)"
   ]
  },
  {
   "cell_type": "code",
   "execution_count": 11,
   "metadata": {},
   "outputs": [
    {
     "ename": "ValueError",
     "evalue": "invalid literal for int() with base 10: ''",
     "output_type": "error",
     "traceback": [
      "\u001b[1;31m---------------------------------------------------------------------------\u001b[0m",
      "\u001b[1;31mValueError\u001b[0m                                Traceback (most recent call last)",
      "Cell \u001b[1;32mIn[11], line 2\u001b[0m\n\u001b[0;32m      1\u001b[0m \u001b[38;5;66;03m# 수 정렬하기\u001b[39;00m\n\u001b[1;32m----> 2\u001b[0m N \u001b[38;5;241m=\u001b[39m \u001b[38;5;28;43mint\u001b[39;49m\u001b[43m(\u001b[49m\u001b[38;5;28;43minput\u001b[39;49m\u001b[43m(\u001b[49m\u001b[43m)\u001b[49m\u001b[43m)\u001b[49m\n\u001b[0;32m      3\u001b[0m N_list \u001b[38;5;241m=\u001b[39m \u001b[38;5;28msorted\u001b[39m([\u001b[38;5;28mint\u001b[39m(\u001b[38;5;28minput\u001b[39m()) \u001b[38;5;28;01mfor\u001b[39;00m _ \u001b[38;5;129;01min\u001b[39;00m \u001b[38;5;28mrange\u001b[39m(N)])\n\u001b[0;32m      4\u001b[0m \u001b[38;5;28;01mfor\u001b[39;00m i \u001b[38;5;129;01min\u001b[39;00m N_list:\n",
      "\u001b[1;31mValueError\u001b[0m: invalid literal for int() with base 10: ''"
     ]
    }
   ],
   "source": [
    "# 수 정렬하기\n",
    "N = int(input())\n",
    "N_list = sorted([int(input()) for _ in range(N)])\n",
    "for i in N_list:\n",
    "    print(i)\n",
    "    \n",
    "# 다른 풀이 - 버블 정렬\n",
    "N = int(input())\n",
    "M = [int(input()) for _ in range(N)]\n",
    "for i in range(len(M)):\n",
    "    for j in range(len(M)):\n",
    "        if M[i] < M[j]:\n",
    "            M[i], M[j] = M[j], M[i]\n",
    "for n in M:\n",
    "    print(n)"
   ]
  },
  {
   "cell_type": "code",
   "execution_count": 14,
   "metadata": {},
   "outputs": [
    {
     "name": "stdout",
     "output_type": "stream",
     "text": [
      "34\n",
      "30\n"
     ]
    }
   ],
   "source": [
    "# 대표값\n",
    "L = [int(input()) for _ in range(5)]\n",
    "print(sum(L)//len(L))\n",
    "print(sorted(L)[len(L)//2])"
   ]
  },
  {
   "cell_type": "code",
   "execution_count": 20,
   "metadata": {},
   "outputs": [
    {
     "name": "stdout",
     "output_type": "stream",
     "text": [
      "98\n"
     ]
    }
   ],
   "source": [
    "# 커트라인\n",
    "N, k = map(int,input().split())\n",
    "Y = sorted(list(map(int, input().split())))[::-1]\n",
    "print(Y[:k][-1])"
   ]
  },
  {
   "cell_type": "code",
   "execution_count": 22,
   "metadata": {},
   "outputs": [
    {
     "name": "stdout",
     "output_type": "stream",
     "text": [
      "1\n",
      "2\n",
      "3\n",
      "4\n",
      "5\n"
     ]
    }
   ],
   "source": [
    "# 수 정렬하기 2\n",
    "# 시간 초과\n",
    "# N = int(input())\n",
    "# M = [int(input()) for _ in range(N)]\n",
    "# for i in range(len(M)):\n",
    "#     for j in range(len(M)):\n",
    "#         if M[i] < M[j]:\n",
    "#             M[i], M[j] = M[j], M[i]\n",
    "# for n in M:\n",
    "#     print(n)\n",
    "import sys\n",
    "N = int(input())\n",
    "N_list = [int(sys.stdin.readline()) for _ in range(N)]\n",
    "for i in sorted(N_list):\n",
    "    print(i)"
   ]
  },
  {
   "cell_type": "code",
   "execution_count": null,
   "metadata": {},
   "outputs": [],
   "source": [
    "# 수 정렬하기 3\n",
    "import sys\n",
    "N = int(sys.stdin.readline())\n",
    "arr = [0]*10001\n",
    "for _ in range(N):\n",
    "    num = int(sys.stdin.readline())\n",
    "    arr[num] += 1\n",
    "\n",
    "for i in range(10001):\n",
    "    if arr[i] != 0:\n",
    "        for j in range(arr[i]):\n",
    "            print(i)"
   ]
  },
  {
   "cell_type": "code",
   "execution_count": 25,
   "metadata": {},
   "outputs": [
    {
     "name": "stdout",
     "output_type": "stream",
     "text": [
      "4321\n"
     ]
    }
   ],
   "source": [
    "# 소트인사이드\n",
    "N = str(input())\n",
    "N_list = sorted([int(i) for i in N])[::-1]\n",
    "print(int(''.join([str(i) for i in N_list])))"
   ]
  },
  {
   "cell_type": "code",
   "execution_count": 32,
   "metadata": {},
   "outputs": [
    {
     "ename": "SyntaxError",
     "evalue": "invalid syntax (2176935089.py, line 23)",
     "output_type": "error",
     "traceback": [
      "\u001b[1;36m  Cell \u001b[1;32mIn[32], line 23\u001b[1;36m\u001b[0m\n\u001b[1;33m    coor.sort(key = lambda (x: x[1], x[0]))\u001b[0m\n\u001b[1;37m                           ^\u001b[0m\n\u001b[1;31mSyntaxError\u001b[0m\u001b[1;31m:\u001b[0m invalid syntax\n"
     ]
    }
   ],
   "source": [
    "# 좌표 정렬하기\n",
    "# 시간 초과\n",
    "# N = int(input())\n",
    "# coor = []\n",
    "# for _ in range(N):\n",
    "#     i,j = map(int, input().split())\n",
    "#     coor.append((i,j))\n",
    "\n",
    "# for x in range(len(coor)):\n",
    "#     for y in range(len(coor)):\n",
    "#         if coor[x][0] < coor[y][0]:\n",
    "#             coor[x], coor[y] = coor[y], coor[x]\n",
    "#         elif coor[x][0] == coor[y][0]:\n",
    "#             if coor[x][1] < coor[y][1]:\n",
    "#                 coor[x], coor[y] = coor[y], coor[x]\n",
    "# for n in coor:\n",
    "#     print(*n)\n",
    "import sys\n",
    "N = int(sys.stdin.readline())\n",
    "coor = []\n",
    "for i in range(N):\n",
    "    [a,b] = map(int, sys.stdin.readline().split())\n",
    "    coor.append([a,b])\n",
    "coor.sort(key = lambda x:(x[1], x[0]))\n",
    "for i in coor:\n",
    "    print(*i)"
   ]
  },
  {
   "cell_type": "code",
   "execution_count": 1,
   "metadata": {},
   "outputs": [
    {
     "name": "stdout",
     "output_type": "stream",
     "text": [
      "d\n",
      "i\n",
      "im\n",
      "it\n",
      "no\n",
      "no\n",
      "but\n",
      "more\n",
      "wait\n",
      "wont\n",
      "yours\n",
      "cannot\n",
      "hesitate\n"
     ]
    }
   ],
   "source": [
    "# 단어 정렬\n",
    "N = int(input())\n",
    "alp = []\n",
    "for _ in range(N):\n",
    "    i = str(input())\n",
    "    alp.append(i)\n",
    "alp = list(set(alp))\n",
    "alp.sort(key = lambda x:(len(x), x))\n",
    "for i in alp:\n",
    "    print(i)"
   ]
  },
  {
   "cell_type": "code",
   "execution_count": 6,
   "metadata": {},
   "outputs": [
    {
     "name": "stdout",
     "output_type": "stream",
     "text": [
      "[[21, 'Junkyu'], [21, 'Dohyun'], [20, 'Sunyoung']]\n",
      "20 Sunyoung\n",
      "21 Junkyu\n",
      "21 Dohyun\n"
     ]
    }
   ],
   "source": [
    "# 나이순 정렬\n",
    "N = int(input())\n",
    "name = []\n",
    "for i in range(N):\n",
    "    a,b = input().split()\n",
    "    name.append([int(a),str(b)])\n",
    "name.sort(key = lambda x:(x[0]))\n",
    "for i in name:\n",
    "    print(*i)"
   ]
  },
  {
   "cell_type": "code",
   "execution_count": 12,
   "metadata": {},
   "outputs": [
    {
     "name": "stdout",
     "output_type": "stream",
     "text": [
      "[-10, -9, 2, 4]\n",
      "{-10: 0, -9: 1, 2: 2, 4: 3}\n",
      "2 3 0 3 1 "
     ]
    }
   ],
   "source": [
    "# 좌표 앞축\n",
    "# N = int(input())\n",
    "# coor = list(map(int, input().split()))\n",
    "# set_coor = set(coor)\n",
    "# ans = [len([j for j in set_coor if j < i]) for i in coor]\n",
    "# print(*ans)\n",
    "\n",
    "n = int(input())\n",
    "arr = list(map(int, input().split())) \n",
    "arr2 = sorted(list(set(arr)))\n",
    "dic = {arr2[i] : i for i in range(len(arr2))}\n",
    "for i in arr:\n",
    "    print(dic[i], end = ' ')\n"
   ]
  },
  {
   "cell_type": "code",
   "execution_count": null,
   "metadata": {},
   "outputs": [],
   "source": []
  }
 ],
 "metadata": {
  "kernelspec": {
   "display_name": "Python 3",
   "language": "python",
   "name": "python3"
  },
  "language_info": {
   "codemirror_mode": {
    "name": "ipython",
    "version": 3
   },
   "file_extension": ".py",
   "mimetype": "text/x-python",
   "name": "python",
   "nbconvert_exporter": "python",
   "pygments_lexer": "ipython3",
   "version": "3.12.1"
  }
 },
 "nbformat": 4,
 "nbformat_minor": 2
}
