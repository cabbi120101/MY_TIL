{
 "cells": [
  {
   "cell_type": "markdown",
   "metadata": {},
   "source": [
    "### 스택, 큐, 덱"
   ]
  },
  {
   "cell_type": "code",
   "execution_count": 5,
   "metadata": {},
   "outputs": [
    {
     "name": "stdout",
     "output_type": "stream",
     "text": [
      "no\n",
      "yes\n"
     ]
    }
   ],
   "source": [
    "# 균형잡힌 세상\n",
    "while True:\n",
    "    string = str(input())\n",
    "    stack = []\n",
    "    if string == '.':\n",
    "        break\n",
    "    for i in string:\n",
    "        if i == '(' or i == '[':\n",
    "                stack.append(i)\n",
    "        elif i ==')':\n",
    "            if len(stack)!=0 and stack[-1]=='(':\n",
    "                stack.pop()\n",
    "            else:\n",
    "                stack.append(')')\n",
    "                break\n",
    "        elif i == ']':\n",
    "            if len(stack)!=0 and stack[-1]=='[':\n",
    "                stack.pop()\n",
    "            else:\n",
    "                stack.append(']')\n",
    "                break\n",
    "    if len(stack) == 0:\n",
    "        print('yes')\n",
    "    else:\n",
    "        print('no')"
   ]
  },
  {
   "cell_type": "code",
   "execution_count": 7,
   "metadata": {},
   "outputs": [
    {
     "name": "stdout",
     "output_type": "stream",
     "text": [
      "Nice\n"
     ]
    }
   ],
   "source": [
    "# 도키도키 간식드리미\n",
    "import sys\n",
    "\n",
    "N = int(input())\n",
    "stack2 = []\n",
    "cnt = 1\n",
    "\n",
    "l = list(map(int,sys.stdin.readline().split()))\n",
    "while l:\n",
    "    if cnt==l[0]:\n",
    "        cnt+=1\n",
    "        l.pop(0)\n",
    "    else:\n",
    "        stack2.append(l.pop(0))\n",
    "\n",
    "    while stack2:\n",
    "        if stack2[-1] == cnt:\n",
    "            stack2.pop()\n",
    "            cnt+=1\n",
    "        else:\n",
    "            break\n",
    "\n",
    "if len(stack2)==0:\n",
    "    print(\"Nice\")\n",
    "else:\n",
    "    print(\"Sad\")\n",
    "\n",
    "# n = int(input())\n",
    "# standing = list(map(int, input().split()))\n",
    "# stack = []\n",
    "# target = 1\n",
    " \n",
    "# while standing:\n",
    "#     if standing[0] == target:\n",
    "#         target += 1\n",
    "#         standing.pop(0)\n",
    "#     else:\n",
    "#         stack.append(standing.pop(0))\n",
    " \n",
    "#     while stack:\n",
    "#         if stack[-1] == target:\n",
    "#             stack.pop()\n",
    "#             target += 1\n",
    "#         else:\n",
    "#             break\n",
    " \n",
    "# if not stack: \n",
    "#     print('Nice')\n",
    "# else:\n",
    "#     print('No')\n",
    " \n",
    "# # 혹은 이렇게 작성해도 된다.\n",
    "# print('Nice' if not stack else 'No')"
   ]
  },
  {
   "cell_type": "code",
   "execution_count": 13,
   "metadata": {},
   "outputs": [
    {
     "ename": "TypeError",
     "evalue": "'map' object is not subscriptable",
     "output_type": "error",
     "traceback": [
      "\u001b[1;31m---------------------------------------------------------------------------\u001b[0m",
      "\u001b[1;31mTypeError\u001b[0m                                 Traceback (most recent call last)",
      "Cell \u001b[1;32mIn[13], line 6\u001b[0m\n\u001b[0;32m      4\u001b[0m \u001b[38;5;28;01mfor\u001b[39;00m _ \u001b[38;5;129;01min\u001b[39;00m \u001b[38;5;28mrange\u001b[39m(N):\n\u001b[0;32m      5\u001b[0m     order \u001b[38;5;241m=\u001b[39m \u001b[38;5;28mmap\u001b[39m(\u001b[38;5;28mstr\u001b[39m, \u001b[38;5;28minput\u001b[39m()\u001b[38;5;241m.\u001b[39msplit())\n\u001b[1;32m----> 6\u001b[0m     \u001b[38;5;28;01mif\u001b[39;00m \u001b[43morder\u001b[49m\u001b[43m[\u001b[49m\u001b[38;5;241;43m0\u001b[39;49m\u001b[43m]\u001b[49m \u001b[38;5;241m==\u001b[39m \u001b[38;5;124m'\u001b[39m\u001b[38;5;124mpush\u001b[39m\u001b[38;5;124m'\u001b[39m:\n\u001b[0;32m      7\u001b[0m         Q\u001b[38;5;241m.\u001b[39mappend(order[\u001b[38;5;241m1\u001b[39m])\n\u001b[0;32m      8\u001b[0m     \u001b[38;5;28;01melif\u001b[39;00m order[\u001b[38;5;241m0\u001b[39m] \u001b[38;5;241m==\u001b[39m \u001b[38;5;124m'\u001b[39m\u001b[38;5;124mpop\u001b[39m\u001b[38;5;124m'\u001b[39m:\n",
      "\u001b[1;31mTypeError\u001b[0m: 'map' object is not subscriptable"
     ]
    }
   ],
   "source": [
    "# 큐 2\n",
    "import sys\n",
    "from collections import deque\n",
    "N = int(sys.stdin.readline())\n",
    "Q = deque([])\n",
    "for _ in range(N):\n",
    "    order = list(map(str, sys.stdin.readline().split()))\n",
    "    if order[0] == 'push':\n",
    "        Q.append(order[1])\n",
    "    elif order[0] == 'pop':\n",
    "        if Q:\n",
    "            print(Q.popleft())\n",
    "        else:\n",
    "            print(-1)\n",
    "    elif order[0] == 'size':\n",
    "        print(len(Q))\n",
    "    elif order[0] == 'empty':\n",
    "        if Q:\n",
    "            print(0)\n",
    "        else:\n",
    "            print(1)\n",
    "    elif order[0] == 'front':\n",
    "        if Q:\n",
    "            print(Q[0])\n",
    "        else:\n",
    "            print(-1)\n",
    "    elif order[0] == 'back':\n",
    "        if Q:\n",
    "            print(Q[-1])\n",
    "        else:\n",
    "            print(-1)"
   ]
  },
  {
   "cell_type": "code",
   "execution_count": 16,
   "metadata": {},
   "outputs": [
    {
     "name": "stdout",
     "output_type": "stream",
     "text": [
      "4\n"
     ]
    }
   ],
   "source": [
    "# 카드 2\n",
    "# N = int(input())\n",
    "# card = list(range(1,N+1))\n",
    "# while len(card) > 1:\n",
    "#     card.pop(0)\n",
    "#     card.append(card.pop(0))\n",
    "# print(card[0])\n",
    "from collections import deque\n",
    "N = int(input())\n",
    "card = deque(list(range(1,N+1)))\n",
    "while len(card) > 1:\n",
    "    card.popleft()\n",
    "    card.append(card.popleft())\n",
    "print(card[0])"
   ]
  },
  {
   "cell_type": "code",
   "execution_count": 20,
   "metadata": {},
   "outputs": [
    {
     "name": "stdout",
     "output_type": "stream",
     "text": [
      "<3, 6, 2, 7, 5, 1, 4>\n"
     ]
    }
   ],
   "source": [
    "# 요세푸스 문제 0\n",
    "n,k = map(int,input().split())\n",
    "idx = 0\n",
    "queue = [i for i in range(1, n+1)]\n",
    "res = []\n",
    "while queue:\n",
    "    idx += k - 1  # k-1번째 인덱스까지 건너뛰기\n",
    "    if idx >= len(queue):  # 인덱스가 범위를 넘어갈 경우\n",
    "        idx %= len(queue)  # 나머지 연산을 통해 인덱스 계산\n",
    "    res.append(str(queue.pop(idx)))  # k번째 수 제거 후 결과 배열에 추가\n",
    "\n",
    "# 결과 출력\n",
    "print(\"<\", \", \".join(res), \">\", sep=\"\")"
   ]
  },
  {
   "cell_type": "code",
   "execution_count": null,
   "metadata": {},
   "outputs": [],
   "source": [
    "# 덱 2\n",
    "import sys\n",
    "from collections import deque\n",
    "n = int(input())\n",
    "\n",
    "dequeue = deque()\n",
    "for i in range(n):\n",
    "    num = list(map(int, sys.stdin.readline().strip().split()))\n",
    "    l = len(dequeue)\n",
    "    if num[0] == 1:\n",
    "        dequeue.appendleft(num[1])\n",
    "    elif num[0] == 2:\n",
    "        dequeue.append(num[1])\n",
    "    elif num[0] == 3:\n",
    "        print(dequeue.popleft() if l else -1)\n",
    "    elif num[0] == 4:\n",
    "        print(dequeue.pop() if l else -1)\n",
    "    elif num[0] == 5:\n",
    "        print(len(dequeue))\n",
    "    elif num[0] == 6:\n",
    "        print(0 if l else 1)\n",
    "    elif num[0] == 7:\n",
    "        print(dequeue[0] if l else -1)\n",
    "    elif num[0] == 8:\n",
    "        print(dequeue[-1] if l else -1)"
   ]
  },
  {
   "cell_type": "code",
   "execution_count": 26,
   "metadata": {},
   "outputs": [
    {
     "data": {
      "text/plain": [
       "True"
      ]
     },
     "execution_count": 26,
     "metadata": {},
     "output_type": "execute_result"
    }
   ],
   "source": []
  },
  {
   "cell_type": "code",
   "execution_count": null,
   "metadata": {},
   "outputs": [],
   "source": []
  }
 ],
 "metadata": {
  "kernelspec": {
   "display_name": "Python 3",
   "language": "python",
   "name": "python3"
  },
  "language_info": {
   "codemirror_mode": {
    "name": "ipython",
    "version": 3
   },
   "file_extension": ".py",
   "mimetype": "text/x-python",
   "name": "python",
   "nbconvert_exporter": "python",
   "pygments_lexer": "ipython3",
   "version": "3.9.13"
  }
 },
 "nbformat": 4,
 "nbformat_minor": 2
}
