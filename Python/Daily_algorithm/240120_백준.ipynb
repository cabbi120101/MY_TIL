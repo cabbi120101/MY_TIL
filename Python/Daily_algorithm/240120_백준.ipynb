{
 "cells": [
  {
   "cell_type": "markdown",
   "metadata": {},
   "source": [
    "### 시간 복잡도"
   ]
  },
  {
   "cell_type": "code",
   "execution_count": null,
   "metadata": {},
   "outputs": [],
   "source": [
    "# 알고리즘 수업 - 알고리즘의 수행 시간 1\n",
    "n = int(input())\n",
    "print(1)\n",
    "print(0)"
   ]
  },
  {
   "cell_type": "code",
   "execution_count": null,
   "metadata": {},
   "outputs": [],
   "source": [
    "# 알고리즘 수업 - 알고리즘의 수행 시간 2\n",
    "print(int(input()))\n",
    "print(1)"
   ]
  },
  {
   "cell_type": "code",
   "execution_count": null,
   "metadata": {},
   "outputs": [],
   "source": [
    "# 알고리즘 업 - 알고리즘의 수행 시간 3\n",
    "print(int(input())**2)\n",
    "print(2)"
   ]
  },
  {
   "cell_type": "code",
   "execution_count": 1,
   "metadata": {},
   "outputs": [
    {
     "name": "stdout",
     "output_type": "stream",
     "text": [
      "21\n",
      "2\n"
     ]
    }
   ],
   "source": [
    "# 알고리즘 업 - 알고리즘의 수행 시간 4\n",
    "\n",
    "print(sum(range(int(input()))))\n",
    "print(2)"
   ]
  },
  {
   "cell_type": "code",
   "execution_count": 3,
   "metadata": {},
   "outputs": [
    {
     "name": "stdout",
     "output_type": "stream",
     "text": [
      "343\n",
      "3\n"
     ]
    }
   ],
   "source": [
    "# 알고리즘 업 - 알고리즘의 수행 시간 5\n",
    "print(int(input())**3)\n",
    "print(3)"
   ]
  },
  {
   "cell_type": "code",
   "execution_count": null,
   "metadata": {},
   "outputs": [],
   "source": [
    "# 알고리즘 업 - 알고리즘의 수행 시간 6\n",
    "print(int(input())**3)\n",
    "print(3)"
   ]
  },
  {
   "cell_type": "code",
   "execution_count": 11,
   "metadata": {},
   "outputs": [
    {
     "name": "stdout",
     "output_type": "stream",
     "text": [
      "35\n",
      "3\n"
     ]
    }
   ],
   "source": [
    "n = int(input())\n",
    "ans = 0\n",
    "while n >= 0:\n",
    "    ans += sum(range(1,n-1))\n",
    "    n -= 1\n",
    "print(ans)\n",
    "print(3)"
   ]
  },
  {
   "cell_type": "code",
   "execution_count": 7,
   "metadata": {},
   "outputs": [
    {
     "name": "stdout",
     "output_type": "stream",
     "text": [
      "1 2 3\n",
      "1 2 4\n",
      "1 2 5\n",
      "1 2 6\n",
      "1 2 7\n",
      "1 3 4\n",
      "1 3 5\n",
      "1 3 6\n",
      "1 3 7\n",
      "1 4 5\n",
      "1 4 6\n",
      "1 4 7\n",
      "1 5 6\n",
      "1 5 7\n",
      "1 6 7\n",
      "2 3 4\n",
      "2 3 5\n",
      "2 3 6\n",
      "2 3 7\n",
      "2 4 5\n",
      "2 4 6\n",
      "2 4 7\n",
      "2 5 6\n",
      "2 5 7\n",
      "2 6 7\n",
      "3 4 5\n",
      "3 4 6\n",
      "3 4 7\n",
      "3 5 6\n",
      "3 5 7\n",
      "3 6 7\n",
      "4 5 6\n",
      "4 5 7\n",
      "4 6 7\n",
      "5 6 7\n",
      "1960\n",
      "35\n"
     ]
    }
   ],
   "source": [
    "sum1 = 0\n",
    "cnt = 0\n",
    "for i in range(1,6):\n",
    "    for j in range(i+1,7):\n",
    "        for k in range(j+1,8):\n",
    "            sum1 = sum1 + i*j*k\n",
    "            cnt += 1\n",
    "            print(i,j,k)\n",
    "print(sum)\n",
    "print(cnt)"
   ]
  },
  {
   "cell_type": "code",
   "execution_count": null,
   "metadata": {},
   "outputs": [],
   "source": []
  }
 ],
 "metadata": {
  "kernelspec": {
   "display_name": "Python 3",
   "language": "python",
   "name": "python3"
  },
  "language_info": {
   "codemirror_mode": {
    "name": "ipython",
    "version": 3
   },
   "file_extension": ".py",
   "mimetype": "text/x-python",
   "name": "python",
   "nbconvert_exporter": "python",
   "pygments_lexer": "ipython3",
   "version": "3.9.6"
  }
 },
 "nbformat": 4,
 "nbformat_minor": 2
}
